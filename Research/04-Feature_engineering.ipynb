{
 "cells": [
  {
   "cell_type": "code",
   "execution_count": 1,
   "metadata": {},
   "outputs": [],
   "source": [
    "import numpy as np\n",
    "import pandas as pd"
   ]
  },
  {
   "cell_type": "code",
   "execution_count": 2,
   "metadata": {},
   "outputs": [],
   "source": [
    "import matplotlib.pyplot as plt\n",
    "import seaborn as sns"
   ]
  },
  {
   "cell_type": "code",
   "execution_count": 3,
   "metadata": {},
   "outputs": [],
   "source": [
    "dataset = pd.read_csv(\"Data/cleaned_df.csv\")"
   ]
  },
  {
   "cell_type": "code",
   "execution_count": 4,
   "metadata": {},
   "outputs": [
    {
     "name": "stdout",
     "output_type": "stream",
     "text": [
      "<class 'pandas.core.frame.DataFrame'>\n",
      "RangeIndex: 696012 entries, 0 to 696011\n",
      "Data columns (total 20 columns):\n",
      " #   Column              Non-Null Count   Dtype  \n",
      "---  ------              --------------   -----  \n",
      " 0   Qualifications      696012 non-null  object \n",
      " 1   location            696012 non-null  object \n",
      " 2   Country             696012 non-null  object \n",
      " 3   Work Type           696012 non-null  object \n",
      " 4   Company Size        696012 non-null  int64  \n",
      " 5   Job Posting Date    696012 non-null  object \n",
      " 6   Preference          696012 non-null  object \n",
      " 7   Job Title           696012 non-null  object \n",
      " 8   Role                696012 non-null  object \n",
      " 9   Job Description     696012 non-null  object \n",
      " 10  skills              696012 non-null  object \n",
      " 11  Responsibilities    696012 non-null  object \n",
      " 12  Company             696012 non-null  object \n",
      " 13  Company Profile     696012 non-null  object \n",
      " 14  min_experience      696012 non-null  int64  \n",
      " 15  max_experience      696012 non-null  int64  \n",
      " 16  average_experience  696012 non-null  float64\n",
      " 17  min_salary          696012 non-null  int64  \n",
      " 18  max_salary          696012 non-null  int64  \n",
      " 19  average_salary      696012 non-null  float64\n",
      "dtypes: float64(2), int64(5), object(13)\n",
      "memory usage: 106.2+ MB\n"
     ]
    }
   ],
   "source": [
    "dataset.info()"
   ]
  },
  {
   "cell_type": "code",
   "execution_count": 5,
   "metadata": {},
   "outputs": [
    {
     "name": "stdout",
     "output_type": "stream",
     "text": [
      "Qualifications: 10\n",
      "location: 214\n",
      "Country: 216\n",
      "Work Type: 5\n",
      "Job Posting Date: 731\n",
      "Preference: 3\n",
      "Job Title: 147\n",
      "Role: 376\n",
      "Job Description: 376\n",
      "skills: 376\n",
      "Responsibilities: 375\n",
      "Company: 885\n",
      "Company Profile: 884\n"
     ]
    }
   ],
   "source": [
    "for col in dataset.columns:\n",
    "    if dataset[col].dtype == \"object\":\n",
    "        print(f\"{col}: {len(dataset[col].value_counts().keys())}\")"
   ]
  },
  {
   "cell_type": "code",
   "execution_count": 6,
   "metadata": {},
   "outputs": [
    {
     "data": {
      "text/plain": [
       "array(['B.Tech', 'BA', 'MBA', 'MCA', 'M.Com', 'BCA', 'B.Com', 'PhD',\n",
       "       'BBA', 'M.Tech'], dtype=object)"
      ]
     },
     "execution_count": 6,
     "metadata": {},
     "output_type": "execute_result"
    }
   ],
   "source": [
    "dataset[\"Qualifications\"].unique()"
   ]
  },
  {
   "cell_type": "code",
   "execution_count": 7,
   "metadata": {},
   "outputs": [],
   "source": [
    "bachelor = [\"BCA\", \"BBA\", \"B.Tech\", \"B.Com\", \"BA\"]\n",
    "masters = [\"MBA\", \"MCA\", \"M.Com\", \"M.Tech\"]\n",
    "phd = [\"PhD\"]\n",
    "\n",
    "def map_qualification_to_level(qualifications):\n",
    "    if qualifications in bachelor:\n",
    "        return \"Bachelor\"\n",
    "    elif qualifications in masters:\n",
    "        return \"Master\"\n",
    "    else:\n",
    "        return \"PhD\""
   ]
  },
  {
   "cell_type": "code",
   "execution_count": 8,
   "metadata": {},
   "outputs": [
    {
     "data": {
      "text/html": [
       "<div>\n",
       "<style scoped>\n",
       "    .dataframe tbody tr th:only-of-type {\n",
       "        vertical-align: middle;\n",
       "    }\n",
       "\n",
       "    .dataframe tbody tr th {\n",
       "        vertical-align: top;\n",
       "    }\n",
       "\n",
       "    .dataframe thead th {\n",
       "        text-align: right;\n",
       "    }\n",
       "</style>\n",
       "<table border=\"1\" class=\"dataframe\">\n",
       "  <thead>\n",
       "    <tr style=\"text-align: right;\">\n",
       "      <th></th>\n",
       "      <th>Level</th>\n",
       "      <th>Qualifications</th>\n",
       "    </tr>\n",
       "  </thead>\n",
       "  <tbody>\n",
       "    <tr>\n",
       "      <th>0</th>\n",
       "      <td>Bachelor</td>\n",
       "      <td>B.Tech</td>\n",
       "    </tr>\n",
       "    <tr>\n",
       "      <th>1</th>\n",
       "      <td>Bachelor</td>\n",
       "      <td>BA</td>\n",
       "    </tr>\n",
       "    <tr>\n",
       "      <th>2</th>\n",
       "      <td>Bachelor</td>\n",
       "      <td>B.Tech</td>\n",
       "    </tr>\n",
       "    <tr>\n",
       "      <th>3</th>\n",
       "      <td>Bachelor</td>\n",
       "      <td>B.Tech</td>\n",
       "    </tr>\n",
       "    <tr>\n",
       "      <th>4</th>\n",
       "      <td>Master</td>\n",
       "      <td>MBA</td>\n",
       "    </tr>\n",
       "  </tbody>\n",
       "</table>\n",
       "</div>"
      ],
      "text/plain": [
       "      Level Qualifications\n",
       "0  Bachelor         B.Tech\n",
       "1  Bachelor             BA\n",
       "2  Bachelor         B.Tech\n",
       "3  Bachelor         B.Tech\n",
       "4    Master            MBA"
      ]
     },
     "execution_count": 8,
     "metadata": {},
     "output_type": "execute_result"
    }
   ],
   "source": [
    "dataset[\"Level\"] = dataset[\"Qualifications\"].apply(map_qualification_to_level)\n",
    "\n",
    "dataset[[\"Level\", \"Qualifications\"]].head()"
   ]
  },
  {
   "cell_type": "code",
   "execution_count": 9,
   "metadata": {},
   "outputs": [],
   "source": [
    "bins = [0, 20000, 50000, 100000]\n",
    "labels = ['small', 'medium', 'large']\n",
    "\n",
    "dataset[\"Company_size\"] = pd.cut(dataset[\"Company Size\"], bins = bins, labels = labels, right = True, include_lowest = True)"
   ]
  },
  {
   "cell_type": "code",
   "execution_count": 10,
   "metadata": {},
   "outputs": [
    {
     "name": "stdout",
     "output_type": "stream",
     "text": [
      "<class 'pandas.core.frame.DataFrame'>\n",
      "RangeIndex: 696012 entries, 0 to 696011\n",
      "Data columns (total 22 columns):\n",
      " #   Column              Non-Null Count   Dtype   \n",
      "---  ------              --------------   -----   \n",
      " 0   Qualifications      696012 non-null  object  \n",
      " 1   location            696012 non-null  object  \n",
      " 2   Country             696012 non-null  object  \n",
      " 3   Work Type           696012 non-null  object  \n",
      " 4   Company Size        696012 non-null  int64   \n",
      " 5   Job Posting Date    696012 non-null  object  \n",
      " 6   Preference          696012 non-null  object  \n",
      " 7   Job Title           696012 non-null  object  \n",
      " 8   Role                696012 non-null  object  \n",
      " 9   Job Description     696012 non-null  object  \n",
      " 10  skills              696012 non-null  object  \n",
      " 11  Responsibilities    696012 non-null  object  \n",
      " 12  Company             696012 non-null  object  \n",
      " 13  Company Profile     696012 non-null  object  \n",
      " 14  min_experience      696012 non-null  int64   \n",
      " 15  max_experience      696012 non-null  int64   \n",
      " 16  average_experience  696012 non-null  float64 \n",
      " 17  min_salary          696012 non-null  int64   \n",
      " 18  max_salary          696012 non-null  int64   \n",
      " 19  average_salary      696012 non-null  float64 \n",
      " 20  Level               696012 non-null  object  \n",
      " 21  Company_size        497769 non-null  category\n",
      "dtypes: category(1), float64(2), int64(5), object(14)\n",
      "memory usage: 112.2+ MB\n"
     ]
    }
   ],
   "source": [
    "dataset.info()"
   ]
  },
  {
   "cell_type": "code",
   "execution_count": 11,
   "metadata": {},
   "outputs": [
    {
     "data": {
      "text/plain": [
       "Index(['Qualifications', 'location', 'Country', 'Work Type', 'Company Size',\n",
       "       'Job Posting Date', 'Preference', 'Job Title', 'Role',\n",
       "       'Job Description', 'skills', 'Responsibilities', 'Company',\n",
       "       'Company Profile', 'min_experience', 'max_experience',\n",
       "       'average_experience', 'min_salary', 'max_salary', 'average_salary',\n",
       "       'Level', 'Company_size'],\n",
       "      dtype='object')"
      ]
     },
     "execution_count": 11,
     "metadata": {},
     "output_type": "execute_result"
    }
   ],
   "source": [
    "dataset.columns"
   ]
  },
  {
   "cell_type": "code",
   "execution_count": 12,
   "metadata": {},
   "outputs": [
    {
     "data": {
      "text/html": [
       "<div>\n",
       "<style scoped>\n",
       "    .dataframe tbody tr th:only-of-type {\n",
       "        vertical-align: middle;\n",
       "    }\n",
       "\n",
       "    .dataframe tbody tr th {\n",
       "        vertical-align: top;\n",
       "    }\n",
       "\n",
       "    .dataframe thead th {\n",
       "        text-align: right;\n",
       "    }\n",
       "</style>\n",
       "<table border=\"1\" class=\"dataframe\">\n",
       "  <thead>\n",
       "    <tr style=\"text-align: right;\">\n",
       "      <th></th>\n",
       "      <th>Qualifications</th>\n",
       "      <th>location</th>\n",
       "      <th>Country</th>\n",
       "      <th>Work Type</th>\n",
       "      <th>Company Size</th>\n",
       "      <th>Job Posting Date</th>\n",
       "      <th>Preference</th>\n",
       "      <th>Job Title</th>\n",
       "      <th>Role</th>\n",
       "      <th>Job Description</th>\n",
       "      <th>skills</th>\n",
       "    </tr>\n",
       "  </thead>\n",
       "  <tbody>\n",
       "    <tr>\n",
       "      <th>0</th>\n",
       "      <td>B.Tech</td>\n",
       "      <td>Bern</td>\n",
       "      <td>Switzerland</td>\n",
       "      <td>Part-Time</td>\n",
       "      <td>85230</td>\n",
       "      <td>2023-01-11</td>\n",
       "      <td>Female</td>\n",
       "      <td>Project Coordinator</td>\n",
       "      <td>Construction Project Coordinator</td>\n",
       "      <td>Construction Project Coordinators assist in ma...</td>\n",
       "      <td>['Construction', 'project', 'management', 'Bui...</td>\n",
       "    </tr>\n",
       "    <tr>\n",
       "      <th>1</th>\n",
       "      <td>BA</td>\n",
       "      <td>Stockholm</td>\n",
       "      <td>Sweden</td>\n",
       "      <td>Contract</td>\n",
       "      <td>129985</td>\n",
       "      <td>2022-01-18</td>\n",
       "      <td>Both</td>\n",
       "      <td>Procurement Specialist</td>\n",
       "      <td>Procurement Coordinator</td>\n",
       "      <td>Procurement Coordinators assist in procurement...</td>\n",
       "      <td>['Procurement', 'processes', 'Purchase', 'orde...</td>\n",
       "    </tr>\n",
       "    <tr>\n",
       "      <th>2</th>\n",
       "      <td>B.Tech</td>\n",
       "      <td>Male</td>\n",
       "      <td>Maldives</td>\n",
       "      <td>Contract</td>\n",
       "      <td>24650</td>\n",
       "      <td>2022-04-08</td>\n",
       "      <td>Male</td>\n",
       "      <td>Software Engineer</td>\n",
       "      <td>Frontend Developer</td>\n",
       "      <td>A Frontend Developer is responsible for design...</td>\n",
       "      <td>['Proficiency', 'HTML', 'CSS', 'JavaScript', '...</td>\n",
       "    </tr>\n",
       "    <tr>\n",
       "      <th>3</th>\n",
       "      <td>B.Tech</td>\n",
       "      <td>New Delhi</td>\n",
       "      <td>India</td>\n",
       "      <td>Intern</td>\n",
       "      <td>52871</td>\n",
       "      <td>2022-02-13</td>\n",
       "      <td>Female</td>\n",
       "      <td>Marketing Specialist</td>\n",
       "      <td>Marketing Analytics Specialist</td>\n",
       "      <td>Marketing Analytics Specialists analyze market...</td>\n",
       "      <td>['Marketing', 'analytics', 'Data', 'analysis',...</td>\n",
       "    </tr>\n",
       "    <tr>\n",
       "      <th>4</th>\n",
       "      <td>MBA</td>\n",
       "      <td>Managua</td>\n",
       "      <td>Nicaragua</td>\n",
       "      <td>Full-Time</td>\n",
       "      <td>96905</td>\n",
       "      <td>2021-12-13</td>\n",
       "      <td>Female</td>\n",
       "      <td>Finance Manager</td>\n",
       "      <td>Accounting Manager</td>\n",
       "      <td>Accounting Managers supervise accounting teams...</td>\n",
       "      <td>['Accounting', 'principles', 'Financial', 'rep...</td>\n",
       "    </tr>\n",
       "  </tbody>\n",
       "</table>\n",
       "</div>"
      ],
      "text/plain": [
       "  Qualifications   location      Country  Work Type  Company Size  \\\n",
       "0         B.Tech       Bern  Switzerland  Part-Time         85230   \n",
       "1             BA  Stockholm       Sweden   Contract        129985   \n",
       "2         B.Tech       Male     Maldives   Contract         24650   \n",
       "3         B.Tech  New Delhi        India     Intern         52871   \n",
       "4            MBA    Managua    Nicaragua  Full-Time         96905   \n",
       "\n",
       "  Job Posting Date Preference               Job Title  \\\n",
       "0       2023-01-11     Female     Project Coordinator   \n",
       "1       2022-01-18       Both  Procurement Specialist   \n",
       "2       2022-04-08       Male       Software Engineer   \n",
       "3       2022-02-13     Female    Marketing Specialist   \n",
       "4       2021-12-13     Female         Finance Manager   \n",
       "\n",
       "                               Role  \\\n",
       "0  Construction Project Coordinator   \n",
       "1           Procurement Coordinator   \n",
       "2                Frontend Developer   \n",
       "3    Marketing Analytics Specialist   \n",
       "4                Accounting Manager   \n",
       "\n",
       "                                     Job Description  \\\n",
       "0  Construction Project Coordinators assist in ma...   \n",
       "1  Procurement Coordinators assist in procurement...   \n",
       "2  A Frontend Developer is responsible for design...   \n",
       "3  Marketing Analytics Specialists analyze market...   \n",
       "4  Accounting Managers supervise accounting teams...   \n",
       "\n",
       "                                              skills  \n",
       "0  ['Construction', 'project', 'management', 'Bui...  \n",
       "1  ['Procurement', 'processes', 'Purchase', 'orde...  \n",
       "2  ['Proficiency', 'HTML', 'CSS', 'JavaScript', '...  \n",
       "3  ['Marketing', 'analytics', 'Data', 'analysis',...  \n",
       "4  ['Accounting', 'principles', 'Financial', 'rep...  "
      ]
     },
     "execution_count": 12,
     "metadata": {},
     "output_type": "execute_result"
    }
   ],
   "source": [
    "dataset[['Qualifications', 'location', 'Country', 'Work Type', 'Company Size',\n",
    "       'Job Posting Date', 'Preference', 'Job Title', 'Role',\n",
    "       'Job Description', 'skills']].head()"
   ]
  },
  {
   "cell_type": "code",
   "execution_count": 13,
   "metadata": {},
   "outputs": [],
   "source": [
    "drop_cols = [\"location\", \"Country\", \"Job Posting Date\", \"Role\", \"Job Description\", \"Company\", \"Company Profile\"]"
   ]
  },
  {
   "cell_type": "code",
   "execution_count": 14,
   "metadata": {},
   "outputs": [],
   "source": [
    "dataset.drop(drop_cols, axis = 1, inplace = True)"
   ]
  },
  {
   "cell_type": "code",
   "execution_count": 15,
   "metadata": {},
   "outputs": [
    {
     "name": "stdout",
     "output_type": "stream",
     "text": [
      "<class 'pandas.core.frame.DataFrame'>\n",
      "RangeIndex: 696012 entries, 0 to 696011\n",
      "Data columns (total 15 columns):\n",
      " #   Column              Non-Null Count   Dtype   \n",
      "---  ------              --------------   -----   \n",
      " 0   Qualifications      696012 non-null  object  \n",
      " 1   Work Type           696012 non-null  object  \n",
      " 2   Company Size        696012 non-null  int64   \n",
      " 3   Preference          696012 non-null  object  \n",
      " 4   Job Title           696012 non-null  object  \n",
      " 5   skills              696012 non-null  object  \n",
      " 6   Responsibilities    696012 non-null  object  \n",
      " 7   min_experience      696012 non-null  int64   \n",
      " 8   max_experience      696012 non-null  int64   \n",
      " 9   average_experience  696012 non-null  float64 \n",
      " 10  min_salary          696012 non-null  int64   \n",
      " 11  max_salary          696012 non-null  int64   \n",
      " 12  average_salary      696012 non-null  float64 \n",
      " 13  Level               696012 non-null  object  \n",
      " 14  Company_size        497769 non-null  category\n",
      "dtypes: category(1), float64(2), int64(5), object(7)\n",
      "memory usage: 75.0+ MB\n"
     ]
    }
   ],
   "source": [
    "dataset.info()"
   ]
  },
  {
   "cell_type": "code",
   "execution_count": 16,
   "metadata": {},
   "outputs": [
    {
     "data": {
      "text/html": [
       "<div>\n",
       "<style scoped>\n",
       "    .dataframe tbody tr th:only-of-type {\n",
       "        vertical-align: middle;\n",
       "    }\n",
       "\n",
       "    .dataframe tbody tr th {\n",
       "        vertical-align: top;\n",
       "    }\n",
       "\n",
       "    .dataframe thead th {\n",
       "        text-align: right;\n",
       "    }\n",
       "</style>\n",
       "<table border=\"1\" class=\"dataframe\">\n",
       "  <thead>\n",
       "    <tr style=\"text-align: right;\">\n",
       "      <th></th>\n",
       "      <th>Qualifications</th>\n",
       "      <th>Work Type</th>\n",
       "      <th>Company Size</th>\n",
       "      <th>Preference</th>\n",
       "      <th>Job Title</th>\n",
       "      <th>skills</th>\n",
       "      <th>Responsibilities</th>\n",
       "      <th>min_experience</th>\n",
       "      <th>max_experience</th>\n",
       "      <th>average_experience</th>\n",
       "      <th>min_salary</th>\n",
       "      <th>max_salary</th>\n",
       "      <th>average_salary</th>\n",
       "      <th>Level</th>\n",
       "      <th>Company_size</th>\n",
       "    </tr>\n",
       "  </thead>\n",
       "  <tbody>\n",
       "    <tr>\n",
       "      <th>0</th>\n",
       "      <td>B.Tech</td>\n",
       "      <td>Part-Time</td>\n",
       "      <td>85230</td>\n",
       "      <td>Female</td>\n",
       "      <td>Project Coordinator</td>\n",
       "      <td>['Construction', 'project', 'management', 'Bui...</td>\n",
       "      <td>Coordinate construction projects, including pe...</td>\n",
       "      <td>1</td>\n",
       "      <td>9</td>\n",
       "      <td>5.0</td>\n",
       "      <td>55000</td>\n",
       "      <td>96000</td>\n",
       "      <td>75500.0</td>\n",
       "      <td>Bachelor</td>\n",
       "      <td>large</td>\n",
       "    </tr>\n",
       "    <tr>\n",
       "      <th>1</th>\n",
       "      <td>BA</td>\n",
       "      <td>Contract</td>\n",
       "      <td>129985</td>\n",
       "      <td>Both</td>\n",
       "      <td>Procurement Specialist</td>\n",
       "      <td>['Procurement', 'processes', 'Purchase', 'orde...</td>\n",
       "      <td>Support procurement activities, such as purcha...</td>\n",
       "      <td>1</td>\n",
       "      <td>13</td>\n",
       "      <td>7.0</td>\n",
       "      <td>55000</td>\n",
       "      <td>92000</td>\n",
       "      <td>73500.0</td>\n",
       "      <td>Bachelor</td>\n",
       "      <td>NaN</td>\n",
       "    </tr>\n",
       "    <tr>\n",
       "      <th>2</th>\n",
       "      <td>B.Tech</td>\n",
       "      <td>Contract</td>\n",
       "      <td>24650</td>\n",
       "      <td>Male</td>\n",
       "      <td>Software Engineer</td>\n",
       "      <td>['Proficiency', 'HTML', 'CSS', 'JavaScript', '...</td>\n",
       "      <td>Design and implement user interfaces for web a...</td>\n",
       "      <td>3</td>\n",
       "      <td>11</td>\n",
       "      <td>7.0</td>\n",
       "      <td>55000</td>\n",
       "      <td>127000</td>\n",
       "      <td>91000.0</td>\n",
       "      <td>Bachelor</td>\n",
       "      <td>medium</td>\n",
       "    </tr>\n",
       "    <tr>\n",
       "      <th>3</th>\n",
       "      <td>B.Tech</td>\n",
       "      <td>Intern</td>\n",
       "      <td>52871</td>\n",
       "      <td>Female</td>\n",
       "      <td>Marketing Specialist</td>\n",
       "      <td>['Marketing', 'analytics', 'Data', 'analysis',...</td>\n",
       "      <td>Analyze marketing data and generate insights t...</td>\n",
       "      <td>4</td>\n",
       "      <td>10</td>\n",
       "      <td>7.0</td>\n",
       "      <td>58000</td>\n",
       "      <td>85000</td>\n",
       "      <td>71500.0</td>\n",
       "      <td>Bachelor</td>\n",
       "      <td>large</td>\n",
       "    </tr>\n",
       "    <tr>\n",
       "      <th>4</th>\n",
       "      <td>MBA</td>\n",
       "      <td>Full-Time</td>\n",
       "      <td>96905</td>\n",
       "      <td>Female</td>\n",
       "      <td>Finance Manager</td>\n",
       "      <td>['Accounting', 'principles', 'Financial', 'rep...</td>\n",
       "      <td>Manage accounting functions, including financi...</td>\n",
       "      <td>3</td>\n",
       "      <td>10</td>\n",
       "      <td>6.5</td>\n",
       "      <td>62000</td>\n",
       "      <td>93000</td>\n",
       "      <td>77500.0</td>\n",
       "      <td>Master</td>\n",
       "      <td>large</td>\n",
       "    </tr>\n",
       "  </tbody>\n",
       "</table>\n",
       "</div>"
      ],
      "text/plain": [
       "  Qualifications  Work Type  Company Size Preference               Job Title  \\\n",
       "0         B.Tech  Part-Time         85230     Female     Project Coordinator   \n",
       "1             BA   Contract        129985       Both  Procurement Specialist   \n",
       "2         B.Tech   Contract         24650       Male       Software Engineer   \n",
       "3         B.Tech     Intern         52871     Female    Marketing Specialist   \n",
       "4            MBA  Full-Time         96905     Female         Finance Manager   \n",
       "\n",
       "                                              skills  \\\n",
       "0  ['Construction', 'project', 'management', 'Bui...   \n",
       "1  ['Procurement', 'processes', 'Purchase', 'orde...   \n",
       "2  ['Proficiency', 'HTML', 'CSS', 'JavaScript', '...   \n",
       "3  ['Marketing', 'analytics', 'Data', 'analysis',...   \n",
       "4  ['Accounting', 'principles', 'Financial', 'rep...   \n",
       "\n",
       "                                    Responsibilities  min_experience  \\\n",
       "0  Coordinate construction projects, including pe...               1   \n",
       "1  Support procurement activities, such as purcha...               1   \n",
       "2  Design and implement user interfaces for web a...               3   \n",
       "3  Analyze marketing data and generate insights t...               4   \n",
       "4  Manage accounting functions, including financi...               3   \n",
       "\n",
       "   max_experience  average_experience  min_salary  max_salary  average_salary  \\\n",
       "0               9                 5.0       55000       96000         75500.0   \n",
       "1              13                 7.0       55000       92000         73500.0   \n",
       "2              11                 7.0       55000      127000         91000.0   \n",
       "3              10                 7.0       58000       85000         71500.0   \n",
       "4              10                 6.5       62000       93000         77500.0   \n",
       "\n",
       "      Level Company_size  \n",
       "0  Bachelor        large  \n",
       "1  Bachelor          NaN  \n",
       "2  Bachelor       medium  \n",
       "3  Bachelor        large  \n",
       "4    Master        large  "
      ]
     },
     "execution_count": 16,
     "metadata": {},
     "output_type": "execute_result"
    }
   ],
   "source": [
    "dataset.head()"
   ]
  },
  {
   "cell_type": "code",
   "execution_count": 17,
   "metadata": {},
   "outputs": [],
   "source": [
    "# data = pd.get_dummies(dataset, columns = [\"skills\"])"
   ]
  },
  {
   "cell_type": "code",
   "execution_count": 18,
   "metadata": {},
   "outputs": [
    {
     "data": {
      "text/plain": [
       "(696012, 15)"
      ]
     },
     "execution_count": 18,
     "metadata": {},
     "output_type": "execute_result"
    }
   ],
   "source": [
    "dataset.shape"
   ]
  },
  {
   "cell_type": "code",
   "execution_count": 19,
   "metadata": {},
   "outputs": [
    {
     "data": {
      "text/plain": [
       "(696012, 15)"
      ]
     },
     "execution_count": 19,
     "metadata": {},
     "output_type": "execute_result"
    }
   ],
   "source": [
    "dataset.shape"
   ]
  },
  {
   "cell_type": "code",
   "execution_count": 20,
   "metadata": {},
   "outputs": [],
   "source": [
    "# Normalize and tokenize the skills\n",
    "dataset['skills'] = dataset['skills'].apply(lambda x: [skill.lower().strip() for skill in x.split()])"
   ]
  },
  {
   "cell_type": "code",
   "execution_count": 21,
   "metadata": {},
   "outputs": [],
   "source": [
    "def load_glove_embeddings(file_path):\n",
    "    embeddings_index = {}\n",
    "    with open(file_path, 'r', encoding='utf-8') as f:\n",
    "        for line in f:\n",
    "            values = line.split()\n",
    "            word = values[0]\n",
    "            coefs = np.asarray(values[1:], dtype='float32')\n",
    "            embeddings_index[word] = coefs\n",
    "    return embeddings_index"
   ]
  },
  {
   "cell_type": "code",
   "execution_count": 22,
   "metadata": {},
   "outputs": [],
   "source": [
    "glove_embeddings = load_glove_embeddings('Data/glove.6B.100d.txt')"
   ]
  },
  {
   "cell_type": "code",
   "execution_count": 23,
   "metadata": {},
   "outputs": [],
   "source": [
    "def get_skill_embedding(skill, embeddings_index, embedding_dim=100):\n",
    "    return embeddings_index.get(skill, np.zeros(embedding_dim))\n",
    "\n",
    "# Create embeddings for each skill\n",
    "dataset['skill_embeddings'] = dataset['skills'].apply(lambda skills: \n",
    "    [get_skill_embedding(skill, glove_embeddings) for skill in skills])"
   ]
  },
  {
   "cell_type": "code",
   "execution_count": 24,
   "metadata": {},
   "outputs": [],
   "source": [
    "def aggregate_embeddings(skill_embeddings):\n",
    "    if len(skill_embeddings) == 0:\n",
    "        return np.zeros(len(skill_embeddings[0]))\n",
    "    return np.mean(skill_embeddings, axis=0)"
   ]
  },
  {
   "cell_type": "code",
   "execution_count": 25,
   "metadata": {},
   "outputs": [
    {
     "name": "stdout",
     "output_type": "stream",
     "text": [
      "(696012, 100)\n"
     ]
    }
   ],
   "source": [
    "# Aggregate embeddings for each job posting\n",
    "dataset['aggregated_skill_embeddings'] = dataset['skill_embeddings'].apply(aggregate_embeddings)\n",
    "\n",
    "# Convert the aggregated skill embeddings into a matrix\n",
    "embeddings_matrix = np.vstack(dataset['aggregated_skill_embeddings'].values)\n",
    "\n",
    "# Display the shape of the embeddings matrix\n",
    "print(embeddings_matrix.shape)"
   ]
  },
  {
   "cell_type": "code",
   "execution_count": 26,
   "metadata": {},
   "outputs": [],
   "source": [
    "from sklearn.decomposition import PCA"
   ]
  },
  {
   "cell_type": "code",
   "execution_count": 27,
   "metadata": {},
   "outputs": [
    {
     "name": "stderr",
     "output_type": "stream",
     "text": [
      "c:\\Users\\rahul\\AppData\\Local\\Programs\\Python\\Python311\\Lib\\site-packages\\sklearn\\decomposition\\_pca.py:685: RuntimeWarning: invalid value encountered in divide\n",
      "  self.explained_variance_ratio_ = self.explained_variance_ / total_var\n"
     ]
    },
    {
     "name": "stdout",
     "output_type": "stream",
     "text": [
      "(696012, 57)\n"
     ]
    }
   ],
   "source": [
    "pca = PCA(n_components=40)\n",
    "reduced_data = pca.fit_transform(embeddings_matrix)\n",
    "\n",
    "# Convert the reduced NumPy array to a DataFrame\n",
    "reduced_df = pd.DataFrame(reduced_data, columns=[f'feature_{i+1}' for i in range(reduced_data.shape[1])])\n",
    "\n",
    "# Concatenate the original DataFrame with the reduced DataFrame\n",
    "merged_df = pd.concat([dataset, reduced_df], axis=1)\n",
    "\n",
    "print(merged_df.shape)"
   ]
  },
  {
   "cell_type": "code",
   "execution_count": 28,
   "metadata": {},
   "outputs": [
    {
     "data": {
      "text/plain": [
       "Index(['Qualifications', 'Work Type', 'Company Size', 'Preference',\n",
       "       'Job Title', 'skills', 'Responsibilities', 'min_experience',\n",
       "       'max_experience', 'average_experience', 'min_salary', 'max_salary',\n",
       "       'average_salary', 'Level', 'Company_size', 'skill_embeddings',\n",
       "       'aggregated_skill_embeddings', 'feature_1', 'feature_2', 'feature_3',\n",
       "       'feature_4', 'feature_5', 'feature_6', 'feature_7', 'feature_8',\n",
       "       'feature_9', 'feature_10', 'feature_11', 'feature_12', 'feature_13',\n",
       "       'feature_14', 'feature_15', 'feature_16', 'feature_17', 'feature_18',\n",
       "       'feature_19', 'feature_20', 'feature_21', 'feature_22', 'feature_23',\n",
       "       'feature_24', 'feature_25', 'feature_26', 'feature_27', 'feature_28',\n",
       "       'feature_29', 'feature_30', 'feature_31', 'feature_32', 'feature_33',\n",
       "       'feature_34', 'feature_35', 'feature_36', 'feature_37', 'feature_38',\n",
       "       'feature_39', 'feature_40'],\n",
       "      dtype='object')"
      ]
     },
     "execution_count": 28,
     "metadata": {},
     "output_type": "execute_result"
    }
   ],
   "source": [
    "merged_df.columns"
   ]
  },
  {
   "cell_type": "code",
   "execution_count": 29,
   "metadata": {},
   "outputs": [],
   "source": [
    "dataset = merged_df.copy()"
   ]
  },
  {
   "cell_type": "code",
   "execution_count": 30,
   "metadata": {},
   "outputs": [],
   "source": [
    "cols = [\"Qualifications\", \"Work Type\", \"Company Size\", \"Preference\", \"Job Title\",\n",
    "        \"min_experience\",\"max_experience\", \"average_experience\", \"min_salary\", \n",
    "        \"max_salary\",\"average_salary\", \"Level\", \"Company_size\",\n",
    "        \"feature_1\", \"feature_2\", \"feature_3\",\n",
    "        \"feature_4\", \"feature_5\", \"feature_6\", \"feature_7\", \"feature_8\",\n",
    "        \"feature_9\", \"feature_10\", \"feature_11\", \"feature_12\", \"feature_13\",\n",
    "        \"feature_14\", \"feature_15\", \"feature_16\", \"feature_17\", \"feature_18\",\n",
    "        \"feature_19\", \"feature_20\", \"feature_21\", \"feature_22\", \"feature_23\",\n",
    "        \"feature_24\", \"feature_25\", \"feature_26\", \"feature_27\", \"feature_28\",\n",
    "        \"feature_29\", \"feature_30\", \"feature_31\", \"feature_32\", \"feature_33\",\n",
    "        \"feature_34\", \"feature_35\", \"feature_36\", \"feature_37\", \"feature_38\",\n",
    "        \"feature_39\", \"feature_40\"]\n",
    "\n",
    "dataset = dataset[cols]"
   ]
  },
  {
   "cell_type": "code",
   "execution_count": 31,
   "metadata": {},
   "outputs": [
    {
     "data": {
      "text/html": [
       "<div>\n",
       "<style scoped>\n",
       "    .dataframe tbody tr th:only-of-type {\n",
       "        vertical-align: middle;\n",
       "    }\n",
       "\n",
       "    .dataframe tbody tr th {\n",
       "        vertical-align: top;\n",
       "    }\n",
       "\n",
       "    .dataframe thead th {\n",
       "        text-align: right;\n",
       "    }\n",
       "</style>\n",
       "<table border=\"1\" class=\"dataframe\">\n",
       "  <thead>\n",
       "    <tr style=\"text-align: right;\">\n",
       "      <th></th>\n",
       "      <th>Qualifications</th>\n",
       "      <th>Work Type</th>\n",
       "      <th>Company Size</th>\n",
       "      <th>Preference</th>\n",
       "      <th>Job Title</th>\n",
       "      <th>min_experience</th>\n",
       "      <th>max_experience</th>\n",
       "      <th>average_experience</th>\n",
       "      <th>min_salary</th>\n",
       "      <th>max_salary</th>\n",
       "      <th>...</th>\n",
       "      <th>feature_31</th>\n",
       "      <th>feature_32</th>\n",
       "      <th>feature_33</th>\n",
       "      <th>feature_34</th>\n",
       "      <th>feature_35</th>\n",
       "      <th>feature_36</th>\n",
       "      <th>feature_37</th>\n",
       "      <th>feature_38</th>\n",
       "      <th>feature_39</th>\n",
       "      <th>feature_40</th>\n",
       "    </tr>\n",
       "  </thead>\n",
       "  <tbody>\n",
       "    <tr>\n",
       "      <th>0</th>\n",
       "      <td>B.Tech</td>\n",
       "      <td>Part-Time</td>\n",
       "      <td>85230</td>\n",
       "      <td>Female</td>\n",
       "      <td>Project Coordinator</td>\n",
       "      <td>1</td>\n",
       "      <td>9</td>\n",
       "      <td>5.0</td>\n",
       "      <td>55000</td>\n",
       "      <td>96000</td>\n",
       "      <td>...</td>\n",
       "      <td>0.0</td>\n",
       "      <td>0.0</td>\n",
       "      <td>0.0</td>\n",
       "      <td>0.0</td>\n",
       "      <td>0.0</td>\n",
       "      <td>0.0</td>\n",
       "      <td>0.0</td>\n",
       "      <td>0.0</td>\n",
       "      <td>0.0</td>\n",
       "      <td>0.0</td>\n",
       "    </tr>\n",
       "    <tr>\n",
       "      <th>1</th>\n",
       "      <td>BA</td>\n",
       "      <td>Contract</td>\n",
       "      <td>129985</td>\n",
       "      <td>Both</td>\n",
       "      <td>Procurement Specialist</td>\n",
       "      <td>1</td>\n",
       "      <td>13</td>\n",
       "      <td>7.0</td>\n",
       "      <td>55000</td>\n",
       "      <td>92000</td>\n",
       "      <td>...</td>\n",
       "      <td>0.0</td>\n",
       "      <td>0.0</td>\n",
       "      <td>0.0</td>\n",
       "      <td>0.0</td>\n",
       "      <td>0.0</td>\n",
       "      <td>0.0</td>\n",
       "      <td>0.0</td>\n",
       "      <td>0.0</td>\n",
       "      <td>0.0</td>\n",
       "      <td>0.0</td>\n",
       "    </tr>\n",
       "    <tr>\n",
       "      <th>2</th>\n",
       "      <td>B.Tech</td>\n",
       "      <td>Contract</td>\n",
       "      <td>24650</td>\n",
       "      <td>Male</td>\n",
       "      <td>Software Engineer</td>\n",
       "      <td>3</td>\n",
       "      <td>11</td>\n",
       "      <td>7.0</td>\n",
       "      <td>55000</td>\n",
       "      <td>127000</td>\n",
       "      <td>...</td>\n",
       "      <td>0.0</td>\n",
       "      <td>0.0</td>\n",
       "      <td>0.0</td>\n",
       "      <td>0.0</td>\n",
       "      <td>0.0</td>\n",
       "      <td>0.0</td>\n",
       "      <td>0.0</td>\n",
       "      <td>0.0</td>\n",
       "      <td>0.0</td>\n",
       "      <td>0.0</td>\n",
       "    </tr>\n",
       "    <tr>\n",
       "      <th>3</th>\n",
       "      <td>B.Tech</td>\n",
       "      <td>Intern</td>\n",
       "      <td>52871</td>\n",
       "      <td>Female</td>\n",
       "      <td>Marketing Specialist</td>\n",
       "      <td>4</td>\n",
       "      <td>10</td>\n",
       "      <td>7.0</td>\n",
       "      <td>58000</td>\n",
       "      <td>85000</td>\n",
       "      <td>...</td>\n",
       "      <td>0.0</td>\n",
       "      <td>0.0</td>\n",
       "      <td>0.0</td>\n",
       "      <td>0.0</td>\n",
       "      <td>0.0</td>\n",
       "      <td>0.0</td>\n",
       "      <td>0.0</td>\n",
       "      <td>0.0</td>\n",
       "      <td>0.0</td>\n",
       "      <td>0.0</td>\n",
       "    </tr>\n",
       "    <tr>\n",
       "      <th>4</th>\n",
       "      <td>MBA</td>\n",
       "      <td>Full-Time</td>\n",
       "      <td>96905</td>\n",
       "      <td>Female</td>\n",
       "      <td>Finance Manager</td>\n",
       "      <td>3</td>\n",
       "      <td>10</td>\n",
       "      <td>6.5</td>\n",
       "      <td>62000</td>\n",
       "      <td>93000</td>\n",
       "      <td>...</td>\n",
       "      <td>0.0</td>\n",
       "      <td>0.0</td>\n",
       "      <td>0.0</td>\n",
       "      <td>0.0</td>\n",
       "      <td>0.0</td>\n",
       "      <td>0.0</td>\n",
       "      <td>0.0</td>\n",
       "      <td>0.0</td>\n",
       "      <td>0.0</td>\n",
       "      <td>0.0</td>\n",
       "    </tr>\n",
       "  </tbody>\n",
       "</table>\n",
       "<p>5 rows × 53 columns</p>\n",
       "</div>"
      ],
      "text/plain": [
       "  Qualifications  Work Type  Company Size Preference               Job Title  \\\n",
       "0         B.Tech  Part-Time         85230     Female     Project Coordinator   \n",
       "1             BA   Contract        129985       Both  Procurement Specialist   \n",
       "2         B.Tech   Contract         24650       Male       Software Engineer   \n",
       "3         B.Tech     Intern         52871     Female    Marketing Specialist   \n",
       "4            MBA  Full-Time         96905     Female         Finance Manager   \n",
       "\n",
       "   min_experience  max_experience  average_experience  min_salary  max_salary  \\\n",
       "0               1               9                 5.0       55000       96000   \n",
       "1               1              13                 7.0       55000       92000   \n",
       "2               3              11                 7.0       55000      127000   \n",
       "3               4              10                 7.0       58000       85000   \n",
       "4               3              10                 6.5       62000       93000   \n",
       "\n",
       "   ...  feature_31 feature_32 feature_33  feature_34  feature_35  feature_36  \\\n",
       "0  ...         0.0        0.0        0.0         0.0         0.0         0.0   \n",
       "1  ...         0.0        0.0        0.0         0.0         0.0         0.0   \n",
       "2  ...         0.0        0.0        0.0         0.0         0.0         0.0   \n",
       "3  ...         0.0        0.0        0.0         0.0         0.0         0.0   \n",
       "4  ...         0.0        0.0        0.0         0.0         0.0         0.0   \n",
       "\n",
       "   feature_37  feature_38  feature_39  feature_40  \n",
       "0         0.0         0.0         0.0         0.0  \n",
       "1         0.0         0.0         0.0         0.0  \n",
       "2         0.0         0.0         0.0         0.0  \n",
       "3         0.0         0.0         0.0         0.0  \n",
       "4         0.0         0.0         0.0         0.0  \n",
       "\n",
       "[5 rows x 53 columns]"
      ]
     },
     "execution_count": 31,
     "metadata": {},
     "output_type": "execute_result"
    }
   ],
   "source": [
    "dataset.head()"
   ]
  },
  {
   "cell_type": "code",
   "execution_count": 32,
   "metadata": {},
   "outputs": [],
   "source": [
    "import pandas as pd\n",
    "from sklearn.preprocessing import LabelEncoder"
   ]
  },
  {
   "cell_type": "code",
   "execution_count": 33,
   "metadata": {},
   "outputs": [
    {
     "name": "stdout",
     "output_type": "stream",
     "text": [
      "(696012, 68)\n"
     ]
    }
   ],
   "source": [
    "# Apply one-hot encoding\n",
    "one_hot = pd.get_dummies(dataset[[\"Qualifications\", \"Work Type\", \"Preference\"]])\n",
    "\n",
    "# Apply label encoding to other categorical columns\n",
    "label_encoders = {}\n",
    "for col in [\"Company Size\", \"Level\", \"Company_size\"]:\n",
    "    le = LabelEncoder()\n",
    "    dataset[col] = le.fit_transform(dataset[col].astype(str))\n",
    "    label_encoders[col] = le\n",
    "\n",
    "# Combine one-hot encoded columns with the label encoded columns\n",
    "df_encoded = pd.concat([dataset.drop(columns=[\"Qualifications\", \"Work Type\", \"Preference\"]), one_hot], axis=1)\n",
    "\n",
    "print(df_encoded.shape)"
   ]
  },
  {
   "cell_type": "code",
   "execution_count": 34,
   "metadata": {},
   "outputs": [],
   "source": [
    "df_encoded.to_csv(\"Data/data_after_feature_eng.csv\", index = False)"
   ]
  }
 ],
 "metadata": {
  "kernelspec": {
   "display_name": "Python 3",
   "language": "python",
   "name": "python3"
  },
  "language_info": {
   "codemirror_mode": {
    "name": "ipython",
    "version": 3
   },
   "file_extension": ".py",
   "mimetype": "text/x-python",
   "name": "python",
   "nbconvert_exporter": "python",
   "pygments_lexer": "ipython3",
   "version": "3.11.8"
  }
 },
 "nbformat": 4,
 "nbformat_minor": 2
}
