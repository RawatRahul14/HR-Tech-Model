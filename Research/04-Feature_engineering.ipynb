{
 "cells": [
  {
   "cell_type": "code",
   "execution_count": 1,
   "metadata": {},
   "outputs": [],
   "source": [
    "import numpy as np\n",
    "import pandas as pd"
   ]
  },
  {
   "cell_type": "code",
   "execution_count": 2,
   "metadata": {},
   "outputs": [],
   "source": [
    "import matplotlib.pyplot as plt\n",
    "import seaborn as sns"
   ]
  },
  {
   "cell_type": "code",
   "execution_count": 3,
   "metadata": {},
   "outputs": [],
   "source": [
    "dataset = pd.read_csv(\"Data/cleaned_df.csv\")"
   ]
  },
  {
   "cell_type": "code",
   "execution_count": 4,
   "metadata": {},
   "outputs": [
    {
     "name": "stdout",
     "output_type": "stream",
     "text": [
      "<class 'pandas.core.frame.DataFrame'>\n",
      "RangeIndex: 1610462 entries, 0 to 1610461\n",
      "Data columns (total 20 columns):\n",
      " #   Column              Non-Null Count    Dtype  \n",
      "---  ------              --------------    -----  \n",
      " 0   Qualifications      1610462 non-null  object \n",
      " 1   location            1610462 non-null  object \n",
      " 2   Country             1610462 non-null  object \n",
      " 3   Work Type           1610462 non-null  object \n",
      " 4   Company Size        1610462 non-null  int64  \n",
      " 5   Job Posting Date    1610462 non-null  object \n",
      " 6   Preference          1610462 non-null  object \n",
      " 7   Job Title           1610462 non-null  object \n",
      " 8   Role                1610462 non-null  object \n",
      " 9   Job Description     1610462 non-null  object \n",
      " 10  skills              1610462 non-null  object \n",
      " 11  Responsibilities    1610462 non-null  object \n",
      " 12  Company             1610462 non-null  object \n",
      " 13  Company Profile     1610462 non-null  object \n",
      " 14  min_experience      1610462 non-null  int64  \n",
      " 15  max_experience      1610462 non-null  int64  \n",
      " 16  average_experience  1610462 non-null  float64\n",
      " 17  min_salary          1610462 non-null  int64  \n",
      " 18  max_salary          1610462 non-null  int64  \n",
      " 19  average_salary      1610462 non-null  float64\n",
      "dtypes: float64(2), int64(5), object(13)\n",
      "memory usage: 245.7+ MB\n"
     ]
    }
   ],
   "source": [
    "dataset.info()"
   ]
  },
  {
   "cell_type": "code",
   "execution_count": 5,
   "metadata": {},
   "outputs": [
    {
     "name": "stdout",
     "output_type": "stream",
     "text": [
      "Qualifications: 10\n",
      "location: 214\n",
      "Country: 216\n",
      "Work Type: 5\n",
      "Job Posting Date: 731\n",
      "Preference: 3\n",
      "Job Title: 147\n",
      "Role: 376\n",
      "Job Description: 376\n",
      "skills: 376\n",
      "Responsibilities: 375\n",
      "Company: 885\n",
      "Company Profile: 884\n"
     ]
    }
   ],
   "source": [
    "for col in dataset.columns:\n",
    "    if dataset[col].dtype == \"object\":\n",
    "        print(f\"{col}: {len(dataset[col].value_counts().keys())}\")"
   ]
  },
  {
   "cell_type": "code",
   "execution_count": 6,
   "metadata": {},
   "outputs": [
    {
     "data": {
      "text/plain": [
       "array(['M.Tech', 'BCA', 'PhD', 'MBA', 'MCA', 'M.Com', 'BBA', 'B.Tech',\n",
       "       'B.Com', 'BA'], dtype=object)"
      ]
     },
     "execution_count": 6,
     "metadata": {},
     "output_type": "execute_result"
    }
   ],
   "source": [
    "dataset[\"Qualifications\"].unique()"
   ]
  },
  {
   "cell_type": "code",
   "execution_count": 7,
   "metadata": {},
   "outputs": [],
   "source": [
    "bachelor = [\"BCA\", \"BBA\", \"B.Tech\", \"B.Com\", \"BA\"]\n",
    "masters = [\"MBA\", \"MCA\", \"M.Com\", \"M.Tech\"]\n",
    "phd = [\"PhD\"]\n",
    "\n",
    "def map_qualification_to_level(qualifications):\n",
    "    if qualifications in bachelor:\n",
    "        return \"Bachelor\"\n",
    "    elif qualifications in masters:\n",
    "        return \"Master\"\n",
    "    else:\n",
    "        return \"PhD\""
   ]
  },
  {
   "cell_type": "code",
   "execution_count": 8,
   "metadata": {},
   "outputs": [
    {
     "data": {
      "text/html": [
       "<div>\n",
       "<style scoped>\n",
       "    .dataframe tbody tr th:only-of-type {\n",
       "        vertical-align: middle;\n",
       "    }\n",
       "\n",
       "    .dataframe tbody tr th {\n",
       "        vertical-align: top;\n",
       "    }\n",
       "\n",
       "    .dataframe thead th {\n",
       "        text-align: right;\n",
       "    }\n",
       "</style>\n",
       "<table border=\"1\" class=\"dataframe\">\n",
       "  <thead>\n",
       "    <tr style=\"text-align: right;\">\n",
       "      <th></th>\n",
       "      <th>Level</th>\n",
       "      <th>Qualifications</th>\n",
       "    </tr>\n",
       "  </thead>\n",
       "  <tbody>\n",
       "    <tr>\n",
       "      <th>0</th>\n",
       "      <td>Master</td>\n",
       "      <td>M.Tech</td>\n",
       "    </tr>\n",
       "    <tr>\n",
       "      <th>1</th>\n",
       "      <td>Bachelor</td>\n",
       "      <td>BCA</td>\n",
       "    </tr>\n",
       "    <tr>\n",
       "      <th>2</th>\n",
       "      <td>PhD</td>\n",
       "      <td>PhD</td>\n",
       "    </tr>\n",
       "    <tr>\n",
       "      <th>3</th>\n",
       "      <td>PhD</td>\n",
       "      <td>PhD</td>\n",
       "    </tr>\n",
       "    <tr>\n",
       "      <th>4</th>\n",
       "      <td>Master</td>\n",
       "      <td>MBA</td>\n",
       "    </tr>\n",
       "  </tbody>\n",
       "</table>\n",
       "</div>"
      ],
      "text/plain": [
       "      Level Qualifications\n",
       "0    Master         M.Tech\n",
       "1  Bachelor            BCA\n",
       "2       PhD            PhD\n",
       "3       PhD            PhD\n",
       "4    Master            MBA"
      ]
     },
     "execution_count": 8,
     "metadata": {},
     "output_type": "execute_result"
    }
   ],
   "source": [
    "dataset[\"Level\"] = dataset[\"Qualifications\"].apply(map_qualification_to_level)\n",
    "\n",
    "dataset[[\"Level\", \"Qualifications\"]].head()"
   ]
  },
  {
   "cell_type": "code",
   "execution_count": 9,
   "metadata": {},
   "outputs": [],
   "source": [
    "bins = [0, 10000, 50000, 100000, 10000000]\n",
    "labels = ['small', 'medium', 'large', 'enterprise']\n",
    "\n",
    "dataset[\"Company_size\"] = pd.cut(dataset[\"Company Size\"], bins = bins, labels = labels, right = True, include_lowest = True)"
   ]
  },
  {
   "cell_type": "code",
   "execution_count": 10,
   "metadata": {},
   "outputs": [
    {
     "name": "stdout",
     "output_type": "stream",
     "text": [
      "<class 'pandas.core.frame.DataFrame'>\n",
      "RangeIndex: 1610462 entries, 0 to 1610461\n",
      "Data columns (total 22 columns):\n",
      " #   Column              Non-Null Count    Dtype   \n",
      "---  ------              --------------    -----   \n",
      " 0   Qualifications      1610462 non-null  object  \n",
      " 1   location            1610462 non-null  object  \n",
      " 2   Country             1610462 non-null  object  \n",
      " 3   Work Type           1610462 non-null  object  \n",
      " 4   Company Size        1610462 non-null  int64   \n",
      " 5   Job Posting Date    1610462 non-null  object  \n",
      " 6   Preference          1610462 non-null  object  \n",
      " 7   Job Title           1610462 non-null  object  \n",
      " 8   Role                1610462 non-null  object  \n",
      " 9   Job Description     1610462 non-null  object  \n",
      " 10  skills              1610462 non-null  object  \n",
      " 11  Responsibilities    1610462 non-null  object  \n",
      " 12  Company             1610462 non-null  object  \n",
      " 13  Company Profile     1610462 non-null  object  \n",
      " 14  min_experience      1610462 non-null  int64   \n",
      " 15  max_experience      1610462 non-null  int64   \n",
      " 16  average_experience  1610462 non-null  float64 \n",
      " 17  min_salary          1610462 non-null  int64   \n",
      " 18  max_salary          1610462 non-null  int64   \n",
      " 19  average_salary      1610462 non-null  float64 \n",
      " 20  Level               1610462 non-null  object  \n",
      " 21  Company_size        1610462 non-null  category\n",
      "dtypes: category(1), float64(2), int64(5), object(14)\n",
      "memory usage: 259.6+ MB\n"
     ]
    }
   ],
   "source": [
    "dataset.info()"
   ]
  },
  {
   "cell_type": "code",
   "execution_count": 11,
   "metadata": {},
   "outputs": [
    {
     "data": {
      "text/plain": [
       "Index(['Qualifications', 'location', 'Country', 'Work Type', 'Company Size',\n",
       "       'Job Posting Date', 'Preference', 'Job Title', 'Role',\n",
       "       'Job Description', 'skills', 'Responsibilities', 'Company',\n",
       "       'Company Profile', 'min_experience', 'max_experience',\n",
       "       'average_experience', 'min_salary', 'max_salary', 'average_salary',\n",
       "       'Level', 'Company_size'],\n",
       "      dtype='object')"
      ]
     },
     "execution_count": 11,
     "metadata": {},
     "output_type": "execute_result"
    }
   ],
   "source": [
    "dataset.columns"
   ]
  },
  {
   "cell_type": "code",
   "execution_count": 12,
   "metadata": {},
   "outputs": [
    {
     "data": {
      "text/html": [
       "<div>\n",
       "<style scoped>\n",
       "    .dataframe tbody tr th:only-of-type {\n",
       "        vertical-align: middle;\n",
       "    }\n",
       "\n",
       "    .dataframe tbody tr th {\n",
       "        vertical-align: top;\n",
       "    }\n",
       "\n",
       "    .dataframe thead th {\n",
       "        text-align: right;\n",
       "    }\n",
       "</style>\n",
       "<table border=\"1\" class=\"dataframe\">\n",
       "  <thead>\n",
       "    <tr style=\"text-align: right;\">\n",
       "      <th></th>\n",
       "      <th>Qualifications</th>\n",
       "      <th>location</th>\n",
       "      <th>Country</th>\n",
       "      <th>Work Type</th>\n",
       "      <th>Company Size</th>\n",
       "      <th>Job Posting Date</th>\n",
       "      <th>Preference</th>\n",
       "      <th>Job Title</th>\n",
       "      <th>Role</th>\n",
       "      <th>Job Description</th>\n",
       "      <th>skills</th>\n",
       "    </tr>\n",
       "  </thead>\n",
       "  <tbody>\n",
       "    <tr>\n",
       "      <th>0</th>\n",
       "      <td>M.Tech</td>\n",
       "      <td>Douglas</td>\n",
       "      <td>Isle of Man</td>\n",
       "      <td>Intern</td>\n",
       "      <td>26801</td>\n",
       "      <td>2022-04-24</td>\n",
       "      <td>Female</td>\n",
       "      <td>Digital Marketing Specialist</td>\n",
       "      <td>Social Media Manager</td>\n",
       "      <td>Social Media Managers oversee an organizations...</td>\n",
       "      <td>Social media platforms (e.g., Facebook, Twitte...</td>\n",
       "    </tr>\n",
       "    <tr>\n",
       "      <th>1</th>\n",
       "      <td>BCA</td>\n",
       "      <td>Ashgabat</td>\n",
       "      <td>Turkmenistan</td>\n",
       "      <td>Intern</td>\n",
       "      <td>100340</td>\n",
       "      <td>2022-12-19</td>\n",
       "      <td>Female</td>\n",
       "      <td>Web Developer</td>\n",
       "      <td>Frontend Web Developer</td>\n",
       "      <td>Frontend Web Developers design and implement u...</td>\n",
       "      <td>HTML, CSS, JavaScript Frontend frameworks (e.g...</td>\n",
       "    </tr>\n",
       "    <tr>\n",
       "      <th>2</th>\n",
       "      <td>PhD</td>\n",
       "      <td>Macao</td>\n",
       "      <td>Macao SAR, China</td>\n",
       "      <td>Temporary</td>\n",
       "      <td>84525</td>\n",
       "      <td>2022-09-14</td>\n",
       "      <td>Male</td>\n",
       "      <td>Operations Manager</td>\n",
       "      <td>Quality Control Manager</td>\n",
       "      <td>Quality Control Managers establish and enforce...</td>\n",
       "      <td>Quality control processes and methodologies St...</td>\n",
       "    </tr>\n",
       "    <tr>\n",
       "      <th>3</th>\n",
       "      <td>PhD</td>\n",
       "      <td>Porto-Novo</td>\n",
       "      <td>Benin</td>\n",
       "      <td>Full-Time</td>\n",
       "      <td>129896</td>\n",
       "      <td>2023-02-25</td>\n",
       "      <td>Female</td>\n",
       "      <td>Network Engineer</td>\n",
       "      <td>Wireless Network Engineer</td>\n",
       "      <td>Wireless Network Engineers design, implement, ...</td>\n",
       "      <td>Wireless network design and architecture Wi-Fi...</td>\n",
       "    </tr>\n",
       "    <tr>\n",
       "      <th>4</th>\n",
       "      <td>MBA</td>\n",
       "      <td>Santiago</td>\n",
       "      <td>Chile</td>\n",
       "      <td>Intern</td>\n",
       "      <td>53944</td>\n",
       "      <td>2022-10-11</td>\n",
       "      <td>Female</td>\n",
       "      <td>Event Manager</td>\n",
       "      <td>Conference Manager</td>\n",
       "      <td>A Conference Manager coordinates and manages c...</td>\n",
       "      <td>Event planning Conference logistics Budget man...</td>\n",
       "    </tr>\n",
       "  </tbody>\n",
       "</table>\n",
       "</div>"
      ],
      "text/plain": [
       "  Qualifications    location           Country  Work Type  Company Size  \\\n",
       "0         M.Tech     Douglas       Isle of Man     Intern         26801   \n",
       "1            BCA    Ashgabat      Turkmenistan     Intern        100340   \n",
       "2            PhD       Macao  Macao SAR, China  Temporary         84525   \n",
       "3            PhD  Porto-Novo             Benin  Full-Time        129896   \n",
       "4            MBA    Santiago             Chile     Intern         53944   \n",
       "\n",
       "  Job Posting Date Preference                     Job Title  \\\n",
       "0       2022-04-24     Female  Digital Marketing Specialist   \n",
       "1       2022-12-19     Female                 Web Developer   \n",
       "2       2022-09-14       Male            Operations Manager   \n",
       "3       2023-02-25     Female              Network Engineer   \n",
       "4       2022-10-11     Female                 Event Manager   \n",
       "\n",
       "                        Role  \\\n",
       "0       Social Media Manager   \n",
       "1     Frontend Web Developer   \n",
       "2    Quality Control Manager   \n",
       "3  Wireless Network Engineer   \n",
       "4         Conference Manager   \n",
       "\n",
       "                                     Job Description  \\\n",
       "0  Social Media Managers oversee an organizations...   \n",
       "1  Frontend Web Developers design and implement u...   \n",
       "2  Quality Control Managers establish and enforce...   \n",
       "3  Wireless Network Engineers design, implement, ...   \n",
       "4  A Conference Manager coordinates and manages c...   \n",
       "\n",
       "                                              skills  \n",
       "0  Social media platforms (e.g., Facebook, Twitte...  \n",
       "1  HTML, CSS, JavaScript Frontend frameworks (e.g...  \n",
       "2  Quality control processes and methodologies St...  \n",
       "3  Wireless network design and architecture Wi-Fi...  \n",
       "4  Event planning Conference logistics Budget man...  "
      ]
     },
     "execution_count": 12,
     "metadata": {},
     "output_type": "execute_result"
    }
   ],
   "source": [
    "dataset[['Qualifications', 'location', 'Country', 'Work Type', 'Company Size',\n",
    "       'Job Posting Date', 'Preference', 'Job Title', 'Role',\n",
    "       'Job Description', 'skills']].head()"
   ]
  },
  {
   "cell_type": "code",
   "execution_count": 13,
   "metadata": {},
   "outputs": [],
   "source": [
    "drop_cols = [\"location\", \"Country\", \"Job Posting Date\", \"Role\", \"Job Description\", \"Company\", \"Company Profile\"]"
   ]
  },
  {
   "cell_type": "code",
   "execution_count": 14,
   "metadata": {},
   "outputs": [],
   "source": [
    "dataset.drop(drop_cols, axis = 1, inplace = True)"
   ]
  },
  {
   "cell_type": "code",
   "execution_count": 15,
   "metadata": {},
   "outputs": [
    {
     "name": "stdout",
     "output_type": "stream",
     "text": [
      "<class 'pandas.core.frame.DataFrame'>\n",
      "RangeIndex: 1610462 entries, 0 to 1610461\n",
      "Data columns (total 15 columns):\n",
      " #   Column              Non-Null Count    Dtype   \n",
      "---  ------              --------------    -----   \n",
      " 0   Qualifications      1610462 non-null  object  \n",
      " 1   Work Type           1610462 non-null  object  \n",
      " 2   Company Size        1610462 non-null  int64   \n",
      " 3   Preference          1610462 non-null  object  \n",
      " 4   Job Title           1610462 non-null  object  \n",
      " 5   skills              1610462 non-null  object  \n",
      " 6   Responsibilities    1610462 non-null  object  \n",
      " 7   min_experience      1610462 non-null  int64   \n",
      " 8   max_experience      1610462 non-null  int64   \n",
      " 9   average_experience  1610462 non-null  float64 \n",
      " 10  min_salary          1610462 non-null  int64   \n",
      " 11  max_salary          1610462 non-null  int64   \n",
      " 12  average_salary      1610462 non-null  float64 \n",
      " 13  Level               1610462 non-null  object  \n",
      " 14  Company_size        1610462 non-null  category\n",
      "dtypes: category(1), float64(2), int64(5), object(7)\n",
      "memory usage: 173.6+ MB\n"
     ]
    }
   ],
   "source": [
    "dataset.info()"
   ]
  },
  {
   "cell_type": "code",
   "execution_count": 16,
   "metadata": {},
   "outputs": [
    {
     "data": {
      "text/html": [
       "<div>\n",
       "<style scoped>\n",
       "    .dataframe tbody tr th:only-of-type {\n",
       "        vertical-align: middle;\n",
       "    }\n",
       "\n",
       "    .dataframe tbody tr th {\n",
       "        vertical-align: top;\n",
       "    }\n",
       "\n",
       "    .dataframe thead th {\n",
       "        text-align: right;\n",
       "    }\n",
       "</style>\n",
       "<table border=\"1\" class=\"dataframe\">\n",
       "  <thead>\n",
       "    <tr style=\"text-align: right;\">\n",
       "      <th></th>\n",
       "      <th>Qualifications</th>\n",
       "      <th>Work Type</th>\n",
       "      <th>Company Size</th>\n",
       "      <th>Preference</th>\n",
       "      <th>Job Title</th>\n",
       "      <th>skills</th>\n",
       "      <th>Responsibilities</th>\n",
       "      <th>min_experience</th>\n",
       "      <th>max_experience</th>\n",
       "      <th>average_experience</th>\n",
       "      <th>min_salary</th>\n",
       "      <th>max_salary</th>\n",
       "      <th>average_salary</th>\n",
       "      <th>Level</th>\n",
       "      <th>Company_size</th>\n",
       "    </tr>\n",
       "  </thead>\n",
       "  <tbody>\n",
       "    <tr>\n",
       "      <th>0</th>\n",
       "      <td>M.Tech</td>\n",
       "      <td>Intern</td>\n",
       "      <td>26801</td>\n",
       "      <td>Female</td>\n",
       "      <td>Digital Marketing Specialist</td>\n",
       "      <td>Social media platforms (e.g., Facebook, Twitte...</td>\n",
       "      <td>Manage and grow social media accounts, create ...</td>\n",
       "      <td>5</td>\n",
       "      <td>15</td>\n",
       "      <td>10.0</td>\n",
       "      <td>59000</td>\n",
       "      <td>99000</td>\n",
       "      <td>79000.0</td>\n",
       "      <td>Master</td>\n",
       "      <td>medium</td>\n",
       "    </tr>\n",
       "    <tr>\n",
       "      <th>1</th>\n",
       "      <td>BCA</td>\n",
       "      <td>Intern</td>\n",
       "      <td>100340</td>\n",
       "      <td>Female</td>\n",
       "      <td>Web Developer</td>\n",
       "      <td>HTML, CSS, JavaScript Frontend frameworks (e.g...</td>\n",
       "      <td>Design and code user interfaces for websites, ...</td>\n",
       "      <td>2</td>\n",
       "      <td>12</td>\n",
       "      <td>7.0</td>\n",
       "      <td>56000</td>\n",
       "      <td>116000</td>\n",
       "      <td>86000.0</td>\n",
       "      <td>Bachelor</td>\n",
       "      <td>enterprise</td>\n",
       "    </tr>\n",
       "    <tr>\n",
       "      <th>2</th>\n",
       "      <td>PhD</td>\n",
       "      <td>Temporary</td>\n",
       "      <td>84525</td>\n",
       "      <td>Male</td>\n",
       "      <td>Operations Manager</td>\n",
       "      <td>Quality control processes and methodologies St...</td>\n",
       "      <td>Establish and enforce quality control standard...</td>\n",
       "      <td>0</td>\n",
       "      <td>12</td>\n",
       "      <td>6.0</td>\n",
       "      <td>61000</td>\n",
       "      <td>104000</td>\n",
       "      <td>82500.0</td>\n",
       "      <td>PhD</td>\n",
       "      <td>large</td>\n",
       "    </tr>\n",
       "    <tr>\n",
       "      <th>3</th>\n",
       "      <td>PhD</td>\n",
       "      <td>Full-Time</td>\n",
       "      <td>129896</td>\n",
       "      <td>Female</td>\n",
       "      <td>Network Engineer</td>\n",
       "      <td>Wireless network design and architecture Wi-Fi...</td>\n",
       "      <td>Design, configure, and optimize wireless netwo...</td>\n",
       "      <td>4</td>\n",
       "      <td>11</td>\n",
       "      <td>7.5</td>\n",
       "      <td>65000</td>\n",
       "      <td>91000</td>\n",
       "      <td>78000.0</td>\n",
       "      <td>PhD</td>\n",
       "      <td>enterprise</td>\n",
       "    </tr>\n",
       "    <tr>\n",
       "      <th>4</th>\n",
       "      <td>MBA</td>\n",
       "      <td>Intern</td>\n",
       "      <td>53944</td>\n",
       "      <td>Female</td>\n",
       "      <td>Event Manager</td>\n",
       "      <td>Event planning Conference logistics Budget man...</td>\n",
       "      <td>Specialize in conference and convention planni...</td>\n",
       "      <td>1</td>\n",
       "      <td>12</td>\n",
       "      <td>6.5</td>\n",
       "      <td>64000</td>\n",
       "      <td>87000</td>\n",
       "      <td>75500.0</td>\n",
       "      <td>Master</td>\n",
       "      <td>large</td>\n",
       "    </tr>\n",
       "  </tbody>\n",
       "</table>\n",
       "</div>"
      ],
      "text/plain": [
       "  Qualifications  Work Type  Company Size Preference  \\\n",
       "0         M.Tech     Intern         26801     Female   \n",
       "1            BCA     Intern        100340     Female   \n",
       "2            PhD  Temporary         84525       Male   \n",
       "3            PhD  Full-Time        129896     Female   \n",
       "4            MBA     Intern         53944     Female   \n",
       "\n",
       "                      Job Title  \\\n",
       "0  Digital Marketing Specialist   \n",
       "1                 Web Developer   \n",
       "2            Operations Manager   \n",
       "3              Network Engineer   \n",
       "4                 Event Manager   \n",
       "\n",
       "                                              skills  \\\n",
       "0  Social media platforms (e.g., Facebook, Twitte...   \n",
       "1  HTML, CSS, JavaScript Frontend frameworks (e.g...   \n",
       "2  Quality control processes and methodologies St...   \n",
       "3  Wireless network design and architecture Wi-Fi...   \n",
       "4  Event planning Conference logistics Budget man...   \n",
       "\n",
       "                                    Responsibilities  min_experience  \\\n",
       "0  Manage and grow social media accounts, create ...               5   \n",
       "1  Design and code user interfaces for websites, ...               2   \n",
       "2  Establish and enforce quality control standard...               0   \n",
       "3  Design, configure, and optimize wireless netwo...               4   \n",
       "4  Specialize in conference and convention planni...               1   \n",
       "\n",
       "   max_experience  average_experience  min_salary  max_salary  average_salary  \\\n",
       "0              15                10.0       59000       99000         79000.0   \n",
       "1              12                 7.0       56000      116000         86000.0   \n",
       "2              12                 6.0       61000      104000         82500.0   \n",
       "3              11                 7.5       65000       91000         78000.0   \n",
       "4              12                 6.5       64000       87000         75500.0   \n",
       "\n",
       "      Level Company_size  \n",
       "0    Master       medium  \n",
       "1  Bachelor   enterprise  \n",
       "2       PhD        large  \n",
       "3       PhD   enterprise  \n",
       "4    Master        large  "
      ]
     },
     "execution_count": 16,
     "metadata": {},
     "output_type": "execute_result"
    }
   ],
   "source": [
    "dataset.head()"
   ]
  },
  {
   "cell_type": "code",
   "execution_count": 17,
   "metadata": {},
   "outputs": [],
   "source": [
    "import re"
   ]
  },
  {
   "cell_type": "code",
   "execution_count": 18,
   "metadata": {},
   "outputs": [],
   "source": [
    "def clean_and_format_skills(skills):\n",
    "    # Remove text within parentheses and the parentheses themselves\n",
    "    cleaned_skills = re.sub(r'\\(.*?\\)', '', skills)\n",
    "    # Remove extra spaces\n",
    "    cleaned_skills = re.sub(r'\\s+', ' ', cleaned_skills).strip()\n",
    "    # Replace \"and\" with comma\n",
    "    cleaned_skills = re.sub(r'\\band\\b', ',', cleaned_skills)\n",
    "    return cleaned_skills\n",
    "\n",
    "# Apply the function to the 'skills' column\n",
    "dataset['skills'] = dataset['skills'].apply(clean_and_format_skills)\n",
    "\n",
    "# Function to separate skills into a list by commas\n",
    "def separate_skills(skills):\n",
    "    return [skill.strip() for skill in skills.split(',') if skill.strip()]\n",
    "\n",
    "# Apply the function to separate skills\n",
    "dataset['skills'] = dataset['skills'].apply(separate_skills)"
   ]
  },
  {
   "cell_type": "code",
   "execution_count": 22,
   "metadata": {},
   "outputs": [],
   "source": [
    "all_skills = list(set(skill for sublist in dataset['skills'] for skill in sublist))\n",
    "skills_df = pd.DataFrame([[skill in sublist for skill in all_skills] for sublist in dataset['skills']], columns=all_skills)\n",
    "\n",
    "# Merge with original data\n",
    "data = pd.concat([dataset, skills_df], axis=1)"
   ]
  },
  {
   "cell_type": "code",
   "execution_count": 25,
   "metadata": {},
   "outputs": [
    {
     "data": {
      "text/plain": [
       "(1610462, 706)"
      ]
     },
     "execution_count": 25,
     "metadata": {},
     "output_type": "execute_result"
    }
   ],
   "source": [
    "data.shape"
   ]
  },
  {
   "cell_type": "code",
   "execution_count": null,
   "metadata": {},
   "outputs": [
    {
     "data": {
      "text/plain": [
       "376"
      ]
     },
     "execution_count": 27,
     "metadata": {},
     "output_type": "execute_result"
    }
   ],
   "source": [
    "len(dataset[\"skills\"].value_counts().keys())"
   ]
  },
  {
   "cell_type": "code",
   "execution_count": 26,
   "metadata": {},
   "outputs": [],
   "source": [
    "data.to_csv(\"Data/data_after_feature_eng_1.csv\", index = False)"
   ]
  },
  {
   "cell_type": "code",
   "execution_count": null,
   "metadata": {},
   "outputs": [],
   "source": []
  }
 ],
 "metadata": {
  "kernelspec": {
   "display_name": "Python 3",
   "language": "python",
   "name": "python3"
  },
  "language_info": {
   "codemirror_mode": {
    "name": "ipython",
    "version": 3
   },
   "file_extension": ".py",
   "mimetype": "text/x-python",
   "name": "python",
   "nbconvert_exporter": "python",
   "pygments_lexer": "ipython3",
   "version": "3.11.8"
  }
 },
 "nbformat": 4,
 "nbformat_minor": 2
}
