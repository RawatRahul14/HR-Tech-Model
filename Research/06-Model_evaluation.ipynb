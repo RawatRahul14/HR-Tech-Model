{
 "cells": [
  {
   "cell_type": "code",
   "execution_count": 1,
   "metadata": {},
   "outputs": [
    {
     "name": "stdout",
     "output_type": "stream",
     "text": [
      "(696012, 100)\n",
      "       Qualifications                                             skills  \\\n",
      "0              B.Tech  [construction, project, management, building, ...   \n",
      "1                  BA  [procurement, processes, purchase, order, mana...   \n",
      "2              B.Tech  [proficiency, in, html,, css,, and, javascript...   \n",
      "3              B.Tech  [marketing, analytics, data, analysis, data, v...   \n",
      "4                 MBA  [accounting, principles, financial, reporting,...   \n",
      "...               ...                                                ...   \n",
      "696007          M.Com  [pediatric, specialization, advanced, pediatri...   \n",
      "696008            MBA  [data, analysis, database, querying, and, repo...   \n",
      "696009            BCA  [user-centered, design, principles, ux/ui, des...   \n",
      "696010            BCA  [content, creation, (e.g.,, writing,, editing,...   \n",
      "696011          B.Com  [content, creation, (e.g.,, writing,, editing,...   \n",
      "\n",
      "                              aggregated_skill_embeddings  \n",
      "0       [0.10629287, -0.038679436, -0.05077727, -0.049...  \n",
      "1       [-0.058340356, -0.019800913, 0.16269246, 0.023...  \n",
      "2       [-0.16762114868119912, 0.1901041136847602, 0.1...  \n",
      "3       [-0.17018999, -0.13516001, -0.026077209, -0.06...  \n",
      "4       [-0.015080009, -0.110652536, 0.260391, -0.3110...  \n",
      "...                                                   ...  \n",
      "696007  [-0.026598190423101187, 0.43539507081732154, -...  \n",
      "696008  [-0.22765103, 0.27922308, 0.33948904, -0.03245...  \n",
      "696009  [-0.17926908835120822, 0.1494010860991219, -0....  \n",
      "696010  [0.000259959794304989, -0.1029548156592581, -0...  \n",
      "696011  [0.000259959794304989, -0.1029548156592581, -0...  \n",
      "\n",
      "[696012 rows x 3 columns]\n"
     ]
    }
   ],
   "source": [
    "import pandas as pd\n",
    "import numpy as np\n",
    "\n",
    "# Load the dataset\n",
    "\n",
    "df = pd.read_csv(\"Data\\cleaned_df.csv\")\n",
    "\n",
    "# Normalize and tokenize the skills\n",
    "df['skills'] = df['skills'].apply(lambda x: [skill.lower().strip() for skill in x.split()])\n",
    "\n",
    "def load_glove_embeddings(file_path):\n",
    "    embeddings_index = {}\n",
    "    with open(file_path, 'r', encoding='utf-8') as f:\n",
    "        for line in f:\n",
    "            values = line.split()\n",
    "            word = values[0]\n",
    "            coefs = np.asarray(values[1:], dtype='float32')\n",
    "            embeddings_index[word] = coefs\n",
    "    return embeddings_index\n",
    "\n",
    "# Load the GloVe embeddings\n",
    "glove_embeddings = load_glove_embeddings('Data/glove.6B.100d.txt')\n",
    "\n",
    "def get_skill_embedding(skill, embeddings_index, embedding_dim=100):\n",
    "    return embeddings_index.get(skill, np.zeros(embedding_dim))\n",
    "\n",
    "# Create embeddings for each skill\n",
    "df['skill_embeddings'] = df['skills'].apply(lambda skills: \n",
    "    [get_skill_embedding(skill, glove_embeddings) for skill in skills])\n",
    "\n",
    "def aggregate_embeddings(skill_embeddings):\n",
    "    if len(skill_embeddings) == 0:\n",
    "        return np.zeros(len(skill_embeddings[0]))\n",
    "    return np.mean(skill_embeddings, axis=0)\n",
    "\n",
    "# Aggregate embeddings for each job posting\n",
    "df['aggregated_skill_embeddings'] = df['skill_embeddings'].apply(aggregate_embeddings)\n",
    "\n",
    "# Convert the aggregated skill embeddings into a matrix\n",
    "embeddings_matrix = np.vstack(df['aggregated_skill_embeddings'].values)\n",
    "\n",
    "# Display the shape of the embeddings matrix\n",
    "print(embeddings_matrix.shape)\n",
    "\n",
    "# Display the dataset with the new embeddings column\n",
    "print(df[['Qualifications', 'skills', 'aggregated_skill_embeddings']])\n"
   ]
  },
  {
   "cell_type": "code",
   "execution_count": 9,
   "metadata": {},
   "outputs": [
    {
     "data": {
      "text/plain": [
       "(696012,)"
      ]
     },
     "execution_count": 9,
     "metadata": {},
     "output_type": "execute_result"
    }
   ],
   "source": [
    "df[\"aggregated_skill_embeddings\"].shape"
   ]
  },
  {
   "cell_type": "code",
   "execution_count": 10,
   "metadata": {},
   "outputs": [
    {
     "data": {
      "text/plain": [
       "0    [0.10629287, -0.038679436, -0.05077727, -0.049...\n",
       "1    [-0.058340356, -0.019800913, 0.16269246, 0.023...\n",
       "2    [-0.16762114868119912, 0.1901041136847602, 0.1...\n",
       "3    [-0.17018999, -0.13516001, -0.026077209, -0.06...\n",
       "4    [-0.015080009, -0.110652536, 0.260391, -0.3110...\n",
       "Name: aggregated_skill_embeddings, dtype: object"
      ]
     },
     "execution_count": 10,
     "metadata": {},
     "output_type": "execute_result"
    }
   ],
   "source": [
    "df[\"aggregated_skill_embeddings\"].head()"
   ]
  },
  {
   "cell_type": "code",
   "execution_count": 11,
   "metadata": {},
   "outputs": [],
   "source": [
    "def aggregate_embeddings(skill_embeddings):\n",
    "    if len(skill_embeddings) == 0:\n",
    "        return np.zeros(len(skill_embeddings[0]))\n",
    "    return np.mean(skill_embeddings, axis=0)\n",
    "\n",
    "# Aggregate embeddings for each job posting\n",
    "df['aggregated_skill_embeddings'] = df['aggregated_skill_embeddings'].apply(aggregate_embeddings)"
   ]
  },
  {
   "cell_type": "code",
   "execution_count": 12,
   "metadata": {},
   "outputs": [
    {
     "data": {
      "text/plain": [
       "0   -0.011961\n",
       "1   -0.015266\n",
       "2   -0.004422\n",
       "3   -0.026369\n",
       "4   -0.078670\n",
       "Name: aggregated_skill_embeddings, dtype: float64"
      ]
     },
     "execution_count": 12,
     "metadata": {},
     "output_type": "execute_result"
    }
   ],
   "source": [
    "df['aggregated_skill_embeddings'].head()"
   ]
  },
  {
   "cell_type": "code",
   "execution_count": null,
   "metadata": {},
   "outputs": [],
   "source": []
  }
 ],
 "metadata": {
  "kernelspec": {
   "display_name": "Python 3",
   "language": "python",
   "name": "python3"
  },
  "language_info": {
   "codemirror_mode": {
    "name": "ipython",
    "version": 3
   },
   "file_extension": ".py",
   "mimetype": "text/x-python",
   "name": "python",
   "nbconvert_exporter": "python",
   "pygments_lexer": "ipython3",
   "version": "3.11.8"
  }
 },
 "nbformat": 4,
 "nbformat_minor": 2
}
