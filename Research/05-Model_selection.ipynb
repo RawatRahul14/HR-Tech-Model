{
 "cells": [
  {
   "cell_type": "markdown",
   "metadata": {},
   "source": [
    "# Resume Parsing"
   ]
  },
  {
   "cell_type": "code",
   "execution_count": 1,
   "metadata": {},
   "outputs": [],
   "source": [
    "import fitz  # PyMuPDF\n",
    "import spacy\n",
    "from spacy.matcher import PhraseMatcher"
   ]
  },
  {
   "cell_type": "markdown",
   "metadata": {},
   "source": [
    "1. Using PhraseMatcher"
   ]
  },
  {
   "cell_type": "code",
   "execution_count": 2,
   "metadata": {},
   "outputs": [
    {
     "name": "stdout",
     "output_type": "stream",
     "text": [
      "Error opening or reading PDF: no such file: '/content/resume.pdf'\n"
     ]
    }
   ],
   "source": [
    "def extract_text_from_pdf(pdf_path):\n",
    "    try:\n",
    "        doc = fitz.open(pdf_path)\n",
    "        text = \"\"\n",
    "        for page_num in range(len(doc)):\n",
    "            page = doc.load_page(page_num)\n",
    "            text += page.get_text()\n",
    "        return text\n",
    "    except Exception as e:\n",
    "        print(f\"Error opening or reading PDF: {e}\")\n",
    "        return None\n",
    "\n",
    "def extract_skills_and_points(text):\n",
    "    nlp = spacy.load('en_core_web_sm')\n",
    "    doc = nlp(text)\n",
    "\n",
    "    skills = []\n",
    "    key_points = []\n",
    "\n",
    "    # Define some common skills to search for\n",
    "    skill_phrases = [\n",
    "        \"machine learning\", \"deep learning\", \"data analysis\", \"python\", \"java\",\n",
    "        \"project management\", \"communication\", \"teamwork\", \"sql\", \"excel\"\n",
    "    ]\n",
    "    matcher = PhraseMatcher(nlp.vocab)\n",
    "    patterns = [nlp(skill) for skill in skill_phrases]\n",
    "    matcher.add(\"SKILLS\", patterns)\n",
    "\n",
    "    # Use matcher to find skills\n",
    "    matches = matcher(doc)\n",
    "    for match_id, start, end in matches:\n",
    "        skills.append(doc[start:end].text)\n",
    "\n",
    "    # Extract key points\n",
    "    for token in doc:\n",
    "        if token.pos_ == 'VERB' and token.dep_ == 'ROOT':\n",
    "            key_points.append(token.text)\n",
    "\n",
    "    return skills, key_points\n",
    "\n",
    "if __name__ == \"__main__\":\n",
    "    # Replace with your actual path to the resume PDF file\n",
    "    pdf_path = '/content/resume.pdf'\n",
    "\n",
    "    resume_text = extract_text_from_pdf(pdf_path)\n",
    "\n",
    "    if resume_text:\n",
    "        skills, key_points = extract_skills_and_points(resume_text)\n",
    "\n",
    "        print(\"Skills:\")\n",
    "        for skill in skills:\n",
    "            print(skill)\n",
    "\n",
    "        print(\"\\nKey Points:\")\n",
    "        for point in key_points:\n",
    "            print(point)"
   ]
  },
  {
   "cell_type": "markdown",
   "metadata": {},
   "source": [
    "2. Using BST"
   ]
  },
  {
   "cell_type": "code",
   "execution_count": 3,
   "metadata": {},
   "outputs": [],
   "source": [
    "class TrieNode:\n",
    "    def __init__(self):\n",
    "        self.children = {}\n",
    "        self.is_end_of_phrase = False\n",
    "\n",
    "class Trie:\n",
    "    def __init__(self):\n",
    "        self.root = TrieNode()\n",
    "\n",
    "    def insert(self, phrase):\n",
    "        node = self.root\n",
    "        for char in phrase:\n",
    "            if char not in node.children:\n",
    "                node.children[char] = TrieNode()\n",
    "            node = node.children[char]\n",
    "        node.is_end_of_phrase = True\n",
    "\n",
    "    def search(self, text):\n",
    "        node = self.root\n",
    "        matched_phrases = []\n",
    "        i = 0\n",
    "        while i < len(text):\n",
    "            char = text[i]\n",
    "            if char in node.children:\n",
    "                temp_node = node\n",
    "                temp_phrase = ''\n",
    "                while i < len(text) and char in temp_node.children:\n",
    "                    temp_phrase += char\n",
    "                    temp_node = temp_node.children[char]\n",
    "                    if temp_node.is_end_of_phrase:\n",
    "                        matched_phrases.append(temp_phrase)\n",
    "                    i += 1\n",
    "                    if i < len(text):\n",
    "                        char = text[i]\n",
    "                i -= len(temp_phrase) - 1\n",
    "            i += 1\n",
    "        return matched_phrases"
   ]
  },
  {
   "cell_type": "code",
   "execution_count": 4,
   "metadata": {},
   "outputs": [
    {
     "name": "stdout",
     "output_type": "stream",
     "text": [
      "Error opening or reading PDF: no such file: '/content/resume.pdf'\n"
     ]
    }
   ],
   "source": [
    "\n",
    "# Usage of Trie in the main script\n",
    "def extract_skills_and_points(text):\n",
    "    nlp = spacy.load('en_core_web_sm')\n",
    "    doc = nlp(text)\n",
    "\n",
    "    skills = []\n",
    "    key_points = []\n",
    "\n",
    "    # Define some common skills to search for\n",
    "    skill_phrases = [\n",
    "        \"machine learning\", \"deep learning\", \"data analysis\", \"python\", \"java\",\n",
    "        \"project management\", \"communication\", \"teamwork\", \"sql\", \"excel\"\n",
    "    ]\n",
    "\n",
    "    # Build the trie\n",
    "    trie = Trie()\n",
    "    for phrase in skill_phrases:\n",
    "        trie.insert(phrase.lower())\n",
    "\n",
    "    # Use trie to find skills\n",
    "    lower_text = text.lower()\n",
    "    skills = trie.search(lower_text)\n",
    "\n",
    "    # Extract key points\n",
    "    for token in doc:\n",
    "        if token.pos_ == 'VERB' and token.dep_ == 'ROOT':\n",
    "            key_points.append(token.text)\n",
    "\n",
    "    return skills, key_points\n",
    "\n",
    "if __name__ == \"__main__\":\n",
    "    # Replace with your actual path to the resume PDF file\n",
    "    pdf_path = '/content/resume.pdf'\n",
    "\n",
    "    resume_text = extract_text_from_pdf(pdf_path)\n",
    "\n",
    "    if resume_text:\n",
    "        skills, key_points = extract_skills_and_points(resume_text)\n",
    "\n",
    "        print(\"Skills:\")\n",
    "        for skill in skills:\n",
    "            print(skill)\n",
    "\n",
    "        print(\"\\nKey Points:\")\n",
    "        for point in key_points:\n",
    "            print(point)\n"
   ]
  },
  {
   "cell_type": "markdown",
   "metadata": {},
   "source": [
    "#### Job Recommendation system"
   ]
  },
  {
   "cell_type": "code",
   "execution_count": 1,
   "metadata": {},
   "outputs": [
    {
     "name": "stdout",
     "output_type": "stream",
     "text": [
      "WARNING:tensorflow:From c:\\Users\\rahul\\AppData\\Local\\Programs\\Python\\Python311\\Lib\\site-packages\\keras\\src\\losses.py:2976: The name tf.losses.sparse_softmax_cross_entropy is deprecated. Please use tf.compat.v1.losses.sparse_softmax_cross_entropy instead.\n",
      "\n"
     ]
    }
   ],
   "source": [
    "import pandas as pd\n",
    "import numpy as np\n",
    "from sklearn.preprocessing import OneHotEncoder, StandardScaler\n",
    "from sklearn.model_selection import train_test_split\n",
    "import tensorflow as tf\n",
    "from tensorflow.keras.models import Model\n",
    "from tensorflow.keras.layers import Input, Dense"
   ]
  },
  {
   "cell_type": "code",
   "execution_count": 31,
   "metadata": {},
   "outputs": [],
   "source": [
    "# Load your dataset\n",
    "path = \"Data/cleaned_df.csv\"\n",
    "dataset = pd.read_csv(path)\n",
    "\n",
    "# Define features and target for recommendation system\n",
    "cat_cols = []\n",
    "num_cols = []\n",
    "\n",
    "target = [\"Job Title\"]"
   ]
  },
  {
   "cell_type": "code",
   "execution_count": null,
   "metadata": {},
   "outputs": [],
   "source": [
    "class JobRecommendationSystem:\n",
    "    def __init__(self, data, cat_features, num_features, target_var):\n",
    "        self.data = data\n",
    "        self.cat_features = cat_features\n",
    "        self.num_features = num_features\n",
    "        self.target_var = target_var\n",
    "        self.encoder = OneHotEncoder(sparse = False)\n",
    "        self.scaler = StandardScaler()\n",
    "        self.job_title_encoder = OneHotEncoder(sparse = False)\n",
    "        \n",
    "    def preprocess_data(self):\n",
    "        # Encode categorical features\n",
    "        encoded_features = self.encoder.fit_transform(self.data[self.cat_features])\n",
    "        encoded_df = pd.DataFrame(encoded_features, columns = self.encoder.get_feature_names_out())\n",
    "        \n",
    "        # Normalize numerical features\n",
    "        numerical_features = self.scaler.fit_transform(self.data[self.num_features])\n",
    "        numerical_df = pd.DataFrame(numerical_features, columns = self.num_features)\n",
    "        \n",
    "        # Flatten the skills list and encode\n",
    "        # The skills column must be list of list\n",
    "        all_skills = list(set(skill for sublist in self.data[\"skills\"] for skill in sublist))\n",
    "        skills_df = pd.DataFrame([[skill in sublist for skill in all_skills] for sublist in self.data[\"skills\"]], columns = all_skills)\n",
    "        \n",
    "        # Combine all features\n",
    "        self.X = pd.concat([encoded_df, numerical_df, skills_df], axis = 1)\n",
    "        \n",
    "        # Encode the Job Title\n",
    "        self.y = self.job_title_encoder.fit_transform(self.data[self.target_var])\n",
    "        \n",
    "        # Split the data into training and test sets\n",
    "        self.X_train, self.X_test, self.y_train, self.y_test = train_test_split(self.X, self.y, test_size = 0.2, random_state = 42)\n",
    "\n",
    "    def build_model(self):\n",
    "        # Define the neural network model using the Functional API\n",
    "        input_layer = Input(shape = (self.X_train.shape[1],))\n",
    "        dense_layer_1 = Dense(64, activation = \"relu\")(input_layer)\n",
    "        dense_layer_2 = Dense(32, activation = \"relu\")(dense_layer_1)\n",
    "        output_layer = Dense(self.y.shape[1], activation = \"softmax\")(dense_layer_2)\n",
    "        \n",
    "        self.model = Model(inputs = input_layer, outputs = output_layer)\n",
    "        self.model.compile(optimizer = \"adam\", loss = \"categorical_crossentropy\", metrics = [\"accuracy\"])\n",
    "    \n",
    "    def train_model(self, epochs = 10, batch_size = 10):\n",
    "        self.model.fit(self.X_train, self.y_train, epochs = epochs, batch_size = batch_size, validation_split = 0.2)\n",
    "    \n",
    "    def evaluate_model(self):\n",
    "        loss, accuracy = self.model.evaluate(self.X_test, self.y_test)\n",
    "        print(f\"Test Accuracy: {accuracy}\")\n",
    "    \n",
    "    def make_predictions(self):\n",
    "        predictions = self.model.predict(self.X_test)\n",
    "        predicted_classes = self.job_title_encoder.inverse_transform(predictions)\n",
    "        return predicted_classes"
   ]
  },
  {
   "cell_type": "code",
   "execution_count": null,
   "metadata": {},
   "outputs": [],
   "source": []
  },
  {
   "cell_type": "code",
   "execution_count": null,
   "metadata": {},
   "outputs": [],
   "source": []
  },
  {
   "cell_type": "code",
   "execution_count": null,
   "metadata": {},
   "outputs": [],
   "source": []
  },
  {
   "cell_type": "markdown",
   "metadata": {},
   "source": [
    "#### Salary Prediction"
   ]
  },
  {
   "cell_type": "code",
   "execution_count": 4,
   "metadata": {},
   "outputs": [],
   "source": [
    "import tensorflow as tf\n",
    "from tensorflow.keras.layers import Dense\n",
    "from tensorflow.keras.models import Sequential\n",
    "import keras"
   ]
  },
  {
   "cell_type": "code",
   "execution_count": null,
   "metadata": {},
   "outputs": [],
   "source": [
    "class Linear_Model:\n",
    "    def __init__(self, input_dim, hidden_layers, output_dim):\n",
    "        \"\"\"\n",
    "        Parameters:\n",
    "        input_dim (int): Number of the input features\n",
    "        hidden_layers (list): list of the number of units in the hidden layer\n",
    "        output_dim: nNumber of the output units \n",
    "        \"\"\"\n",
    "        self.model = Sequential()\n",
    "        \n",
    "        # Input layer\n",
    "        self.model.add(Dense(hidden_layers[0], input_dim = input_dim, activation = \"relu\"))\n",
    "        \n",
    "        # Hidden layers\n",
    "        for units in hidden_layers[1:]:\n",
    "            self.model.add(Dense(units, activation = \"relu\"))\n",
    "        \n",
    "        # Output layer\n",
    "        self.model.add(Dense(output_dim, activation = \"linear\"))\n",
    "        \n",
    "        # Compile the model\n",
    "        self.model.compile(optimizer = \"adam\", loss = \"mse\", metrics = [\"mse\"])\n",
    "    \n",
    "    def train(self, X_train, y_train, epochs = 10, batch_size = 32):\n",
    "        self.model.fit(X_train, y_train, epochs = epochs, batch_size = batch_size)\n",
    "    \n",
    "    def evaluate(self, X_test, y_test):\n",
    "        return self.model.evaluate(X_test, y_test)\n",
    "    \n",
    "    def predict(self, X):\n",
    "        return self.model.predict(X)"
   ]
  }
 ],
 "metadata": {
  "kernelspec": {
   "display_name": "Python 3",
   "language": "python",
   "name": "python3"
  },
  "language_info": {
   "codemirror_mode": {
    "name": "ipython",
    "version": 3
   },
   "file_extension": ".py",
   "mimetype": "text/x-python",
   "name": "python",
   "nbconvert_exporter": "python",
   "pygments_lexer": "ipython3",
   "version": "3.11.8"
  }
 },
 "nbformat": 4,
 "nbformat_minor": 2
}
