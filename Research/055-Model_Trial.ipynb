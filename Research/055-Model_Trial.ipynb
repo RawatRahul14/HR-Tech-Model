{
 "cells": [
  {
   "cell_type": "code",
   "execution_count": 1,
   "metadata": {},
   "outputs": [
    {
     "data": {
      "text/html": [
       "<div>\n",
       "<style scoped>\n",
       "    .dataframe tbody tr th:only-of-type {\n",
       "        vertical-align: middle;\n",
       "    }\n",
       "\n",
       "    .dataframe tbody tr th {\n",
       "        vertical-align: top;\n",
       "    }\n",
       "\n",
       "    .dataframe thead th {\n",
       "        text-align: right;\n",
       "    }\n",
       "</style>\n",
       "<table border=\"1\" class=\"dataframe\">\n",
       "  <thead>\n",
       "    <tr style=\"text-align: right;\">\n",
       "      <th></th>\n",
       "      <th>Qualifications</th>\n",
       "      <th>location</th>\n",
       "      <th>Country</th>\n",
       "      <th>Work Type</th>\n",
       "      <th>Company Size</th>\n",
       "      <th>Job Posting Date</th>\n",
       "      <th>Preference</th>\n",
       "      <th>Job Title</th>\n",
       "      <th>Role</th>\n",
       "      <th>Job Description</th>\n",
       "      <th>skills</th>\n",
       "      <th>Responsibilities</th>\n",
       "      <th>Company</th>\n",
       "      <th>Company Profile</th>\n",
       "      <th>min_experience</th>\n",
       "      <th>max_experience</th>\n",
       "      <th>average_experience</th>\n",
       "      <th>min_salary</th>\n",
       "      <th>max_salary</th>\n",
       "      <th>average_salary</th>\n",
       "    </tr>\n",
       "  </thead>\n",
       "  <tbody>\n",
       "    <tr>\n",
       "      <th>0</th>\n",
       "      <td>M.Tech</td>\n",
       "      <td>Douglas</td>\n",
       "      <td>Isle of Man</td>\n",
       "      <td>Intern</td>\n",
       "      <td>26801</td>\n",
       "      <td>2022-04-24</td>\n",
       "      <td>Female</td>\n",
       "      <td>Digital Marketing Specialist</td>\n",
       "      <td>Social Media Manager</td>\n",
       "      <td>Social Media Managers oversee an organizations...</td>\n",
       "      <td>Social media platforms (e.g., Facebook, Twitte...</td>\n",
       "      <td>Manage and grow social media accounts, create ...</td>\n",
       "      <td>Icahn Enterprises</td>\n",
       "      <td>{\"Sector\":\"Diversified\",\"Industry\":\"Diversifie...</td>\n",
       "      <td>5</td>\n",
       "      <td>15</td>\n",
       "      <td>10.0</td>\n",
       "      <td>59000</td>\n",
       "      <td>99000</td>\n",
       "      <td>79000.0</td>\n",
       "    </tr>\n",
       "    <tr>\n",
       "      <th>1</th>\n",
       "      <td>BCA</td>\n",
       "      <td>Ashgabat</td>\n",
       "      <td>Turkmenistan</td>\n",
       "      <td>Intern</td>\n",
       "      <td>100340</td>\n",
       "      <td>2022-12-19</td>\n",
       "      <td>Female</td>\n",
       "      <td>Web Developer</td>\n",
       "      <td>Frontend Web Developer</td>\n",
       "      <td>Frontend Web Developers design and implement u...</td>\n",
       "      <td>HTML, CSS, JavaScript Frontend frameworks (e.g...</td>\n",
       "      <td>Design and code user interfaces for websites, ...</td>\n",
       "      <td>PNC Financial Services Group</td>\n",
       "      <td>{\"Sector\":\"Financial Services\",\"Industry\":\"Com...</td>\n",
       "      <td>2</td>\n",
       "      <td>12</td>\n",
       "      <td>7.0</td>\n",
       "      <td>56000</td>\n",
       "      <td>116000</td>\n",
       "      <td>86000.0</td>\n",
       "    </tr>\n",
       "    <tr>\n",
       "      <th>2</th>\n",
       "      <td>PhD</td>\n",
       "      <td>Macao</td>\n",
       "      <td>Macao SAR, China</td>\n",
       "      <td>Temporary</td>\n",
       "      <td>84525</td>\n",
       "      <td>2022-09-14</td>\n",
       "      <td>Male</td>\n",
       "      <td>Operations Manager</td>\n",
       "      <td>Quality Control Manager</td>\n",
       "      <td>Quality Control Managers establish and enforce...</td>\n",
       "      <td>Quality control processes and methodologies St...</td>\n",
       "      <td>Establish and enforce quality control standard...</td>\n",
       "      <td>United Services Automobile Assn.</td>\n",
       "      <td>{\"Sector\":\"Insurance\",\"Industry\":\"Insurance: P...</td>\n",
       "      <td>0</td>\n",
       "      <td>12</td>\n",
       "      <td>6.0</td>\n",
       "      <td>61000</td>\n",
       "      <td>104000</td>\n",
       "      <td>82500.0</td>\n",
       "    </tr>\n",
       "    <tr>\n",
       "      <th>3</th>\n",
       "      <td>PhD</td>\n",
       "      <td>Porto-Novo</td>\n",
       "      <td>Benin</td>\n",
       "      <td>Full-Time</td>\n",
       "      <td>129896</td>\n",
       "      <td>2023-02-25</td>\n",
       "      <td>Female</td>\n",
       "      <td>Network Engineer</td>\n",
       "      <td>Wireless Network Engineer</td>\n",
       "      <td>Wireless Network Engineers design, implement, ...</td>\n",
       "      <td>Wireless network design and architecture Wi-Fi...</td>\n",
       "      <td>Design, configure, and optimize wireless netwo...</td>\n",
       "      <td>Hess</td>\n",
       "      <td>{\"Sector\":\"Energy\",\"Industry\":\"Mining, Crude-O...</td>\n",
       "      <td>4</td>\n",
       "      <td>11</td>\n",
       "      <td>7.5</td>\n",
       "      <td>65000</td>\n",
       "      <td>91000</td>\n",
       "      <td>78000.0</td>\n",
       "    </tr>\n",
       "    <tr>\n",
       "      <th>4</th>\n",
       "      <td>MBA</td>\n",
       "      <td>Santiago</td>\n",
       "      <td>Chile</td>\n",
       "      <td>Intern</td>\n",
       "      <td>53944</td>\n",
       "      <td>2022-10-11</td>\n",
       "      <td>Female</td>\n",
       "      <td>Event Manager</td>\n",
       "      <td>Conference Manager</td>\n",
       "      <td>A Conference Manager coordinates and manages c...</td>\n",
       "      <td>Event planning Conference logistics Budget man...</td>\n",
       "      <td>Specialize in conference and convention planni...</td>\n",
       "      <td>Cairn Energy</td>\n",
       "      <td>{\"Sector\":\"Energy\",\"Industry\":\"Energy - Oil &amp; ...</td>\n",
       "      <td>1</td>\n",
       "      <td>12</td>\n",
       "      <td>6.5</td>\n",
       "      <td>64000</td>\n",
       "      <td>87000</td>\n",
       "      <td>75500.0</td>\n",
       "    </tr>\n",
       "  </tbody>\n",
       "</table>\n",
       "</div>"
      ],
      "text/plain": [
       "  Qualifications    location           Country  Work Type  Company Size  \\\n",
       "0         M.Tech     Douglas       Isle of Man     Intern         26801   \n",
       "1            BCA    Ashgabat      Turkmenistan     Intern        100340   \n",
       "2            PhD       Macao  Macao SAR, China  Temporary         84525   \n",
       "3            PhD  Porto-Novo             Benin  Full-Time        129896   \n",
       "4            MBA    Santiago             Chile     Intern         53944   \n",
       "\n",
       "  Job Posting Date Preference                     Job Title  \\\n",
       "0       2022-04-24     Female  Digital Marketing Specialist   \n",
       "1       2022-12-19     Female                 Web Developer   \n",
       "2       2022-09-14       Male            Operations Manager   \n",
       "3       2023-02-25     Female              Network Engineer   \n",
       "4       2022-10-11     Female                 Event Manager   \n",
       "\n",
       "                        Role  \\\n",
       "0       Social Media Manager   \n",
       "1     Frontend Web Developer   \n",
       "2    Quality Control Manager   \n",
       "3  Wireless Network Engineer   \n",
       "4         Conference Manager   \n",
       "\n",
       "                                     Job Description  \\\n",
       "0  Social Media Managers oversee an organizations...   \n",
       "1  Frontend Web Developers design and implement u...   \n",
       "2  Quality Control Managers establish and enforce...   \n",
       "3  Wireless Network Engineers design, implement, ...   \n",
       "4  A Conference Manager coordinates and manages c...   \n",
       "\n",
       "                                              skills  \\\n",
       "0  Social media platforms (e.g., Facebook, Twitte...   \n",
       "1  HTML, CSS, JavaScript Frontend frameworks (e.g...   \n",
       "2  Quality control processes and methodologies St...   \n",
       "3  Wireless network design and architecture Wi-Fi...   \n",
       "4  Event planning Conference logistics Budget man...   \n",
       "\n",
       "                                    Responsibilities  \\\n",
       "0  Manage and grow social media accounts, create ...   \n",
       "1  Design and code user interfaces for websites, ...   \n",
       "2  Establish and enforce quality control standard...   \n",
       "3  Design, configure, and optimize wireless netwo...   \n",
       "4  Specialize in conference and convention planni...   \n",
       "\n",
       "                            Company  \\\n",
       "0                 Icahn Enterprises   \n",
       "1      PNC Financial Services Group   \n",
       "2  United Services Automobile Assn.   \n",
       "3                              Hess   \n",
       "4                      Cairn Energy   \n",
       "\n",
       "                                     Company Profile  min_experience  \\\n",
       "0  {\"Sector\":\"Diversified\",\"Industry\":\"Diversifie...               5   \n",
       "1  {\"Sector\":\"Financial Services\",\"Industry\":\"Com...               2   \n",
       "2  {\"Sector\":\"Insurance\",\"Industry\":\"Insurance: P...               0   \n",
       "3  {\"Sector\":\"Energy\",\"Industry\":\"Mining, Crude-O...               4   \n",
       "4  {\"Sector\":\"Energy\",\"Industry\":\"Energy - Oil & ...               1   \n",
       "\n",
       "   max_experience  average_experience  min_salary  max_salary  average_salary  \n",
       "0              15                10.0       59000       99000         79000.0  \n",
       "1              12                 7.0       56000      116000         86000.0  \n",
       "2              12                 6.0       61000      104000         82500.0  \n",
       "3              11                 7.5       65000       91000         78000.0  \n",
       "4              12                 6.5       64000       87000         75500.0  "
      ]
     },
     "execution_count": 1,
     "metadata": {},
     "output_type": "execute_result"
    }
   ],
   "source": [
    "import pandas as pd\n",
    "file_path = 'C:\\\\Users\\\\sehaj\\\\OneDrive\\\\Desktop\\\\Projects\\\\AI Project\\\\HR-Tech-Model\\\\Research\\\\Data\\\\cleaned_df.csv'\n",
    "df = pd.read_csv(file_path)\n",
    "df.head()"
   ]
  },
  {
   "cell_type": "code",
   "execution_count": 2,
   "metadata": {},
   "outputs": [],
   "source": [
    "# Randomly sample 10,000 rows from the dataset\n",
    "df = df.sample(n=10000, random_state=42)\n",
    "\n",
    "# Reset the index if necessary\n",
    "df = df.reset_index(drop=True)"
   ]
  },
  {
   "cell_type": "code",
   "execution_count": 3,
   "metadata": {},
   "outputs": [
    {
     "data": {
      "text/plain": [
       "min_experience\n",
       "0    1720\n",
       "5    1684\n",
       "4    1667\n",
       "3    1655\n",
       "1    1649\n",
       "2    1625\n",
       "Name: count, dtype: int64"
      ]
     },
     "execution_count": 3,
     "metadata": {},
     "output_type": "execute_result"
    }
   ],
   "source": [
    "df['min_experience'].value_counts()"
   ]
  },
  {
   "cell_type": "code",
   "execution_count": 4,
   "metadata": {},
   "outputs": [
    {
     "data": {
      "text/plain": [
       "array(['{\"Sector\":\"Real Estate\",\"Industry\":\"Real Estate/REIT\",\"City\":\"London\",\"State\":\"N/A\",\"Zip\":\"N/A\",\"Website\":\"www.segro.com\",\"Ticker\":\"SGRO.L\",\"CEO\":\"David Sleath\"}',\n",
       "       '{\"Sector\":\"Food and Beverage\",\"Industry\":\"Wholesalers: Food and Grocery\",\"City\":\"Richmond\",\"State\":\"Virginia\",\"Zip\":\"23238\",\"Website\":\"www.pfgc.com\",\"Ticker\":\"PFGC\",\"CEO\":\"George L. Holm\"}',\n",
       "       '{\"Sector\":\"Utilities\",\"Industry\":\"Utilities: Gas and Electric\",\"City\":\"Newark\",\"State\":\"New Jersey\",\"Zip\":\"7102\",\"Website\":\"www.pseg.com\",\"Ticker\":\"PEG\",\"CEO\":\"Ralph A. Larossa\"}',\n",
       "       ...,\n",
       "       '{\"Sector\":\"Financial Services\",\"Industry\":\"Banking and Financial Services\",\"City\":\"Pune\",\"State\":\"Maharashtra\",\"Zip\":\"411014\",\"Website\":\"www.bajajfinserv.in\",\"Ticker\":\"BAJFINANCE\",\"CEO\":\"Sanjiv Bajaj\"}',\n",
       "       '{\"Sector\":\"Consumer Discretionary\",\"Industry\":\"Specialty Retailers: Other\",\"City\":\"Columbus\",\"State\":\"Ohio\",\"Zip\":\"43230\",\"Website\":\"www.bbwinc.com\",\"Ticker\":\"BBWI\",\"CEO\":\"Gina Boswell\"}',\n",
       "       '{\"Sector\":\"Insurance\",\"Industry\":\"Insurance\",\"City\":\"Sydney\",\"State\":\"NSW\",\"Zip\":\"2000\",\"Website\":\"https://www.iag.com.au/\",\"Ticker\":\"IAG\",\"CEO\":\"Nick Hawkins\"}'],\n",
       "      dtype=object)"
      ]
     },
     "execution_count": 4,
     "metadata": {},
     "output_type": "execute_result"
    }
   ],
   "source": [
    "df['Company Profile'].values"
   ]
  },
  {
   "cell_type": "code",
   "execution_count": 5,
   "metadata": {},
   "outputs": [
    {
     "data": {
      "text/plain": [
       "Index(['Qualifications', 'location', 'Country', 'Work Type', 'Company Size',\n",
       "       'Job Posting Date', 'Preference', 'Job Title', 'Role',\n",
       "       'Job Description', 'skills', 'Responsibilities', 'Company',\n",
       "       'Company Profile', 'min_experience', 'max_experience',\n",
       "       'average_experience', 'min_salary', 'max_salary', 'average_salary'],\n",
       "      dtype='object')"
      ]
     },
     "execution_count": 5,
     "metadata": {},
     "output_type": "execute_result"
    }
   ],
   "source": [
    "df.columns"
   ]
  },
  {
   "cell_type": "code",
   "execution_count": 6,
   "metadata": {},
   "outputs": [],
   "source": [
    "df = df[['Qualifications','Work Type','Preference','Job Title','Role','Job Description','skills','Responsibilities']]"
   ]
  },
  {
   "cell_type": "code",
   "execution_count": 7,
   "metadata": {},
   "outputs": [
    {
     "data": {
      "text/html": [
       "<div>\n",
       "<style scoped>\n",
       "    .dataframe tbody tr th:only-of-type {\n",
       "        vertical-align: middle;\n",
       "    }\n",
       "\n",
       "    .dataframe tbody tr th {\n",
       "        vertical-align: top;\n",
       "    }\n",
       "\n",
       "    .dataframe thead th {\n",
       "        text-align: right;\n",
       "    }\n",
       "</style>\n",
       "<table border=\"1\" class=\"dataframe\">\n",
       "  <thead>\n",
       "    <tr style=\"text-align: right;\">\n",
       "      <th></th>\n",
       "      <th>Qualifications</th>\n",
       "      <th>Work Type</th>\n",
       "      <th>Preference</th>\n",
       "      <th>Job Title</th>\n",
       "      <th>Role</th>\n",
       "      <th>Job Description</th>\n",
       "      <th>skills</th>\n",
       "      <th>Responsibilities</th>\n",
       "    </tr>\n",
       "  </thead>\n",
       "  <tbody>\n",
       "    <tr>\n",
       "      <th>0</th>\n",
       "      <td>M.Tech</td>\n",
       "      <td>Intern</td>\n",
       "      <td>Male</td>\n",
       "      <td>Finance Manager</td>\n",
       "      <td>Treasury Manager</td>\n",
       "      <td>Treasury Managers manage a companys treasury o...</td>\n",
       "      <td>Treasury management Cash flow analysis Risk ma...</td>\n",
       "      <td>Manage treasury operations, including cash man...</td>\n",
       "    </tr>\n",
       "    <tr>\n",
       "      <th>1</th>\n",
       "      <td>PhD</td>\n",
       "      <td>Temporary</td>\n",
       "      <td>Both</td>\n",
       "      <td>Substance Abuse Counselor</td>\n",
       "      <td>Addiction Counselor</td>\n",
       "      <td>An Addiction Counselor provides support and th...</td>\n",
       "      <td>Addiction counseling techniques Substance abus...</td>\n",
       "      <td>Provide counseling and support to individuals ...</td>\n",
       "    </tr>\n",
       "    <tr>\n",
       "      <th>2</th>\n",
       "      <td>BBA</td>\n",
       "      <td>Contract</td>\n",
       "      <td>Both</td>\n",
       "      <td>Dental Hygienist</td>\n",
       "      <td>Periodontal Therapist</td>\n",
       "      <td>A Periodontal Therapist specializes in treatin...</td>\n",
       "      <td>Periodontal therapy procedures Patient care an...</td>\n",
       "      <td>Specialize in the treatment of gum diseases an...</td>\n",
       "    </tr>\n",
       "    <tr>\n",
       "      <th>3</th>\n",
       "      <td>B.Tech</td>\n",
       "      <td>Part-Time</td>\n",
       "      <td>Female</td>\n",
       "      <td>Sales Manager</td>\n",
       "      <td>Sales Team Leader</td>\n",
       "      <td>Lead and motivate sales teams, set sales targe...</td>\n",
       "      <td>Sales leadership Team management Sales strateg...</td>\n",
       "      <td>Lead and manage a team of sales representative...</td>\n",
       "    </tr>\n",
       "    <tr>\n",
       "      <th>4</th>\n",
       "      <td>BCA</td>\n",
       "      <td>Contract</td>\n",
       "      <td>Female</td>\n",
       "      <td>Event Manager</td>\n",
       "      <td>Conference Manager</td>\n",
       "      <td>A Conference Manager coordinates and manages c...</td>\n",
       "      <td>Event planning Conference logistics Budget man...</td>\n",
       "      <td>Specialize in conference and convention planni...</td>\n",
       "    </tr>\n",
       "  </tbody>\n",
       "</table>\n",
       "</div>"
      ],
      "text/plain": [
       "  Qualifications  Work Type Preference                  Job Title  \\\n",
       "0         M.Tech     Intern       Male            Finance Manager   \n",
       "1            PhD  Temporary       Both  Substance Abuse Counselor   \n",
       "2            BBA   Contract       Both           Dental Hygienist   \n",
       "3         B.Tech  Part-Time     Female              Sales Manager   \n",
       "4            BCA   Contract     Female              Event Manager   \n",
       "\n",
       "                    Role                                    Job Description  \\\n",
       "0       Treasury Manager  Treasury Managers manage a companys treasury o...   \n",
       "1    Addiction Counselor  An Addiction Counselor provides support and th...   \n",
       "2  Periodontal Therapist  A Periodontal Therapist specializes in treatin...   \n",
       "3      Sales Team Leader  Lead and motivate sales teams, set sales targe...   \n",
       "4     Conference Manager  A Conference Manager coordinates and manages c...   \n",
       "\n",
       "                                              skills  \\\n",
       "0  Treasury management Cash flow analysis Risk ma...   \n",
       "1  Addiction counseling techniques Substance abus...   \n",
       "2  Periodontal therapy procedures Patient care an...   \n",
       "3  Sales leadership Team management Sales strateg...   \n",
       "4  Event planning Conference logistics Budget man...   \n",
       "\n",
       "                                    Responsibilities  \n",
       "0  Manage treasury operations, including cash man...  \n",
       "1  Provide counseling and support to individuals ...  \n",
       "2  Specialize in the treatment of gum diseases an...  \n",
       "3  Lead and manage a team of sales representative...  \n",
       "4  Specialize in conference and convention planni...  "
      ]
     },
     "execution_count": 7,
     "metadata": {},
     "output_type": "execute_result"
    }
   ],
   "source": [
    "df.head()"
   ]
  },
  {
   "cell_type": "code",
   "execution_count": 8,
   "metadata": {},
   "outputs": [
    {
     "data": {
      "text/plain": [
       "array(['Treasury management Cash flow analysis Risk management Financial forecasting Banking relations',\n",
       "       'Addiction counseling techniques Substance abuse treatment Counseling ethics',\n",
       "       'Periodontal therapy procedures Patient care and communication Dental instrumentation Periodontal disease management Oral health education',\n",
       "       ...,\n",
       "       'Budget planning Financial forecasting Excel proficiency Data analysis',\n",
       "       'Pediatric rehabilitation Developmental assessments Child psychology knowledge',\n",
       "       'Backend development RESTful APIs Database integration Java EE (Enterprise Edition) Performance optimization Version control (e.g., Git)'],\n",
       "      dtype=object)"
      ]
     },
     "execution_count": 8,
     "metadata": {},
     "output_type": "execute_result"
    }
   ],
   "source": [
    "df['skills'].values"
   ]
  },
  {
   "cell_type": "code",
   "execution_count": 9,
   "metadata": {},
   "outputs": [
    {
     "data": {
      "text/plain": [
       "array(['Treasury Managers manage a companys treasury operations. They oversee cash management, investments, and financial risk management to maintain liquidity and financial stability.',\n",
       "       'An Addiction Counselor provides support and therapy to individuals struggling with addiction, helping them overcome substance abuse and develop healthier coping strategies.',\n",
       "       'A Periodontal Therapist specializes in treating gum diseases and conditions. They perform procedures such as scaling and root planing to improve oral health and prevent tooth loss.',\n",
       "       ...,\n",
       "       'Budget Analysts manage and analyze financial data to develop, monitor, and report on budgets. They work with departments to ensure budget compliance, identify cost-saving opportunities, and provide financial insights to support strategic planning and decision-making.',\n",
       "       'Specialize in providing physical therapy to children, addressing developmental and mobility issues.',\n",
       "       'Java Backend Developers specialize in building the server-side components of software applications using Java. They work on database integration, server logic, and performance optimization to ensure efficient and reliable backend functionality.'],\n",
       "      dtype=object)"
      ]
     },
     "execution_count": 9,
     "metadata": {},
     "output_type": "execute_result"
    }
   ],
   "source": [
    "df['Job Description'].values"
   ]
  },
  {
   "cell_type": "code",
   "execution_count": 10,
   "metadata": {},
   "outputs": [
    {
     "data": {
      "text/plain": [
       "array(['Manage treasury operations, including cash management and risk assessment. Develop investment strategies and optimize working capital. Monitor financial markets and interest rates.',\n",
       "       'Provide counseling and support to individuals struggling with substance abuse issues. Conduct assessments and develop treatment plans. Facilitate group therapy sessions.',\n",
       "       'Specialize in the treatment of gum diseases and periodontal conditions. Perform deep cleanings and scaling procedures. Monitor and assess periodontal health.',\n",
       "       ...,\n",
       "       'Develop and manage budgets, track financial performance, and prepare financial reports. Collaborate with department heads to create and monitor budget plans. Identify cost-saving opportunities.',\n",
       "       'Work with children with developmental or physical disabilities. Provide therapy to improve mobility and motor skills. Collaborate with parents and caregivers.',\n",
       "       'Develop server-side applications and APIs using Java and related technologies. Optimize application performance and scalability. Implement security measures and authentication systems.'],\n",
       "      dtype=object)"
      ]
     },
     "execution_count": 10,
     "metadata": {},
     "output_type": "execute_result"
    }
   ],
   "source": [
    "df['Responsibilities'].values"
   ]
  },
  {
   "cell_type": "code",
   "execution_count": 11,
   "metadata": {},
   "outputs": [],
   "source": [
    "df['Role'] = df['Role'].str.replace(' ', '')"
   ]
  },
  {
   "cell_type": "code",
   "execution_count": 12,
   "metadata": {},
   "outputs": [
    {
     "data": {
      "text/plain": [
       "'TreasuryManager'"
      ]
     },
     "execution_count": 12,
     "metadata": {},
     "output_type": "execute_result"
    }
   ],
   "source": [
    "df['Role'][0]"
   ]
  },
  {
   "cell_type": "code",
   "execution_count": 13,
   "metadata": {},
   "outputs": [],
   "source": [
    "df['Job Title'] = df['Job Title'].str.replace(' ', '')"
   ]
  },
  {
   "cell_type": "code",
   "execution_count": 14,
   "metadata": {},
   "outputs": [],
   "source": [
    "df['tags'] = df['Qualifications'] + ' ' + df['Work Type'] + ' ' + df['Preference'] + ' ' + df['Job Title'] + ' ' + df['Role'] + ' ' + df['Job Description'] + ' ' + df['skills'] + ' ' + df['Responsibilities']\n"
   ]
  },
  {
   "cell_type": "code",
   "execution_count": 15,
   "metadata": {},
   "outputs": [
    {
     "data": {
      "text/html": [
       "<div>\n",
       "<style scoped>\n",
       "    .dataframe tbody tr th:only-of-type {\n",
       "        vertical-align: middle;\n",
       "    }\n",
       "\n",
       "    .dataframe tbody tr th {\n",
       "        vertical-align: top;\n",
       "    }\n",
       "\n",
       "    .dataframe thead th {\n",
       "        text-align: right;\n",
       "    }\n",
       "</style>\n",
       "<table border=\"1\" class=\"dataframe\">\n",
       "  <thead>\n",
       "    <tr style=\"text-align: right;\">\n",
       "      <th></th>\n",
       "      <th>Qualifications</th>\n",
       "      <th>Work Type</th>\n",
       "      <th>Preference</th>\n",
       "      <th>Job Title</th>\n",
       "      <th>Role</th>\n",
       "      <th>Job Description</th>\n",
       "      <th>skills</th>\n",
       "      <th>Responsibilities</th>\n",
       "      <th>tags</th>\n",
       "    </tr>\n",
       "  </thead>\n",
       "  <tbody>\n",
       "    <tr>\n",
       "      <th>0</th>\n",
       "      <td>M.Tech</td>\n",
       "      <td>Intern</td>\n",
       "      <td>Male</td>\n",
       "      <td>FinanceManager</td>\n",
       "      <td>TreasuryManager</td>\n",
       "      <td>Treasury Managers manage a companys treasury o...</td>\n",
       "      <td>Treasury management Cash flow analysis Risk ma...</td>\n",
       "      <td>Manage treasury operations, including cash man...</td>\n",
       "      <td>M.Tech Intern Male FinanceManager TreasuryMana...</td>\n",
       "    </tr>\n",
       "    <tr>\n",
       "      <th>1</th>\n",
       "      <td>PhD</td>\n",
       "      <td>Temporary</td>\n",
       "      <td>Both</td>\n",
       "      <td>SubstanceAbuseCounselor</td>\n",
       "      <td>AddictionCounselor</td>\n",
       "      <td>An Addiction Counselor provides support and th...</td>\n",
       "      <td>Addiction counseling techniques Substance abus...</td>\n",
       "      <td>Provide counseling and support to individuals ...</td>\n",
       "      <td>PhD Temporary Both SubstanceAbuseCounselor Add...</td>\n",
       "    </tr>\n",
       "    <tr>\n",
       "      <th>2</th>\n",
       "      <td>BBA</td>\n",
       "      <td>Contract</td>\n",
       "      <td>Both</td>\n",
       "      <td>DentalHygienist</td>\n",
       "      <td>PeriodontalTherapist</td>\n",
       "      <td>A Periodontal Therapist specializes in treatin...</td>\n",
       "      <td>Periodontal therapy procedures Patient care an...</td>\n",
       "      <td>Specialize in the treatment of gum diseases an...</td>\n",
       "      <td>BBA Contract Both DentalHygienist PeriodontalT...</td>\n",
       "    </tr>\n",
       "    <tr>\n",
       "      <th>3</th>\n",
       "      <td>B.Tech</td>\n",
       "      <td>Part-Time</td>\n",
       "      <td>Female</td>\n",
       "      <td>SalesManager</td>\n",
       "      <td>SalesTeamLeader</td>\n",
       "      <td>Lead and motivate sales teams, set sales targe...</td>\n",
       "      <td>Sales leadership Team management Sales strateg...</td>\n",
       "      <td>Lead and manage a team of sales representative...</td>\n",
       "      <td>B.Tech Part-Time Female SalesManager SalesTeam...</td>\n",
       "    </tr>\n",
       "    <tr>\n",
       "      <th>4</th>\n",
       "      <td>BCA</td>\n",
       "      <td>Contract</td>\n",
       "      <td>Female</td>\n",
       "      <td>EventManager</td>\n",
       "      <td>ConferenceManager</td>\n",
       "      <td>A Conference Manager coordinates and manages c...</td>\n",
       "      <td>Event planning Conference logistics Budget man...</td>\n",
       "      <td>Specialize in conference and convention planni...</td>\n",
       "      <td>BCA Contract Female EventManager ConferenceMan...</td>\n",
       "    </tr>\n",
       "  </tbody>\n",
       "</table>\n",
       "</div>"
      ],
      "text/plain": [
       "  Qualifications  Work Type Preference                Job Title  \\\n",
       "0         M.Tech     Intern       Male           FinanceManager   \n",
       "1            PhD  Temporary       Both  SubstanceAbuseCounselor   \n",
       "2            BBA   Contract       Both          DentalHygienist   \n",
       "3         B.Tech  Part-Time     Female             SalesManager   \n",
       "4            BCA   Contract     Female             EventManager   \n",
       "\n",
       "                   Role                                    Job Description  \\\n",
       "0       TreasuryManager  Treasury Managers manage a companys treasury o...   \n",
       "1    AddictionCounselor  An Addiction Counselor provides support and th...   \n",
       "2  PeriodontalTherapist  A Periodontal Therapist specializes in treatin...   \n",
       "3       SalesTeamLeader  Lead and motivate sales teams, set sales targe...   \n",
       "4     ConferenceManager  A Conference Manager coordinates and manages c...   \n",
       "\n",
       "                                              skills  \\\n",
       "0  Treasury management Cash flow analysis Risk ma...   \n",
       "1  Addiction counseling techniques Substance abus...   \n",
       "2  Periodontal therapy procedures Patient care an...   \n",
       "3  Sales leadership Team management Sales strateg...   \n",
       "4  Event planning Conference logistics Budget man...   \n",
       "\n",
       "                                    Responsibilities  \\\n",
       "0  Manage treasury operations, including cash man...   \n",
       "1  Provide counseling and support to individuals ...   \n",
       "2  Specialize in the treatment of gum diseases an...   \n",
       "3  Lead and manage a team of sales representative...   \n",
       "4  Specialize in conference and convention planni...   \n",
       "\n",
       "                                                tags  \n",
       "0  M.Tech Intern Male FinanceManager TreasuryMana...  \n",
       "1  PhD Temporary Both SubstanceAbuseCounselor Add...  \n",
       "2  BBA Contract Both DentalHygienist PeriodontalT...  \n",
       "3  B.Tech Part-Time Female SalesManager SalesTeam...  \n",
       "4  BCA Contract Female EventManager ConferenceMan...  "
      ]
     },
     "execution_count": 15,
     "metadata": {},
     "output_type": "execute_result"
    }
   ],
   "source": [
    "df.head()"
   ]
  },
  {
   "cell_type": "code",
   "execution_count": 16,
   "metadata": {},
   "outputs": [
    {
     "name": "stdout",
     "output_type": "stream",
     "text": [
      "<class 'pandas.core.frame.DataFrame'>\n",
      "RangeIndex: 10000 entries, 0 to 9999\n",
      "Data columns (total 9 columns):\n",
      " #   Column            Non-Null Count  Dtype \n",
      "---  ------            --------------  ----- \n",
      " 0   Qualifications    10000 non-null  object\n",
      " 1   Work Type         10000 non-null  object\n",
      " 2   Preference        10000 non-null  object\n",
      " 3   Job Title         10000 non-null  object\n",
      " 4   Role              10000 non-null  object\n",
      " 5   Job Description   10000 non-null  object\n",
      " 6   skills            10000 non-null  object\n",
      " 7   Responsibilities  10000 non-null  object\n",
      " 8   tags              10000 non-null  object\n",
      "dtypes: object(9)\n",
      "memory usage: 703.3+ KB\n"
     ]
    }
   ],
   "source": [
    "df.info()"
   ]
  },
  {
   "cell_type": "code",
   "execution_count": 17,
   "metadata": {},
   "outputs": [
    {
     "data": {
      "text/plain": [
       "'M.Tech Intern Male FinanceManager TreasuryManager Treasury Managers manage a companys treasury operations. They oversee cash management, investments, and financial risk management to maintain liquidity and financial stability. Treasury management Cash flow analysis Risk management Financial forecasting Banking relations Manage treasury operations, including cash management and risk assessment. Develop investment strategies and optimize working capital. Monitor financial markets and interest rates.'"
      ]
     },
     "execution_count": 17,
     "metadata": {},
     "output_type": "execute_result"
    }
   ],
   "source": [
    "df['tags'][0]"
   ]
  },
  {
   "cell_type": "code",
   "execution_count": 18,
   "metadata": {},
   "outputs": [
    {
     "data": {
      "text/html": [
       "<div>\n",
       "<style scoped>\n",
       "    .dataframe tbody tr th:only-of-type {\n",
       "        vertical-align: middle;\n",
       "    }\n",
       "\n",
       "    .dataframe tbody tr th {\n",
       "        vertical-align: top;\n",
       "    }\n",
       "\n",
       "    .dataframe thead th {\n",
       "        text-align: right;\n",
       "    }\n",
       "</style>\n",
       "<table border=\"1\" class=\"dataframe\">\n",
       "  <thead>\n",
       "    <tr style=\"text-align: right;\">\n",
       "      <th></th>\n",
       "      <th>Qualifications</th>\n",
       "      <th>Work Type</th>\n",
       "      <th>Preference</th>\n",
       "      <th>Job Title</th>\n",
       "      <th>Role</th>\n",
       "      <th>Job Description</th>\n",
       "      <th>skills</th>\n",
       "      <th>Responsibilities</th>\n",
       "      <th>tags</th>\n",
       "    </tr>\n",
       "  </thead>\n",
       "  <tbody>\n",
       "    <tr>\n",
       "      <th>0</th>\n",
       "      <td>M.Tech</td>\n",
       "      <td>Intern</td>\n",
       "      <td>Male</td>\n",
       "      <td>FinanceManager</td>\n",
       "      <td>TreasuryManager</td>\n",
       "      <td>Treasury Managers manage a companys treasury o...</td>\n",
       "      <td>Treasury management Cash flow analysis Risk ma...</td>\n",
       "      <td>Manage treasury operations, including cash man...</td>\n",
       "      <td>M.Tech Intern Male FinanceManager TreasuryMana...</td>\n",
       "    </tr>\n",
       "    <tr>\n",
       "      <th>1</th>\n",
       "      <td>PhD</td>\n",
       "      <td>Temporary</td>\n",
       "      <td>Both</td>\n",
       "      <td>SubstanceAbuseCounselor</td>\n",
       "      <td>AddictionCounselor</td>\n",
       "      <td>An Addiction Counselor provides support and th...</td>\n",
       "      <td>Addiction counseling techniques Substance abus...</td>\n",
       "      <td>Provide counseling and support to individuals ...</td>\n",
       "      <td>PhD Temporary Both SubstanceAbuseCounselor Add...</td>\n",
       "    </tr>\n",
       "    <tr>\n",
       "      <th>2</th>\n",
       "      <td>BBA</td>\n",
       "      <td>Contract</td>\n",
       "      <td>Both</td>\n",
       "      <td>DentalHygienist</td>\n",
       "      <td>PeriodontalTherapist</td>\n",
       "      <td>A Periodontal Therapist specializes in treatin...</td>\n",
       "      <td>Periodontal therapy procedures Patient care an...</td>\n",
       "      <td>Specialize in the treatment of gum diseases an...</td>\n",
       "      <td>BBA Contract Both DentalHygienist PeriodontalT...</td>\n",
       "    </tr>\n",
       "    <tr>\n",
       "      <th>3</th>\n",
       "      <td>B.Tech</td>\n",
       "      <td>Part-Time</td>\n",
       "      <td>Female</td>\n",
       "      <td>SalesManager</td>\n",
       "      <td>SalesTeamLeader</td>\n",
       "      <td>Lead and motivate sales teams, set sales targe...</td>\n",
       "      <td>Sales leadership Team management Sales strateg...</td>\n",
       "      <td>Lead and manage a team of sales representative...</td>\n",
       "      <td>B.Tech Part-Time Female SalesManager SalesTeam...</td>\n",
       "    </tr>\n",
       "    <tr>\n",
       "      <th>4</th>\n",
       "      <td>BCA</td>\n",
       "      <td>Contract</td>\n",
       "      <td>Female</td>\n",
       "      <td>EventManager</td>\n",
       "      <td>ConferenceManager</td>\n",
       "      <td>A Conference Manager coordinates and manages c...</td>\n",
       "      <td>Event planning Conference logistics Budget man...</td>\n",
       "      <td>Specialize in conference and convention planni...</td>\n",
       "      <td>BCA Contract Female EventManager ConferenceMan...</td>\n",
       "    </tr>\n",
       "  </tbody>\n",
       "</table>\n",
       "</div>"
      ],
      "text/plain": [
       "  Qualifications  Work Type Preference                Job Title  \\\n",
       "0         M.Tech     Intern       Male           FinanceManager   \n",
       "1            PhD  Temporary       Both  SubstanceAbuseCounselor   \n",
       "2            BBA   Contract       Both          DentalHygienist   \n",
       "3         B.Tech  Part-Time     Female             SalesManager   \n",
       "4            BCA   Contract     Female             EventManager   \n",
       "\n",
       "                   Role                                    Job Description  \\\n",
       "0       TreasuryManager  Treasury Managers manage a companys treasury o...   \n",
       "1    AddictionCounselor  An Addiction Counselor provides support and th...   \n",
       "2  PeriodontalTherapist  A Periodontal Therapist specializes in treatin...   \n",
       "3       SalesTeamLeader  Lead and motivate sales teams, set sales targe...   \n",
       "4     ConferenceManager  A Conference Manager coordinates and manages c...   \n",
       "\n",
       "                                              skills  \\\n",
       "0  Treasury management Cash flow analysis Risk ma...   \n",
       "1  Addiction counseling techniques Substance abus...   \n",
       "2  Periodontal therapy procedures Patient care an...   \n",
       "3  Sales leadership Team management Sales strateg...   \n",
       "4  Event planning Conference logistics Budget man...   \n",
       "\n",
       "                                    Responsibilities  \\\n",
       "0  Manage treasury operations, including cash man...   \n",
       "1  Provide counseling and support to individuals ...   \n",
       "2  Specialize in the treatment of gum diseases an...   \n",
       "3  Lead and manage a team of sales representative...   \n",
       "4  Specialize in conference and convention planni...   \n",
       "\n",
       "                                                tags  \n",
       "0  M.Tech Intern Male FinanceManager TreasuryMana...  \n",
       "1  PhD Temporary Both SubstanceAbuseCounselor Add...  \n",
       "2  BBA Contract Both DentalHygienist PeriodontalT...  \n",
       "3  B.Tech Part-Time Female SalesManager SalesTeam...  \n",
       "4  BCA Contract Female EventManager ConferenceMan...  "
      ]
     },
     "execution_count": 18,
     "metadata": {},
     "output_type": "execute_result"
    }
   ],
   "source": [
    "df.head()"
   ]
  },
  {
   "cell_type": "code",
   "execution_count": 19,
   "metadata": {},
   "outputs": [],
   "source": [
    "df = df[['Job Title', 'tags' ]]"
   ]
  },
  {
   "cell_type": "code",
   "execution_count": 20,
   "metadata": {},
   "outputs": [],
   "source": [
    "df['tags']= df['tags'].apply(lambda x:x.lower())"
   ]
  },
  {
   "cell_type": "code",
   "execution_count": 21,
   "metadata": {},
   "outputs": [
    {
     "data": {
      "text/html": [
       "<div>\n",
       "<style scoped>\n",
       "    .dataframe tbody tr th:only-of-type {\n",
       "        vertical-align: middle;\n",
       "    }\n",
       "\n",
       "    .dataframe tbody tr th {\n",
       "        vertical-align: top;\n",
       "    }\n",
       "\n",
       "    .dataframe thead th {\n",
       "        text-align: right;\n",
       "    }\n",
       "</style>\n",
       "<table border=\"1\" class=\"dataframe\">\n",
       "  <thead>\n",
       "    <tr style=\"text-align: right;\">\n",
       "      <th></th>\n",
       "      <th>Job Title</th>\n",
       "      <th>tags</th>\n",
       "    </tr>\n",
       "  </thead>\n",
       "  <tbody>\n",
       "    <tr>\n",
       "      <th>0</th>\n",
       "      <td>FinanceManager</td>\n",
       "      <td>m.tech intern male financemanager treasurymana...</td>\n",
       "    </tr>\n",
       "    <tr>\n",
       "      <th>1</th>\n",
       "      <td>SubstanceAbuseCounselor</td>\n",
       "      <td>phd temporary both substanceabusecounselor add...</td>\n",
       "    </tr>\n",
       "    <tr>\n",
       "      <th>2</th>\n",
       "      <td>DentalHygienist</td>\n",
       "      <td>bba contract both dentalhygienist periodontalt...</td>\n",
       "    </tr>\n",
       "    <tr>\n",
       "      <th>3</th>\n",
       "      <td>SalesManager</td>\n",
       "      <td>b.tech part-time female salesmanager salesteam...</td>\n",
       "    </tr>\n",
       "    <tr>\n",
       "      <th>4</th>\n",
       "      <td>EventManager</td>\n",
       "      <td>bca contract female eventmanager conferenceman...</td>\n",
       "    </tr>\n",
       "  </tbody>\n",
       "</table>\n",
       "</div>"
      ],
      "text/plain": [
       "                 Job Title                                               tags\n",
       "0           FinanceManager  m.tech intern male financemanager treasurymana...\n",
       "1  SubstanceAbuseCounselor  phd temporary both substanceabusecounselor add...\n",
       "2          DentalHygienist  bba contract both dentalhygienist periodontalt...\n",
       "3             SalesManager  b.tech part-time female salesmanager salesteam...\n",
       "4             EventManager  bca contract female eventmanager conferenceman..."
      ]
     },
     "execution_count": 21,
     "metadata": {},
     "output_type": "execute_result"
    }
   ],
   "source": [
    "df.head()"
   ]
  },
  {
   "cell_type": "code",
   "execution_count": 22,
   "metadata": {},
   "outputs": [
    {
     "data": {
      "text/plain": [
       "(10000, 2)"
      ]
     },
     "execution_count": 22,
     "metadata": {},
     "output_type": "execute_result"
    }
   ],
   "source": [
    "df.shape"
   ]
  },
  {
   "cell_type": "code",
   "execution_count": 82,
   "metadata": {},
   "outputs": [
    {
     "name": "stdout",
     "output_type": "stream",
     "text": [
      "Top 3 similar jobs: ['HRManager', 'SoftwareEngineer', 'MarketingAnalyst']\n"
     ]
    }
   ],
   "source": [
    "from sklearn.feature_extraction.text import TfidfVectorizer\n",
    "from sklearn.metrics.pairwise import cosine_similarity\n",
    "import pandas as pd\n",
    "\n",
    "\n",
    "def recommend_top_3(job_tags):\n",
    "    # Step 1: Vectorize the 'tags' column\n",
    "    vectorizer = TfidfVectorizer()\n",
    "    tfidf_matrix = vectorizer.fit_transform(df['tags'])\n",
    "    \n",
    "    # Step 2: Vectorize the input tags\n",
    "    input_vector = vectorizer.transform([job_tags])\n",
    "    \n",
    "    # Step 3: Compute cosine similarity\n",
    "    cosine_similarities = cosine_similarity(input_vector, tfidf_matrix).flatten()\n",
    "    \n",
    "    # Step 4: Get indices of the top similarity scores, allowing for potential duplicates\n",
    "    top_indices = cosine_similarities.argsort()[-len(df):][::-1]\n",
    "    \n",
    "    # Step 5: Extract job titles and ensure they are unique\n",
    "    top_jobs = []\n",
    "    seen_jobs = set()\n",
    "    \n",
    "    for idx in top_indices:\n",
    "        job_title = df.iloc[idx]['Job Title']\n",
    "        if job_title not in seen_jobs:\n",
    "            top_jobs.append(job_title)\n",
    "            seen_jobs.add(job_title)\n",
    "        if len(top_jobs) == 3:\n",
    "            break\n",
    "    \n",
    "    # Ensure we return 3 jobs, if available\n",
    "    if len(top_jobs) < 3:\n",
    "        top_jobs += ['No more distinct jobs available'] * (3 - len(top_jobs))\n",
    "    \n",
    "    return top_jobs\n",
    "\n",
    "# Example usage\n",
    "recommended_jobs = recommend_top_3('python, machine learning')\n",
    "print(\"Top 3 similar jobs:\", recommended_jobs)\n"
   ]
  },
  {
   "cell_type": "code",
   "execution_count": 84,
   "metadata": {},
   "outputs": [
    {
     "name": "stdout",
     "output_type": "stream",
     "text": [
      "Vectorizer and job data saved successfully.\n"
     ]
    }
   ],
   "source": [
    "import pandas as pd\n",
    "from sklearn.feature_extraction.text import TfidfVectorizer\n",
    "import pickle\n",
    "\n",
    "# Step 1: Initialize and fit the vectorizer on the 'tags' column\n",
    "vectorizer = TfidfVectorizer()\n",
    "vectorizer.fit(df['tags'])\n",
    "\n",
    "# Save the vectorizer to disk\n",
    "with open('vectorizer.pkl', 'wb') as f:\n",
    "    pickle.dump(vectorizer, f)\n",
    "\n",
    "# Save the DataFrame to a pickle file\n",
    "with open('job_data.pkl', 'wb') as f:\n",
    "    pickle.dump(df, f)\n",
    "\n",
    "print(\"Vectorizer and job data saved successfully.\")"
   ]
  },
  {
   "cell_type": "code",
   "execution_count": 81,
   "metadata": {},
   "outputs": [
    {
     "data": {
      "text/plain": [
       "['SoftwareEngineer', 'MarketingAnalyst', 'DatabaseAdministrator']"
      ]
     },
     "execution_count": 81,
     "metadata": {},
     "output_type": "execute_result"
    }
   ],
   "source": [
    "recommend_top_3('Python')"
   ]
  },
  {
   "cell_type": "code",
   "execution_count": null,
   "metadata": {},
   "outputs": [],
   "source": [
    "from sklearn.feature_extraction.text import TfidfVectorizer\n",
    "from sklearn.metrics.pairwise import cosine_similarity\n",
    "import pandas as pd\n",
    "\n",
    "# Sample DataFrame with diverse job titles\n",
    "data = {\n",
    "    'Job Title': ['Data Scientist', 'Software Engineer', 'Data Analyst', 'Machine Learning Engineer', 'AI Specialist'],\n",
    "    'tags': ['machine learning, python, data', 'software, coding, python', 'analysis, data, reporting', 'machine learning, python', 'AI, machine learning']\n",
    "}\n",
    "df = pd.DataFrame(data)\n",
    "\n",
    "# Sample test data: Input tags and relevant job titles\n",
    "test_data = [\n",
    "    {'input': 'python, machine learning', 'relevant': ['Data Scientist', 'Machine Learning Engineer']},\n",
    "    {'input': 'software development, coding', 'relevant': ['Software Engineer']},\n",
    "    # Add more test cases as needed\n",
    "]\n",
    "\n",
    "def recommend_top_k(job_tags, k=3):\n",
    "    vectorizer = TfidfVectorizer()\n",
    "    tfidf_matrix = vectorizer.fit_transform(df['tags'])\n",
    "    input_vector = vectorizer.transform([job_tags])\n",
    "    cosine_similarities = cosine_similarity(input_vector, tfidf_matrix).flatten()\n",
    "    top_indices = cosine_similarities.argsort()[-k:][::-1]\n",
    "    top_jobs = df.iloc[top_indices]['Job Title'].tolist()\n",
    "    return top_jobs\n",
    "\n",
    "def evaluate(test_data, k=3):\n",
    "    all_precisions = []\n",
    "    all_recalls = []\n",
    "    \n",
    "    for test_case in test_data:\n",
    "        input_tags = test_case['input']\n",
    "        relevant_jobs = set(test_case['relevant'])\n",
    "        \n",
    "        recommended_jobs = set(recommend_top_k(input_tags, k))\n",
    "        \n",
    "        # Calculate Precision\n",
    "        true_positives = len(recommended_jobs & relevant_jobs)\n",
    "        precision = true_positives / len(recommended_jobs) if recommended_jobs else 0\n",
    "        \n",
    "        # Calculate Recall\n",
    "        recall = true_positives / len(relevant_jobs) if relevant_jobs else 0\n",
    "        \n",
    "        all_precisions.append(precision)\n",
    "        all_recalls.append(recall)\n",
    "        \n",
    "        print(f\"Input Tags: {input_tags}\")\n",
    "        print(f\"Recommended Jobs: {recommended_jobs}\")\n",
    "        print(f\"Relevant Jobs: {relevant_jobs}\")\n",
    "        print(f\"Precision: {precision:.2f}, Recall: {recall:.2f}\")\n",
    "    \n",
    "    # Average Precision and Recall\n",
    "    avg_precision = sum(all_precisions) / len(all_precisions)\n",
    "    avg_recall = sum(all_recalls) / len(all_recalls)\n",
    "    \n",
    "    print(f\"Average Precision: {avg_precision:.2f}\")\n",
    "    print(f\"Average Recall: {avg_recall:.2f}\")\n",
    "\n",
    "# Evaluate the model\n",
    "evaluate(test_data, k=3)\n"
   ]
  },
  {
   "cell_type": "code",
   "execution_count": null,
   "metadata": {},
   "outputs": [],
   "source": [
    "from sklearn.feature_extraction.text import TfidfVectorizer\n",
    "from sklearn.metrics import roc_curve, auc\n",
    "import numpy as np\n",
    "import pandas as pd\n",
    "import matplotlib.pyplot as plt\n",
    "\n",
    "# Sample DataFrame with diverse job titles\n",
    "data = {\n",
    "    'Job Title': ['Data Scientist', 'Software Engineer', 'Data Analyst', 'Machine Learning Engineer', 'AI Specialist'],\n",
    "    'tags': ['machine learning, python, data', 'software, coding, python', 'analysis, data, reporting', 'machine learning, python', 'AI, machine learning']\n",
    "}\n",
    "df = pd.DataFrame(data)\n",
    "\n",
    "# Sample test data: Input tags and relevant job titles\n",
    "test_data = [\n",
    "    {'input': 'python, machine learning', 'relevant': ['Data Scientist', 'Machine Learning Engineer']},\n",
    "    {'input': 'software development, coding', 'relevant': ['Software Engineer']},\n",
    "    # Add more test cases as needed\n",
    "]\n",
    "\n",
    "def recommend_top_k(job_tags, k=5):\n",
    "    vectorizer = TfidfVectorizer()\n",
    "    tfidf_matrix = vectorizer.fit_transform(df['tags'])\n",
    "    input_vector = vectorizer.transform([job_tags])\n",
    "    cosine_similarities = cosine_similarity(input_vector, tfidf_matrix).flatten()\n",
    "    top_indices = cosine_similarities.argsort()[-k:][::-1]\n",
    "    top_jobs = df.iloc[top_indices]\n",
    "    return top_jobs\n",
    "\n",
    "def calculate_auc(test_data, k=5):\n",
    "    y_true = []\n",
    "    y_scores = []\n",
    "    \n",
    "    for test_case in test_data:\n",
    "        input_tags = test_case['input']\n",
    "        relevant_jobs = set(test_case['relevant'])\n",
    "        \n",
    "        top_jobs = recommend_top_k(input_tags, k)\n",
    "        job_titles = df['Job Title'].tolist()\n",
    "        \n",
    "        # Assign scores and labels\n",
    "        y_true.extend([1 if title in relevant_jobs else 0 for title in job_titles])\n",
    "        y_scores.extend(top_jobs['tags'].tolist())\n",
    "    \n",
    "    # Compute ROC curve and AUC\n",
    "    fpr, tpr, _ = roc_curve(y_true, y_scores)\n",
    "    roc_auc = auc(fpr, tpr)\n",
    "    \n",
    "    return roc_auc, fpr, tpr\n",
    "\n",
    "# Compute AUC\n",
    "roc_auc, fpr, tpr = calculate_auc(test_data, k=5)\n",
    "\n",
    "# Plot ROC curve\n",
    "plt.figure()\n",
    "plt.plot(fpr, tpr, color='darkorange', lw=2, label='ROC curve (area = %0.2f)' % roc_auc)\n",
    "plt.plot([0, 1], [0, 1], color='navy', lw=2, linestyle='--')\n",
    "plt.xlim([0.0, 1.0])\n",
    "plt.ylim([0.0, 1.05])\n",
    "plt.xlabel('False Positive Rate')\n",
    "plt.ylabel('True Positive Rate')\n",
    "plt.title('Receiver Operating Characteristic')\n",
    "plt.legend(loc='lower right')\n",
    "plt.show()\n",
    "\n",
    "print(f\"AUC: {roc_auc:.2f}\")\n"
   ]
  },
  {
   "cell_type": "code",
   "execution_count": 23,
   "metadata": {},
   "outputs": [],
   "source": [
    "from nltk.stem.porter import PorterStemmer\n",
    "ps = PorterStemmer()"
   ]
  },
  {
   "cell_type": "code",
   "execution_count": 24,
   "metadata": {},
   "outputs": [],
   "source": [
    "def stem(text):\n",
    "    y = []\n",
    "\n",
    "    for i in text.split():\n",
    "        y.append(ps.stem(i))\n",
    "\n",
    "    return \" \".join(y)"
   ]
  },
  {
   "cell_type": "code",
   "execution_count": 25,
   "metadata": {},
   "outputs": [
    {
     "data": {
      "text/plain": [
       "(10000, 2)"
      ]
     },
     "execution_count": 25,
     "metadata": {},
     "output_type": "execute_result"
    }
   ],
   "source": [
    "df.shape"
   ]
  },
  {
   "cell_type": "code",
   "execution_count": 26,
   "metadata": {},
   "outputs": [],
   "source": [
    "df['tags'] = df['tags'].apply(stem)"
   ]
  },
  {
   "cell_type": "code",
   "execution_count": null,
   "metadata": {},
   "outputs": [],
   "source": []
  }
 ],
 "metadata": {
  "kernelspec": {
   "display_name": "Python 3",
   "language": "python",
   "name": "python3"
  },
  "language_info": {
   "codemirror_mode": {
    "name": "ipython",
    "version": 3
   },
   "file_extension": ".py",
   "mimetype": "text/x-python",
   "name": "python",
   "nbconvert_exporter": "python",
   "pygments_lexer": "ipython3",
   "version": "3.12.1"
  }
 },
 "nbformat": 4,
 "nbformat_minor": 2
}
