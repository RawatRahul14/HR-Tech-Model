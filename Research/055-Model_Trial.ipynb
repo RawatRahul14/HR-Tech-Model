{
 "cells": [
  {
   "cell_type": "code",
   "execution_count": 1,
   "metadata": {},
   "outputs": [
    {
     "data": {
      "text/html": [
       "<div>\n",
       "<style scoped>\n",
       "    .dataframe tbody tr th:only-of-type {\n",
       "        vertical-align: middle;\n",
       "    }\n",
       "\n",
       "    .dataframe tbody tr th {\n",
       "        vertical-align: top;\n",
       "    }\n",
       "\n",
       "    .dataframe thead th {\n",
       "        text-align: right;\n",
       "    }\n",
       "</style>\n",
       "<table border=\"1\" class=\"dataframe\">\n",
       "  <thead>\n",
       "    <tr style=\"text-align: right;\">\n",
       "      <th></th>\n",
       "      <th>Qualifications</th>\n",
       "      <th>location</th>\n",
       "      <th>Country</th>\n",
       "      <th>Work Type</th>\n",
       "      <th>Company Size</th>\n",
       "      <th>Job Posting Date</th>\n",
       "      <th>Preference</th>\n",
       "      <th>Job Title</th>\n",
       "      <th>Role</th>\n",
       "      <th>Job Description</th>\n",
       "      <th>skills</th>\n",
       "      <th>Responsibilities</th>\n",
       "      <th>Company</th>\n",
       "      <th>Company Profile</th>\n",
       "      <th>min_experience</th>\n",
       "      <th>max_experience</th>\n",
       "      <th>average_experience</th>\n",
       "      <th>min_salary</th>\n",
       "      <th>max_salary</th>\n",
       "      <th>average_salary</th>\n",
       "    </tr>\n",
       "  </thead>\n",
       "  <tbody>\n",
       "    <tr>\n",
       "      <th>0</th>\n",
       "      <td>B.Tech</td>\n",
       "      <td>Bern</td>\n",
       "      <td>Switzerland</td>\n",
       "      <td>Part-Time</td>\n",
       "      <td>85230</td>\n",
       "      <td>2023-01-11</td>\n",
       "      <td>Female</td>\n",
       "      <td>Project Coordinator</td>\n",
       "      <td>Construction Project Coordinator</td>\n",
       "      <td>Construction Project Coordinators assist in ma...</td>\n",
       "      <td>['Construction', 'project', 'management', 'Bui...</td>\n",
       "      <td>Coordinate construction projects, including pe...</td>\n",
       "      <td>APA</td>\n",
       "      <td>{\"Sector\":\"Energy\",\"Industry\":\"Mining, Crude-O...</td>\n",
       "      <td>1</td>\n",
       "      <td>9</td>\n",
       "      <td>5.0</td>\n",
       "      <td>55000</td>\n",
       "      <td>96000</td>\n",
       "      <td>75500.0</td>\n",
       "    </tr>\n",
       "    <tr>\n",
       "      <th>1</th>\n",
       "      <td>BA</td>\n",
       "      <td>Stockholm</td>\n",
       "      <td>Sweden</td>\n",
       "      <td>Contract</td>\n",
       "      <td>129985</td>\n",
       "      <td>2022-01-18</td>\n",
       "      <td>Both</td>\n",
       "      <td>Procurement Specialist</td>\n",
       "      <td>Procurement Coordinator</td>\n",
       "      <td>Procurement Coordinators assist in procurement...</td>\n",
       "      <td>['Procurement', 'processes', 'Purchase', 'orde...</td>\n",
       "      <td>Support procurement activities, such as purcha...</td>\n",
       "      <td>CSL Limited</td>\n",
       "      <td>{\"Sector\":\"Pharmaceuticals\",\"Industry\":\"Health...</td>\n",
       "      <td>1</td>\n",
       "      <td>13</td>\n",
       "      <td>7.0</td>\n",
       "      <td>55000</td>\n",
       "      <td>92000</td>\n",
       "      <td>73500.0</td>\n",
       "    </tr>\n",
       "    <tr>\n",
       "      <th>2</th>\n",
       "      <td>B.Tech</td>\n",
       "      <td>Male</td>\n",
       "      <td>Maldives</td>\n",
       "      <td>Contract</td>\n",
       "      <td>24650</td>\n",
       "      <td>2022-04-08</td>\n",
       "      <td>Male</td>\n",
       "      <td>Software Engineer</td>\n",
       "      <td>Frontend Developer</td>\n",
       "      <td>A Frontend Developer is responsible for design...</td>\n",
       "      <td>['Proficiency', 'HTML', 'CSS', 'JavaScript', '...</td>\n",
       "      <td>Design and implement user interfaces for web a...</td>\n",
       "      <td>Haier Group</td>\n",
       "      <td>{\"Sector\":\"Appliances\",\"Industry\":\"Electronics...</td>\n",
       "      <td>3</td>\n",
       "      <td>11</td>\n",
       "      <td>7.0</td>\n",
       "      <td>55000</td>\n",
       "      <td>127000</td>\n",
       "      <td>91000.0</td>\n",
       "    </tr>\n",
       "    <tr>\n",
       "      <th>3</th>\n",
       "      <td>B.Tech</td>\n",
       "      <td>New Delhi</td>\n",
       "      <td>India</td>\n",
       "      <td>Intern</td>\n",
       "      <td>52871</td>\n",
       "      <td>2022-02-13</td>\n",
       "      <td>Female</td>\n",
       "      <td>Marketing Specialist</td>\n",
       "      <td>Marketing Analytics Specialist</td>\n",
       "      <td>Marketing Analytics Specialists analyze market...</td>\n",
       "      <td>['Marketing', 'analytics', 'Data', 'analysis',...</td>\n",
       "      <td>Analyze marketing data and generate insights t...</td>\n",
       "      <td>Brighthouse Financial</td>\n",
       "      <td>{\"Sector\":\"Insurance\",\"Industry\":\"Insurance: L...</td>\n",
       "      <td>4</td>\n",
       "      <td>10</td>\n",
       "      <td>7.0</td>\n",
       "      <td>58000</td>\n",
       "      <td>85000</td>\n",
       "      <td>71500.0</td>\n",
       "    </tr>\n",
       "    <tr>\n",
       "      <th>4</th>\n",
       "      <td>MBA</td>\n",
       "      <td>Managua</td>\n",
       "      <td>Nicaragua</td>\n",
       "      <td>Full-Time</td>\n",
       "      <td>96905</td>\n",
       "      <td>2021-12-13</td>\n",
       "      <td>Female</td>\n",
       "      <td>Finance Manager</td>\n",
       "      <td>Accounting Manager</td>\n",
       "      <td>Accounting Managers supervise accounting teams...</td>\n",
       "      <td>['Accounting', 'principles', 'Financial', 'rep...</td>\n",
       "      <td>Manage accounting functions, including financi...</td>\n",
       "      <td>Starbucks</td>\n",
       "      <td>{\"Sector\":\"Food and Beverage\",\"Industry\":\"Food...</td>\n",
       "      <td>3</td>\n",
       "      <td>10</td>\n",
       "      <td>6.5</td>\n",
       "      <td>62000</td>\n",
       "      <td>93000</td>\n",
       "      <td>77500.0</td>\n",
       "    </tr>\n",
       "  </tbody>\n",
       "</table>\n",
       "</div>"
      ],
      "text/plain": [
       "  Qualifications   location      Country  Work Type  Company Size  \\\n",
       "0         B.Tech       Bern  Switzerland  Part-Time         85230   \n",
       "1             BA  Stockholm       Sweden   Contract        129985   \n",
       "2         B.Tech       Male     Maldives   Contract         24650   \n",
       "3         B.Tech  New Delhi        India     Intern         52871   \n",
       "4            MBA    Managua    Nicaragua  Full-Time         96905   \n",
       "\n",
       "  Job Posting Date Preference               Job Title  \\\n",
       "0       2023-01-11     Female     Project Coordinator   \n",
       "1       2022-01-18       Both  Procurement Specialist   \n",
       "2       2022-04-08       Male       Software Engineer   \n",
       "3       2022-02-13     Female    Marketing Specialist   \n",
       "4       2021-12-13     Female         Finance Manager   \n",
       "\n",
       "                               Role  \\\n",
       "0  Construction Project Coordinator   \n",
       "1           Procurement Coordinator   \n",
       "2                Frontend Developer   \n",
       "3    Marketing Analytics Specialist   \n",
       "4                Accounting Manager   \n",
       "\n",
       "                                     Job Description  \\\n",
       "0  Construction Project Coordinators assist in ma...   \n",
       "1  Procurement Coordinators assist in procurement...   \n",
       "2  A Frontend Developer is responsible for design...   \n",
       "3  Marketing Analytics Specialists analyze market...   \n",
       "4  Accounting Managers supervise accounting teams...   \n",
       "\n",
       "                                              skills  \\\n",
       "0  ['Construction', 'project', 'management', 'Bui...   \n",
       "1  ['Procurement', 'processes', 'Purchase', 'orde...   \n",
       "2  ['Proficiency', 'HTML', 'CSS', 'JavaScript', '...   \n",
       "3  ['Marketing', 'analytics', 'Data', 'analysis',...   \n",
       "4  ['Accounting', 'principles', 'Financial', 'rep...   \n",
       "\n",
       "                                    Responsibilities                Company  \\\n",
       "0  Coordinate construction projects, including pe...                    APA   \n",
       "1  Support procurement activities, such as purcha...            CSL Limited   \n",
       "2  Design and implement user interfaces for web a...            Haier Group   \n",
       "3  Analyze marketing data and generate insights t...  Brighthouse Financial   \n",
       "4  Manage accounting functions, including financi...              Starbucks   \n",
       "\n",
       "                                     Company Profile  min_experience  \\\n",
       "0  {\"Sector\":\"Energy\",\"Industry\":\"Mining, Crude-O...               1   \n",
       "1  {\"Sector\":\"Pharmaceuticals\",\"Industry\":\"Health...               1   \n",
       "2  {\"Sector\":\"Appliances\",\"Industry\":\"Electronics...               3   \n",
       "3  {\"Sector\":\"Insurance\",\"Industry\":\"Insurance: L...               4   \n",
       "4  {\"Sector\":\"Food and Beverage\",\"Industry\":\"Food...               3   \n",
       "\n",
       "   max_experience  average_experience  min_salary  max_salary  average_salary  \n",
       "0               9                 5.0       55000       96000         75500.0  \n",
       "1              13                 7.0       55000       92000         73500.0  \n",
       "2              11                 7.0       55000      127000         91000.0  \n",
       "3              10                 7.0       58000       85000         71500.0  \n",
       "4              10                 6.5       62000       93000         77500.0  "
      ]
     },
     "execution_count": 1,
     "metadata": {},
     "output_type": "execute_result"
    }
   ],
   "source": [
    "import pandas as pd\n",
    "file_path = 'Data/cleaned_df.csv'\n",
    "df = pd.read_csv(file_path)\n",
    "df.head()"
   ]
  },
  {
   "cell_type": "code",
   "execution_count": 2,
   "metadata": {},
   "outputs": [
    {
     "data": {
      "text/plain": [
       "min_experience\n",
       "3    116456\n",
       "5    116247\n",
       "0    116167\n",
       "1    116045\n",
       "2    115584\n",
       "4    115513\n",
       "Name: count, dtype: int64"
      ]
     },
     "execution_count": 2,
     "metadata": {},
     "output_type": "execute_result"
    }
   ],
   "source": [
    "df['min_experience'].value_counts()"
   ]
  },
  {
   "cell_type": "code",
   "execution_count": 3,
   "metadata": {},
   "outputs": [
    {
     "data": {
      "text/plain": [
       "array(['{\"Sector\":\"Energy\",\"Industry\":\"Mining, Crude-Oil Production\",\"City\":\"Houston\",\"State\":\"Texas\",\"Zip\":\"77056\",\"Website\":\"www.apacorp.com\",\"Ticker\":\"APA\",\"CEO\":\"John J. Christmann Iv\"}',\n",
       "       '{\"Sector\":\"Pharmaceuticals\",\"Industry\":\"Healthcare\",\"City\":\"Melbourne\",\"State\":\"VIC\",\"Zip\":\"3000\",\"Website\":\"https://www.csl.com/\",\"Ticker\":\"CSL\",\"CEO\":\"Paul Perreault\"}',\n",
       "       '{\"Sector\":\"Appliances\",\"Industry\":\"Electronics & Appliances\",\"City\":\"Qingdao\",\"State\":\"N/A\",\"Zip\":\"N/A\",\"Website\":\"https://www.haier.net/en/\",\"Ticker\":\"1169.HK\",\"CEO\":\"Zhang Ruimin\"}',\n",
       "       ...,\n",
       "       '{\"Sector\":\"Energy\",\"Industry\":\"Wholesalers: Diversified\",\"City\":\"Waltham\",\"State\":\"Massachusetts\",\"Zip\":\"2453\",\"Website\":\"www.globalp.com\",\"Ticker\":\"GLP\",\"CEO\":\"Eric Slifka\"}',\n",
       "       '{\"Sector\":\"Apparel and Footwear\",\"Industry\":\"Apparel\",\"City\":\"Beaverton\",\"State\":\"Oregon\",\"Zip\":\"97005\",\"Website\":\"www.nike.com\",\"Ticker\":\"NKE\",\"CEO\":\"John Donahoe\"}',\n",
       "       '{\"Sector\":\"Mining\",\"Industry\":\"Mining, Crude-Oil Production\",\"City\":\"Phoenix\",\"State\":\"Arizona\",\"Zip\":\"85004\",\"Website\":\"www.fcx.com\",\"Ticker\":\"FCX\",\"CEO\":\"Richard C. Adkerson\"}'],\n",
       "      dtype=object)"
      ]
     },
     "execution_count": 3,
     "metadata": {},
     "output_type": "execute_result"
    }
   ],
   "source": [
    "df['Company Profile'].values"
   ]
  },
  {
   "cell_type": "code",
   "execution_count": 4,
   "metadata": {},
   "outputs": [
    {
     "data": {
      "text/plain": [
       "Index(['Qualifications', 'location', 'Country', 'Work Type', 'Company Size',\n",
       "       'Job Posting Date', 'Preference', 'Job Title', 'Role',\n",
       "       'Job Description', 'skills', 'Responsibilities', 'Company',\n",
       "       'Company Profile', 'min_experience', 'max_experience',\n",
       "       'average_experience', 'min_salary', 'max_salary', 'average_salary'],\n",
       "      dtype='object')"
      ]
     },
     "execution_count": 4,
     "metadata": {},
     "output_type": "execute_result"
    }
   ],
   "source": [
    "df.columns"
   ]
  },
  {
   "cell_type": "code",
   "execution_count": 5,
   "metadata": {},
   "outputs": [],
   "source": [
    "df = df[['Qualifications','Work Type','Preference','Job Title','Role','Job Description','skills','Responsibilities']]"
   ]
  },
  {
   "cell_type": "code",
   "execution_count": 6,
   "metadata": {},
   "outputs": [
    {
     "data": {
      "text/html": [
       "<div>\n",
       "<style scoped>\n",
       "    .dataframe tbody tr th:only-of-type {\n",
       "        vertical-align: middle;\n",
       "    }\n",
       "\n",
       "    .dataframe tbody tr th {\n",
       "        vertical-align: top;\n",
       "    }\n",
       "\n",
       "    .dataframe thead th {\n",
       "        text-align: right;\n",
       "    }\n",
       "</style>\n",
       "<table border=\"1\" class=\"dataframe\">\n",
       "  <thead>\n",
       "    <tr style=\"text-align: right;\">\n",
       "      <th></th>\n",
       "      <th>Qualifications</th>\n",
       "      <th>Work Type</th>\n",
       "      <th>Preference</th>\n",
       "      <th>Job Title</th>\n",
       "      <th>Role</th>\n",
       "      <th>Job Description</th>\n",
       "      <th>skills</th>\n",
       "      <th>Responsibilities</th>\n",
       "    </tr>\n",
       "  </thead>\n",
       "  <tbody>\n",
       "    <tr>\n",
       "      <th>0</th>\n",
       "      <td>B.Tech</td>\n",
       "      <td>Part-Time</td>\n",
       "      <td>Female</td>\n",
       "      <td>Project Coordinator</td>\n",
       "      <td>Construction Project Coordinator</td>\n",
       "      <td>Construction Project Coordinators assist in ma...</td>\n",
       "      <td>['Construction', 'project', 'management', 'Bui...</td>\n",
       "      <td>Coordinate construction projects, including pe...</td>\n",
       "    </tr>\n",
       "    <tr>\n",
       "      <th>1</th>\n",
       "      <td>BA</td>\n",
       "      <td>Contract</td>\n",
       "      <td>Both</td>\n",
       "      <td>Procurement Specialist</td>\n",
       "      <td>Procurement Coordinator</td>\n",
       "      <td>Procurement Coordinators assist in procurement...</td>\n",
       "      <td>['Procurement', 'processes', 'Purchase', 'orde...</td>\n",
       "      <td>Support procurement activities, such as purcha...</td>\n",
       "    </tr>\n",
       "    <tr>\n",
       "      <th>2</th>\n",
       "      <td>B.Tech</td>\n",
       "      <td>Contract</td>\n",
       "      <td>Male</td>\n",
       "      <td>Software Engineer</td>\n",
       "      <td>Frontend Developer</td>\n",
       "      <td>A Frontend Developer is responsible for design...</td>\n",
       "      <td>['Proficiency', 'HTML', 'CSS', 'JavaScript', '...</td>\n",
       "      <td>Design and implement user interfaces for web a...</td>\n",
       "    </tr>\n",
       "    <tr>\n",
       "      <th>3</th>\n",
       "      <td>B.Tech</td>\n",
       "      <td>Intern</td>\n",
       "      <td>Female</td>\n",
       "      <td>Marketing Specialist</td>\n",
       "      <td>Marketing Analytics Specialist</td>\n",
       "      <td>Marketing Analytics Specialists analyze market...</td>\n",
       "      <td>['Marketing', 'analytics', 'Data', 'analysis',...</td>\n",
       "      <td>Analyze marketing data and generate insights t...</td>\n",
       "    </tr>\n",
       "    <tr>\n",
       "      <th>4</th>\n",
       "      <td>MBA</td>\n",
       "      <td>Full-Time</td>\n",
       "      <td>Female</td>\n",
       "      <td>Finance Manager</td>\n",
       "      <td>Accounting Manager</td>\n",
       "      <td>Accounting Managers supervise accounting teams...</td>\n",
       "      <td>['Accounting', 'principles', 'Financial', 'rep...</td>\n",
       "      <td>Manage accounting functions, including financi...</td>\n",
       "    </tr>\n",
       "  </tbody>\n",
       "</table>\n",
       "</div>"
      ],
      "text/plain": [
       "  Qualifications  Work Type Preference               Job Title  \\\n",
       "0         B.Tech  Part-Time     Female     Project Coordinator   \n",
       "1             BA   Contract       Both  Procurement Specialist   \n",
       "2         B.Tech   Contract       Male       Software Engineer   \n",
       "3         B.Tech     Intern     Female    Marketing Specialist   \n",
       "4            MBA  Full-Time     Female         Finance Manager   \n",
       "\n",
       "                               Role  \\\n",
       "0  Construction Project Coordinator   \n",
       "1           Procurement Coordinator   \n",
       "2                Frontend Developer   \n",
       "3    Marketing Analytics Specialist   \n",
       "4                Accounting Manager   \n",
       "\n",
       "                                     Job Description  \\\n",
       "0  Construction Project Coordinators assist in ma...   \n",
       "1  Procurement Coordinators assist in procurement...   \n",
       "2  A Frontend Developer is responsible for design...   \n",
       "3  Marketing Analytics Specialists analyze market...   \n",
       "4  Accounting Managers supervise accounting teams...   \n",
       "\n",
       "                                              skills  \\\n",
       "0  ['Construction', 'project', 'management', 'Bui...   \n",
       "1  ['Procurement', 'processes', 'Purchase', 'orde...   \n",
       "2  ['Proficiency', 'HTML', 'CSS', 'JavaScript', '...   \n",
       "3  ['Marketing', 'analytics', 'Data', 'analysis',...   \n",
       "4  ['Accounting', 'principles', 'Financial', 'rep...   \n",
       "\n",
       "                                    Responsibilities  \n",
       "0  Coordinate construction projects, including pe...  \n",
       "1  Support procurement activities, such as purcha...  \n",
       "2  Design and implement user interfaces for web a...  \n",
       "3  Analyze marketing data and generate insights t...  \n",
       "4  Manage accounting functions, including financi...  "
      ]
     },
     "execution_count": 6,
     "metadata": {},
     "output_type": "execute_result"
    }
   ],
   "source": [
    "df.head()"
   ]
  },
  {
   "cell_type": "code",
   "execution_count": 7,
   "metadata": {},
   "outputs": [
    {
     "data": {
      "text/plain": [
       "array([\"['Construction', 'project', 'management', 'Building', 'codes', 'Construction', 'scheduling', 'Contractor', 'subcontractor', 'coordination']\",\n",
       "       \"['Procurement', 'processes', 'Purchase', 'order', 'management', 'Vendor', 'communication', 'Data', 'analysis', 'Inventory']\",\n",
       "       \"['Proficiency', 'HTML', 'CSS', 'JavaScript', 'Experience', 'with', 'frontend', 'frameworks', 'like', 'React', 'Angular', 'or', 'Vue.js', 'Responsive', 'web', 'design', 'Cross-browser', 'compatibility', 'Version', 'Frontend', 'performance', 'optimization']\",\n",
       "       ...,\n",
       "       \"['User-centered', 'design', 'principles', 'UX/UI', 'design', 'tools', 'Wireframing', 'prototyping', 'Usability', 'testing', 'user', 'research', 'Information', 'architecture', 'user', 'flows']\",\n",
       "       \"['Content', 'creation', 'Content', 'marketing', 'Social', 'media', 'management', 'SEO', 'optimization', 'Creative', 'storytelling', 'Audience', 'engagement', 'Analytics', 'reporting', 'Adaptability', 'Communication', 'Creativity']\",\n",
       "       \"['Content', 'creation', 'Content', 'marketing', 'Social', 'media', 'management', 'SEO', 'optimization', 'Creative', 'storytelling', 'Audience', 'engagement', 'Analytics', 'reporting', 'Adaptability', 'Communication', 'Creativity']\"],\n",
       "      dtype=object)"
      ]
     },
     "execution_count": 7,
     "metadata": {},
     "output_type": "execute_result"
    }
   ],
   "source": [
    "df['skills'].values"
   ]
  },
  {
   "cell_type": "code",
   "execution_count": 8,
   "metadata": {},
   "outputs": [
    {
     "data": {
      "text/plain": [
       "array(['Construction Project Coordinators assist in managing construction projects, handling documentation, budget tracking, and coordinating subcontractors.',\n",
       "       'Procurement Coordinators assist in procurement activities, including vendor communication, purchase order processing, and inventory management.',\n",
       "       'A Frontend Developer is responsible for designing and implementing user interfaces for web applications. They collaborate with designers to create visually appealing and responsive web pages, ensuring a seamless user experience across different devices and browsers.',\n",
       "       ...,\n",
       "       'User Experience Designers create intuitive and user-friendly digital interfaces. They conduct user research, design prototypes, and work to enhance the overall user experience of websites and applications.',\n",
       "       'Create engaging and relevant content, such as articles, videos, or social media posts, to promote brands or products.',\n",
       "       'Create engaging and relevant content, such as articles, videos, or social media posts, to promote brands or products.'],\n",
       "      dtype=object)"
      ]
     },
     "execution_count": 8,
     "metadata": {},
     "output_type": "execute_result"
    }
   ],
   "source": [
    "df['Job Description'].values"
   ]
  },
  {
   "cell_type": "code",
   "execution_count": 9,
   "metadata": {},
   "outputs": [
    {
     "data": {
      "text/plain": [
       "array(['Coordinate construction projects, including permits, subcontractors, and materials. Monitor project progress and timelines. Assist in budgeting and cost control.',\n",
       "       'Support procurement activities, such as purchase order processing, vendor communications, and documentation. Maintain procurement records and reports. Assist in supplier audits and assessments.',\n",
       "       'Design and implement user interfaces for web applications using HTML, CSS, and JavaScript. Collaborate with UX designers to ensure a user-friendly experience. Optimize applications for speed and responsiveness.',\n",
       "       ...,\n",
       "       'Design and improve user experiences (UX) by creating intuitive and user-friendly interfaces for websites and applications. Conduct user research and usability testing. Collaborate with stakeholders to gather and incorporate feedback.',\n",
       "       'Create compelling and shareable content for social media platforms, including text, images, and videos. Collaborate with designers and photographers for visuals. Engage with the audience and respond to comments.',\n",
       "       'Create compelling and shareable content for social media platforms, including text, images, and videos. Collaborate with designers and photographers for visuals. Engage with the audience and respond to comments.'],\n",
       "      dtype=object)"
      ]
     },
     "execution_count": 9,
     "metadata": {},
     "output_type": "execute_result"
    }
   ],
   "source": [
    "df['Responsibilities'].values"
   ]
  },
  {
   "cell_type": "code",
   "execution_count": 10,
   "metadata": {},
   "outputs": [],
   "source": [
    "df['Role'] = df['Role'].str.replace(' ', '')"
   ]
  },
  {
   "cell_type": "code",
   "execution_count": 11,
   "metadata": {},
   "outputs": [
    {
     "data": {
      "text/plain": [
       "'ConstructionProjectCoordinator'"
      ]
     },
     "execution_count": 11,
     "metadata": {},
     "output_type": "execute_result"
    }
   ],
   "source": [
    "df['Role'][0]"
   ]
  },
  {
   "cell_type": "code",
   "execution_count": 12,
   "metadata": {},
   "outputs": [],
   "source": [
    "df['Title'] = df['Job Title'].str.replace(' ', '')"
   ]
  },
  {
   "cell_type": "code",
   "execution_count": 13,
   "metadata": {},
   "outputs": [],
   "source": [
    "df['tags'] = df['Qualifications'] + ' ' + df['Work Type'] + ' ' + df['Preference'] + ' ' + df['Title'] + ' ' + df['Role'] + ' ' + df['Job Description'] + ' ' + df['skills'] + ' ' + df['Responsibilities']\n"
   ]
  },
  {
   "cell_type": "code",
   "execution_count": 14,
   "metadata": {},
   "outputs": [
    {
     "data": {
      "text/html": [
       "<div>\n",
       "<style scoped>\n",
       "    .dataframe tbody tr th:only-of-type {\n",
       "        vertical-align: middle;\n",
       "    }\n",
       "\n",
       "    .dataframe tbody tr th {\n",
       "        vertical-align: top;\n",
       "    }\n",
       "\n",
       "    .dataframe thead th {\n",
       "        text-align: right;\n",
       "    }\n",
       "</style>\n",
       "<table border=\"1\" class=\"dataframe\">\n",
       "  <thead>\n",
       "    <tr style=\"text-align: right;\">\n",
       "      <th></th>\n",
       "      <th>Qualifications</th>\n",
       "      <th>Work Type</th>\n",
       "      <th>Preference</th>\n",
       "      <th>Job Title</th>\n",
       "      <th>Role</th>\n",
       "      <th>Job Description</th>\n",
       "      <th>skills</th>\n",
       "      <th>Responsibilities</th>\n",
       "      <th>Title</th>\n",
       "      <th>tags</th>\n",
       "    </tr>\n",
       "  </thead>\n",
       "  <tbody>\n",
       "    <tr>\n",
       "      <th>0</th>\n",
       "      <td>B.Tech</td>\n",
       "      <td>Part-Time</td>\n",
       "      <td>Female</td>\n",
       "      <td>Project Coordinator</td>\n",
       "      <td>ConstructionProjectCoordinator</td>\n",
       "      <td>Construction Project Coordinators assist in ma...</td>\n",
       "      <td>['Construction', 'project', 'management', 'Bui...</td>\n",
       "      <td>Coordinate construction projects, including pe...</td>\n",
       "      <td>ProjectCoordinator</td>\n",
       "      <td>B.Tech Part-Time Female ProjectCoordinator Con...</td>\n",
       "    </tr>\n",
       "    <tr>\n",
       "      <th>1</th>\n",
       "      <td>BA</td>\n",
       "      <td>Contract</td>\n",
       "      <td>Both</td>\n",
       "      <td>Procurement Specialist</td>\n",
       "      <td>ProcurementCoordinator</td>\n",
       "      <td>Procurement Coordinators assist in procurement...</td>\n",
       "      <td>['Procurement', 'processes', 'Purchase', 'orde...</td>\n",
       "      <td>Support procurement activities, such as purcha...</td>\n",
       "      <td>ProcurementSpecialist</td>\n",
       "      <td>BA Contract Both ProcurementSpecialist Procure...</td>\n",
       "    </tr>\n",
       "    <tr>\n",
       "      <th>2</th>\n",
       "      <td>B.Tech</td>\n",
       "      <td>Contract</td>\n",
       "      <td>Male</td>\n",
       "      <td>Software Engineer</td>\n",
       "      <td>FrontendDeveloper</td>\n",
       "      <td>A Frontend Developer is responsible for design...</td>\n",
       "      <td>['Proficiency', 'HTML', 'CSS', 'JavaScript', '...</td>\n",
       "      <td>Design and implement user interfaces for web a...</td>\n",
       "      <td>SoftwareEngineer</td>\n",
       "      <td>B.Tech Contract Male SoftwareEngineer Frontend...</td>\n",
       "    </tr>\n",
       "    <tr>\n",
       "      <th>3</th>\n",
       "      <td>B.Tech</td>\n",
       "      <td>Intern</td>\n",
       "      <td>Female</td>\n",
       "      <td>Marketing Specialist</td>\n",
       "      <td>MarketingAnalyticsSpecialist</td>\n",
       "      <td>Marketing Analytics Specialists analyze market...</td>\n",
       "      <td>['Marketing', 'analytics', 'Data', 'analysis',...</td>\n",
       "      <td>Analyze marketing data and generate insights t...</td>\n",
       "      <td>MarketingSpecialist</td>\n",
       "      <td>B.Tech Intern Female MarketingSpecialist Marke...</td>\n",
       "    </tr>\n",
       "    <tr>\n",
       "      <th>4</th>\n",
       "      <td>MBA</td>\n",
       "      <td>Full-Time</td>\n",
       "      <td>Female</td>\n",
       "      <td>Finance Manager</td>\n",
       "      <td>AccountingManager</td>\n",
       "      <td>Accounting Managers supervise accounting teams...</td>\n",
       "      <td>['Accounting', 'principles', 'Financial', 'rep...</td>\n",
       "      <td>Manage accounting functions, including financi...</td>\n",
       "      <td>FinanceManager</td>\n",
       "      <td>MBA Full-Time Female FinanceManager Accounting...</td>\n",
       "    </tr>\n",
       "  </tbody>\n",
       "</table>\n",
       "</div>"
      ],
      "text/plain": [
       "  Qualifications  Work Type Preference               Job Title  \\\n",
       "0         B.Tech  Part-Time     Female     Project Coordinator   \n",
       "1             BA   Contract       Both  Procurement Specialist   \n",
       "2         B.Tech   Contract       Male       Software Engineer   \n",
       "3         B.Tech     Intern     Female    Marketing Specialist   \n",
       "4            MBA  Full-Time     Female         Finance Manager   \n",
       "\n",
       "                             Role  \\\n",
       "0  ConstructionProjectCoordinator   \n",
       "1          ProcurementCoordinator   \n",
       "2               FrontendDeveloper   \n",
       "3    MarketingAnalyticsSpecialist   \n",
       "4               AccountingManager   \n",
       "\n",
       "                                     Job Description  \\\n",
       "0  Construction Project Coordinators assist in ma...   \n",
       "1  Procurement Coordinators assist in procurement...   \n",
       "2  A Frontend Developer is responsible for design...   \n",
       "3  Marketing Analytics Specialists analyze market...   \n",
       "4  Accounting Managers supervise accounting teams...   \n",
       "\n",
       "                                              skills  \\\n",
       "0  ['Construction', 'project', 'management', 'Bui...   \n",
       "1  ['Procurement', 'processes', 'Purchase', 'orde...   \n",
       "2  ['Proficiency', 'HTML', 'CSS', 'JavaScript', '...   \n",
       "3  ['Marketing', 'analytics', 'Data', 'analysis',...   \n",
       "4  ['Accounting', 'principles', 'Financial', 'rep...   \n",
       "\n",
       "                                    Responsibilities                  Title  \\\n",
       "0  Coordinate construction projects, including pe...     ProjectCoordinator   \n",
       "1  Support procurement activities, such as purcha...  ProcurementSpecialist   \n",
       "2  Design and implement user interfaces for web a...       SoftwareEngineer   \n",
       "3  Analyze marketing data and generate insights t...    MarketingSpecialist   \n",
       "4  Manage accounting functions, including financi...         FinanceManager   \n",
       "\n",
       "                                                tags  \n",
       "0  B.Tech Part-Time Female ProjectCoordinator Con...  \n",
       "1  BA Contract Both ProcurementSpecialist Procure...  \n",
       "2  B.Tech Contract Male SoftwareEngineer Frontend...  \n",
       "3  B.Tech Intern Female MarketingSpecialist Marke...  \n",
       "4  MBA Full-Time Female FinanceManager Accounting...  "
      ]
     },
     "execution_count": 14,
     "metadata": {},
     "output_type": "execute_result"
    }
   ],
   "source": [
    "df.head()"
   ]
  },
  {
   "cell_type": "code",
   "execution_count": 15,
   "metadata": {},
   "outputs": [
    {
     "name": "stdout",
     "output_type": "stream",
     "text": [
      "<class 'pandas.core.frame.DataFrame'>\n",
      "RangeIndex: 696012 entries, 0 to 696011\n",
      "Data columns (total 10 columns):\n",
      " #   Column            Non-Null Count   Dtype \n",
      "---  ------            --------------   ----- \n",
      " 0   Qualifications    696012 non-null  object\n",
      " 1   Work Type         696012 non-null  object\n",
      " 2   Preference        696012 non-null  object\n",
      " 3   Job Title         696012 non-null  object\n",
      " 4   Role              696012 non-null  object\n",
      " 5   Job Description   696012 non-null  object\n",
      " 6   skills            696012 non-null  object\n",
      " 7   Responsibilities  696012 non-null  object\n",
      " 8   Title             696012 non-null  object\n",
      " 9   tags              696012 non-null  object\n",
      "dtypes: object(10)\n",
      "memory usage: 53.1+ MB\n"
     ]
    }
   ],
   "source": [
    "df.info()"
   ]
  },
  {
   "cell_type": "code",
   "execution_count": 16,
   "metadata": {},
   "outputs": [
    {
     "data": {
      "text/plain": [
       "\"B.Tech Part-Time Female ProjectCoordinator ConstructionProjectCoordinator Construction Project Coordinators assist in managing construction projects, handling documentation, budget tracking, and coordinating subcontractors. ['Construction', 'project', 'management', 'Building', 'codes', 'Construction', 'scheduling', 'Contractor', 'subcontractor', 'coordination'] Coordinate construction projects, including permits, subcontractors, and materials. Monitor project progress and timelines. Assist in budgeting and cost control.\""
      ]
     },
     "execution_count": 16,
     "metadata": {},
     "output_type": "execute_result"
    }
   ],
   "source": [
    "df['tags'][0]"
   ]
  },
  {
   "cell_type": "code",
   "execution_count": 17,
   "metadata": {},
   "outputs": [
    {
     "data": {
      "text/html": [
       "<div>\n",
       "<style scoped>\n",
       "    .dataframe tbody tr th:only-of-type {\n",
       "        vertical-align: middle;\n",
       "    }\n",
       "\n",
       "    .dataframe tbody tr th {\n",
       "        vertical-align: top;\n",
       "    }\n",
       "\n",
       "    .dataframe thead th {\n",
       "        text-align: right;\n",
       "    }\n",
       "</style>\n",
       "<table border=\"1\" class=\"dataframe\">\n",
       "  <thead>\n",
       "    <tr style=\"text-align: right;\">\n",
       "      <th></th>\n",
       "      <th>Qualifications</th>\n",
       "      <th>Work Type</th>\n",
       "      <th>Preference</th>\n",
       "      <th>Job Title</th>\n",
       "      <th>Role</th>\n",
       "      <th>Job Description</th>\n",
       "      <th>skills</th>\n",
       "      <th>Responsibilities</th>\n",
       "      <th>Title</th>\n",
       "      <th>tags</th>\n",
       "    </tr>\n",
       "  </thead>\n",
       "  <tbody>\n",
       "    <tr>\n",
       "      <th>0</th>\n",
       "      <td>B.Tech</td>\n",
       "      <td>Part-Time</td>\n",
       "      <td>Female</td>\n",
       "      <td>Project Coordinator</td>\n",
       "      <td>ConstructionProjectCoordinator</td>\n",
       "      <td>Construction Project Coordinators assist in ma...</td>\n",
       "      <td>['Construction', 'project', 'management', 'Bui...</td>\n",
       "      <td>Coordinate construction projects, including pe...</td>\n",
       "      <td>ProjectCoordinator</td>\n",
       "      <td>B.Tech Part-Time Female ProjectCoordinator Con...</td>\n",
       "    </tr>\n",
       "    <tr>\n",
       "      <th>1</th>\n",
       "      <td>BA</td>\n",
       "      <td>Contract</td>\n",
       "      <td>Both</td>\n",
       "      <td>Procurement Specialist</td>\n",
       "      <td>ProcurementCoordinator</td>\n",
       "      <td>Procurement Coordinators assist in procurement...</td>\n",
       "      <td>['Procurement', 'processes', 'Purchase', 'orde...</td>\n",
       "      <td>Support procurement activities, such as purcha...</td>\n",
       "      <td>ProcurementSpecialist</td>\n",
       "      <td>BA Contract Both ProcurementSpecialist Procure...</td>\n",
       "    </tr>\n",
       "    <tr>\n",
       "      <th>2</th>\n",
       "      <td>B.Tech</td>\n",
       "      <td>Contract</td>\n",
       "      <td>Male</td>\n",
       "      <td>Software Engineer</td>\n",
       "      <td>FrontendDeveloper</td>\n",
       "      <td>A Frontend Developer is responsible for design...</td>\n",
       "      <td>['Proficiency', 'HTML', 'CSS', 'JavaScript', '...</td>\n",
       "      <td>Design and implement user interfaces for web a...</td>\n",
       "      <td>SoftwareEngineer</td>\n",
       "      <td>B.Tech Contract Male SoftwareEngineer Frontend...</td>\n",
       "    </tr>\n",
       "    <tr>\n",
       "      <th>3</th>\n",
       "      <td>B.Tech</td>\n",
       "      <td>Intern</td>\n",
       "      <td>Female</td>\n",
       "      <td>Marketing Specialist</td>\n",
       "      <td>MarketingAnalyticsSpecialist</td>\n",
       "      <td>Marketing Analytics Specialists analyze market...</td>\n",
       "      <td>['Marketing', 'analytics', 'Data', 'analysis',...</td>\n",
       "      <td>Analyze marketing data and generate insights t...</td>\n",
       "      <td>MarketingSpecialist</td>\n",
       "      <td>B.Tech Intern Female MarketingSpecialist Marke...</td>\n",
       "    </tr>\n",
       "    <tr>\n",
       "      <th>4</th>\n",
       "      <td>MBA</td>\n",
       "      <td>Full-Time</td>\n",
       "      <td>Female</td>\n",
       "      <td>Finance Manager</td>\n",
       "      <td>AccountingManager</td>\n",
       "      <td>Accounting Managers supervise accounting teams...</td>\n",
       "      <td>['Accounting', 'principles', 'Financial', 'rep...</td>\n",
       "      <td>Manage accounting functions, including financi...</td>\n",
       "      <td>FinanceManager</td>\n",
       "      <td>MBA Full-Time Female FinanceManager Accounting...</td>\n",
       "    </tr>\n",
       "  </tbody>\n",
       "</table>\n",
       "</div>"
      ],
      "text/plain": [
       "  Qualifications  Work Type Preference               Job Title  \\\n",
       "0         B.Tech  Part-Time     Female     Project Coordinator   \n",
       "1             BA   Contract       Both  Procurement Specialist   \n",
       "2         B.Tech   Contract       Male       Software Engineer   \n",
       "3         B.Tech     Intern     Female    Marketing Specialist   \n",
       "4            MBA  Full-Time     Female         Finance Manager   \n",
       "\n",
       "                             Role  \\\n",
       "0  ConstructionProjectCoordinator   \n",
       "1          ProcurementCoordinator   \n",
       "2               FrontendDeveloper   \n",
       "3    MarketingAnalyticsSpecialist   \n",
       "4               AccountingManager   \n",
       "\n",
       "                                     Job Description  \\\n",
       "0  Construction Project Coordinators assist in ma...   \n",
       "1  Procurement Coordinators assist in procurement...   \n",
       "2  A Frontend Developer is responsible for design...   \n",
       "3  Marketing Analytics Specialists analyze market...   \n",
       "4  Accounting Managers supervise accounting teams...   \n",
       "\n",
       "                                              skills  \\\n",
       "0  ['Construction', 'project', 'management', 'Bui...   \n",
       "1  ['Procurement', 'processes', 'Purchase', 'orde...   \n",
       "2  ['Proficiency', 'HTML', 'CSS', 'JavaScript', '...   \n",
       "3  ['Marketing', 'analytics', 'Data', 'analysis',...   \n",
       "4  ['Accounting', 'principles', 'Financial', 'rep...   \n",
       "\n",
       "                                    Responsibilities                  Title  \\\n",
       "0  Coordinate construction projects, including pe...     ProjectCoordinator   \n",
       "1  Support procurement activities, such as purcha...  ProcurementSpecialist   \n",
       "2  Design and implement user interfaces for web a...       SoftwareEngineer   \n",
       "3  Analyze marketing data and generate insights t...    MarketingSpecialist   \n",
       "4  Manage accounting functions, including financi...         FinanceManager   \n",
       "\n",
       "                                                tags  \n",
       "0  B.Tech Part-Time Female ProjectCoordinator Con...  \n",
       "1  BA Contract Both ProcurementSpecialist Procure...  \n",
       "2  B.Tech Contract Male SoftwareEngineer Frontend...  \n",
       "3  B.Tech Intern Female MarketingSpecialist Marke...  \n",
       "4  MBA Full-Time Female FinanceManager Accounting...  "
      ]
     },
     "execution_count": 17,
     "metadata": {},
     "output_type": "execute_result"
    }
   ],
   "source": [
    "df.head()"
   ]
  },
  {
   "cell_type": "code",
   "execution_count": 18,
   "metadata": {},
   "outputs": [],
   "source": [
    "df = df[['Job Title', 'tags' ]]"
   ]
  },
  {
   "cell_type": "code",
   "execution_count": 19,
   "metadata": {},
   "outputs": [],
   "source": [
    "df['tags']= df['tags'].apply(lambda x:x.lower())"
   ]
  },
  {
   "cell_type": "code",
   "execution_count": 20,
   "metadata": {},
   "outputs": [
    {
     "data": {
      "text/html": [
       "<div>\n",
       "<style scoped>\n",
       "    .dataframe tbody tr th:only-of-type {\n",
       "        vertical-align: middle;\n",
       "    }\n",
       "\n",
       "    .dataframe tbody tr th {\n",
       "        vertical-align: top;\n",
       "    }\n",
       "\n",
       "    .dataframe thead th {\n",
       "        text-align: right;\n",
       "    }\n",
       "</style>\n",
       "<table border=\"1\" class=\"dataframe\">\n",
       "  <thead>\n",
       "    <tr style=\"text-align: right;\">\n",
       "      <th></th>\n",
       "      <th>Job Title</th>\n",
       "      <th>tags</th>\n",
       "    </tr>\n",
       "  </thead>\n",
       "  <tbody>\n",
       "    <tr>\n",
       "      <th>0</th>\n",
       "      <td>Project Coordinator</td>\n",
       "      <td>b.tech part-time female projectcoordinator con...</td>\n",
       "    </tr>\n",
       "    <tr>\n",
       "      <th>1</th>\n",
       "      <td>Procurement Specialist</td>\n",
       "      <td>ba contract both procurementspecialist procure...</td>\n",
       "    </tr>\n",
       "    <tr>\n",
       "      <th>2</th>\n",
       "      <td>Software Engineer</td>\n",
       "      <td>b.tech contract male softwareengineer frontend...</td>\n",
       "    </tr>\n",
       "    <tr>\n",
       "      <th>3</th>\n",
       "      <td>Marketing Specialist</td>\n",
       "      <td>b.tech intern female marketingspecialist marke...</td>\n",
       "    </tr>\n",
       "    <tr>\n",
       "      <th>4</th>\n",
       "      <td>Finance Manager</td>\n",
       "      <td>mba full-time female financemanager accounting...</td>\n",
       "    </tr>\n",
       "  </tbody>\n",
       "</table>\n",
       "</div>"
      ],
      "text/plain": [
       "                Job Title                                               tags\n",
       "0     Project Coordinator  b.tech part-time female projectcoordinator con...\n",
       "1  Procurement Specialist  ba contract both procurementspecialist procure...\n",
       "2       Software Engineer  b.tech contract male softwareengineer frontend...\n",
       "3    Marketing Specialist  b.tech intern female marketingspecialist marke...\n",
       "4         Finance Manager  mba full-time female financemanager accounting..."
      ]
     },
     "execution_count": 20,
     "metadata": {},
     "output_type": "execute_result"
    }
   ],
   "source": [
    "df.head()"
   ]
  },
  {
   "cell_type": "code",
   "execution_count": 21,
   "metadata": {},
   "outputs": [
    {
     "data": {
      "text/plain": [
       "(696012, 2)"
      ]
     },
     "execution_count": 21,
     "metadata": {},
     "output_type": "execute_result"
    }
   ],
   "source": [
    "df.shape"
   ]
  },
  {
   "cell_type": "code",
   "execution_count": 22,
   "metadata": {},
   "outputs": [
    {
     "name": "stdout",
     "output_type": "stream",
     "text": [
      "Top 3 similar jobs: ['Data Scientist', 'Data Analyst', 'Technical Writer']\n"
     ]
    }
   ],
   "source": [
    "from sklearn.feature_extraction.text import TfidfVectorizer\n",
    "from sklearn.metrics.pairwise import cosine_similarity\n",
    "import pandas as pd\n",
    "\n",
    "\n",
    "def recommend_top_3(job_tags):\n",
    "    # Step 1: Vectorize the 'tags' column\n",
    "    vectorizer = TfidfVectorizer()\n",
    "    tfidf_matrix = vectorizer.fit_transform(df['tags'])\n",
    "    \n",
    "    # Step 2: Vectorize the input tags\n",
    "    input_vector = vectorizer.transform([job_tags])\n",
    "    \n",
    "    # Step 3: Compute cosine similarity\n",
    "    cosine_similarities = cosine_similarity(input_vector, tfidf_matrix).flatten()\n",
    "    \n",
    "    # Step 4: Get indices of the top similarity scores, allowing for potential duplicates\n",
    "    top_indices = cosine_similarities.argsort()[-len(df):][::-1]\n",
    "    \n",
    "    # Step 5: Extract job titles and ensure they are unique\n",
    "    top_jobs = []\n",
    "    seen_jobs = set()\n",
    "    \n",
    "    for idx in top_indices:\n",
    "        job_title = df.iloc[idx]['Job Title']\n",
    "        if job_title not in seen_jobs:\n",
    "            top_jobs.append(job_title)\n",
    "            seen_jobs.add(job_title)\n",
    "        if len(top_jobs) == 3:\n",
    "            break\n",
    "    \n",
    "    # Ensure we return 3 jobs, if available\n",
    "    if len(top_jobs) < 3:\n",
    "        top_jobs += ['No more distinct jobs available'] * (3 - len(top_jobs))\n",
    "    \n",
    "    return top_jobs\n",
    "\n",
    "# Example usage\n",
    "recommended_jobs = recommend_top_3('python, machine learning')\n",
    "print(\"Top 3 similar jobs:\", recommended_jobs)\n"
   ]
  },
  {
   "cell_type": "code",
   "execution_count": 23,
   "metadata": {},
   "outputs": [
    {
     "name": "stdout",
     "output_type": "stream",
     "text": [
      "Vectorizer and job data saved successfully.\n"
     ]
    }
   ],
   "source": [
    "import pandas as pd\n",
    "from sklearn.feature_extraction.text import TfidfVectorizer\n",
    "import pickle\n",
    "\n",
    "# Step 1: Initialize and fit the vectorizer on the 'tags' column\n",
    "vectorizer = TfidfVectorizer()\n",
    "vectorizer.fit(df['tags'])\n",
    "\n",
    "# Save the vectorizer to disk\n",
    "with open('Data/vectorizer.pkl', 'wb') as f:\n",
    "    pickle.dump(vectorizer, f)\n",
    "\n",
    "# Save the DataFrame to a pickle file\n",
    "with open('Data/job_data.pkl', 'wb') as f:\n",
    "    pickle.dump(df, f)\n",
    "\n",
    "print(\"Vectorizer and job data saved successfully.\")"
   ]
  },
  {
   "cell_type": "code",
   "execution_count": 24,
   "metadata": {},
   "outputs": [
    {
     "data": {
      "text/plain": [
       "['Software Engineer', 'Data Scientist', 'Finance Manager']"
      ]
     },
     "execution_count": 24,
     "metadata": {},
     "output_type": "execute_result"
    }
   ],
   "source": [
    "recommend_top_3('Python')"
   ]
  }
 ],
 "metadata": {
  "kernelspec": {
   "display_name": "Python 3",
   "language": "python",
   "name": "python3"
  },
  "language_info": {
   "codemirror_mode": {
    "name": "ipython",
    "version": 3
   },
   "file_extension": ".py",
   "mimetype": "text/x-python",
   "name": "python",
   "nbconvert_exporter": "python",
   "pygments_lexer": "ipython3",
   "version": "3.11.8"
  }
 },
 "nbformat": 4,
 "nbformat_minor": 2
}
