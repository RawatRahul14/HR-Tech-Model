{
 "cells": [
  {
   "cell_type": "markdown",
   "metadata": {},
   "source": [
    "## Creating a deep learning model for salary prediction "
   ]
  },
  {
   "cell_type": "code",
   "execution_count": 33,
   "metadata": {},
   "outputs": [],
   "source": [
    "import pandas as pd\n",
    "import numpy as np\n",
    "from sklearn.model_selection import train_test_split\n",
    "from sklearn.metrics import mean_absolute_error, mean_squared_error, r2_score\n",
    "from sklearn.preprocessing import StandardScaler, OneHotEncoder\n",
    "from sklearn.compose import ColumnTransformer\n",
    "from sklearn.pipeline import Pipeline\n",
    "import tensorflow as tf\n",
    "from tensorflow.keras import layers, models"
   ]
  },
  {
   "cell_type": "code",
   "execution_count": 34,
   "metadata": {},
   "outputs": [
    {
     "data": {
      "text/html": [
       "<div>\n",
       "<style scoped>\n",
       "    .dataframe tbody tr th:only-of-type {\n",
       "        vertical-align: middle;\n",
       "    }\n",
       "\n",
       "    .dataframe tbody tr th {\n",
       "        vertical-align: top;\n",
       "    }\n",
       "\n",
       "    .dataframe thead th {\n",
       "        text-align: right;\n",
       "    }\n",
       "</style>\n",
       "<table border=\"1\" class=\"dataframe\">\n",
       "  <thead>\n",
       "    <tr style=\"text-align: right;\">\n",
       "      <th></th>\n",
       "      <th>Company Size</th>\n",
       "      <th>Job Title</th>\n",
       "      <th>min_experience</th>\n",
       "      <th>max_experience</th>\n",
       "      <th>average_experience</th>\n",
       "      <th>min_salary</th>\n",
       "      <th>max_salary</th>\n",
       "      <th>average_salary</th>\n",
       "      <th>Level</th>\n",
       "      <th>Company_size</th>\n",
       "      <th>...</th>\n",
       "      <th>Qualifications_MCA</th>\n",
       "      <th>Qualifications_PhD</th>\n",
       "      <th>Work Type_Contract</th>\n",
       "      <th>Work Type_Full-Time</th>\n",
       "      <th>Work Type_Intern</th>\n",
       "      <th>Work Type_Part-Time</th>\n",
       "      <th>Work Type_Temporary</th>\n",
       "      <th>Preference_Both</th>\n",
       "      <th>Preference_Female</th>\n",
       "      <th>Preference_Male</th>\n",
       "    </tr>\n",
       "  </thead>\n",
       "  <tbody>\n",
       "    <tr>\n",
       "      <th>0</th>\n",
       "      <td>48990</td>\n",
       "      <td>Digital Marketing Specialist</td>\n",
       "      <td>5</td>\n",
       "      <td>15</td>\n",
       "      <td>10.0</td>\n",
       "      <td>59000</td>\n",
       "      <td>99000</td>\n",
       "      <td>79000.0</td>\n",
       "      <td>1</td>\n",
       "      <td>1</td>\n",
       "      <td>...</td>\n",
       "      <td>False</td>\n",
       "      <td>False</td>\n",
       "      <td>False</td>\n",
       "      <td>False</td>\n",
       "      <td>True</td>\n",
       "      <td>False</td>\n",
       "      <td>False</td>\n",
       "      <td>False</td>\n",
       "      <td>True</td>\n",
       "      <td>False</td>\n",
       "    </tr>\n",
       "    <tr>\n",
       "      <th>1</th>\n",
       "      <td>340</td>\n",
       "      <td>Web Developer</td>\n",
       "      <td>2</td>\n",
       "      <td>12</td>\n",
       "      <td>7.0</td>\n",
       "      <td>56000</td>\n",
       "      <td>116000</td>\n",
       "      <td>86000.0</td>\n",
       "      <td>0</td>\n",
       "      <td>2</td>\n",
       "      <td>...</td>\n",
       "      <td>False</td>\n",
       "      <td>False</td>\n",
       "      <td>False</td>\n",
       "      <td>False</td>\n",
       "      <td>True</td>\n",
       "      <td>False</td>\n",
       "      <td>False</td>\n",
       "      <td>False</td>\n",
       "      <td>True</td>\n",
       "      <td>False</td>\n",
       "    </tr>\n",
       "    <tr>\n",
       "      <th>2</th>\n",
       "      <td>106713</td>\n",
       "      <td>Operations Manager</td>\n",
       "      <td>0</td>\n",
       "      <td>12</td>\n",
       "      <td>6.0</td>\n",
       "      <td>61000</td>\n",
       "      <td>104000</td>\n",
       "      <td>82500.0</td>\n",
       "      <td>2</td>\n",
       "      <td>0</td>\n",
       "      <td>...</td>\n",
       "      <td>False</td>\n",
       "      <td>True</td>\n",
       "      <td>False</td>\n",
       "      <td>False</td>\n",
       "      <td>False</td>\n",
       "      <td>False</td>\n",
       "      <td>True</td>\n",
       "      <td>False</td>\n",
       "      <td>False</td>\n",
       "      <td>True</td>\n",
       "    </tr>\n",
       "    <tr>\n",
       "      <th>3</th>\n",
       "      <td>30240</td>\n",
       "      <td>Network Engineer</td>\n",
       "      <td>4</td>\n",
       "      <td>11</td>\n",
       "      <td>7.5</td>\n",
       "      <td>65000</td>\n",
       "      <td>91000</td>\n",
       "      <td>78000.0</td>\n",
       "      <td>2</td>\n",
       "      <td>2</td>\n",
       "      <td>...</td>\n",
       "      <td>False</td>\n",
       "      <td>True</td>\n",
       "      <td>False</td>\n",
       "      <td>True</td>\n",
       "      <td>False</td>\n",
       "      <td>False</td>\n",
       "      <td>False</td>\n",
       "      <td>False</td>\n",
       "      <td>True</td>\n",
       "      <td>False</td>\n",
       "    </tr>\n",
       "    <tr>\n",
       "      <th>4</th>\n",
       "      <td>76132</td>\n",
       "      <td>Event Manager</td>\n",
       "      <td>1</td>\n",
       "      <td>12</td>\n",
       "      <td>6.5</td>\n",
       "      <td>64000</td>\n",
       "      <td>87000</td>\n",
       "      <td>75500.0</td>\n",
       "      <td>1</td>\n",
       "      <td>0</td>\n",
       "      <td>...</td>\n",
       "      <td>False</td>\n",
       "      <td>False</td>\n",
       "      <td>False</td>\n",
       "      <td>False</td>\n",
       "      <td>True</td>\n",
       "      <td>False</td>\n",
       "      <td>False</td>\n",
       "      <td>False</td>\n",
       "      <td>True</td>\n",
       "      <td>False</td>\n",
       "    </tr>\n",
       "  </tbody>\n",
       "</table>\n",
       "<p>5 rows × 68 columns</p>\n",
       "</div>"
      ],
      "text/plain": [
       "   Company Size                     Job Title  min_experience  max_experience  \\\n",
       "0         48990  Digital Marketing Specialist               5              15   \n",
       "1           340                 Web Developer               2              12   \n",
       "2        106713            Operations Manager               0              12   \n",
       "3         30240              Network Engineer               4              11   \n",
       "4         76132                 Event Manager               1              12   \n",
       "\n",
       "   average_experience  min_salary  max_salary  average_salary  Level  \\\n",
       "0                10.0       59000       99000         79000.0      1   \n",
       "1                 7.0       56000      116000         86000.0      0   \n",
       "2                 6.0       61000      104000         82500.0      2   \n",
       "3                 7.5       65000       91000         78000.0      2   \n",
       "4                 6.5       64000       87000         75500.0      1   \n",
       "\n",
       "   Company_size  ...  Qualifications_MCA  Qualifications_PhD  \\\n",
       "0             1  ...               False               False   \n",
       "1             2  ...               False               False   \n",
       "2             0  ...               False                True   \n",
       "3             2  ...               False                True   \n",
       "4             0  ...               False               False   \n",
       "\n",
       "   Work Type_Contract  Work Type_Full-Time  Work Type_Intern  \\\n",
       "0               False                False              True   \n",
       "1               False                False              True   \n",
       "2               False                False             False   \n",
       "3               False                 True             False   \n",
       "4               False                False              True   \n",
       "\n",
       "   Work Type_Part-Time  Work Type_Temporary  Preference_Both  \\\n",
       "0                False                False            False   \n",
       "1                False                False            False   \n",
       "2                False                 True            False   \n",
       "3                False                False            False   \n",
       "4                False                False            False   \n",
       "\n",
       "   Preference_Female  Preference_Male  \n",
       "0               True            False  \n",
       "1               True            False  \n",
       "2              False             True  \n",
       "3               True            False  \n",
       "4               True            False  \n",
       "\n",
       "[5 rows x 68 columns]"
      ]
     },
     "execution_count": 34,
     "metadata": {},
     "output_type": "execute_result"
    }
   ],
   "source": [
    "# Importing the data \n",
    "path = \"Data/data_after_feature_eng.csv\"\n",
    "df = pd.read_csv(path)\n",
    "df.head()"
   ]
  },
  {
   "cell_type": "code",
   "execution_count": 35,
   "metadata": {},
   "outputs": [
    {
     "name": "stdout",
     "output_type": "stream",
     "text": [
      "<class 'pandas.core.frame.DataFrame'>\n",
      "RangeIndex: 1610462 entries, 0 to 1610461\n",
      "Data columns (total 68 columns):\n",
      " #   Column                 Non-Null Count    Dtype  \n",
      "---  ------                 --------------    -----  \n",
      " 0   Company Size           1610462 non-null  int64  \n",
      " 1   Job Title              1610462 non-null  object \n",
      " 2   min_experience         1610462 non-null  int64  \n",
      " 3   max_experience         1610462 non-null  int64  \n",
      " 4   average_experience     1610462 non-null  float64\n",
      " 5   min_salary             1610462 non-null  int64  \n",
      " 6   max_salary             1610462 non-null  int64  \n",
      " 7   average_salary         1610462 non-null  float64\n",
      " 8   Level                  1610462 non-null  int64  \n",
      " 9   Company_size           1610462 non-null  int64  \n",
      " 10  feature_1              1610462 non-null  float64\n",
      " 11  feature_2              1610462 non-null  float64\n",
      " 12  feature_3              1610462 non-null  float64\n",
      " 13  feature_4              1610462 non-null  float64\n",
      " 14  feature_5              1610462 non-null  float64\n",
      " 15  feature_6              1610462 non-null  float64\n",
      " 16  feature_7              1610462 non-null  float64\n",
      " 17  feature_8              1610462 non-null  float64\n",
      " 18  feature_9              1610462 non-null  float64\n",
      " 19  feature_10             1610462 non-null  float64\n",
      " 20  feature_11             1610462 non-null  float64\n",
      " 21  feature_12             1610462 non-null  float64\n",
      " 22  feature_13             1610462 non-null  float64\n",
      " 23  feature_14             1610462 non-null  float64\n",
      " 24  feature_15             1610462 non-null  float64\n",
      " 25  feature_16             1610462 non-null  float64\n",
      " 26  feature_17             1610462 non-null  float64\n",
      " 27  feature_18             1610462 non-null  float64\n",
      " 28  feature_19             1610462 non-null  float64\n",
      " 29  feature_20             1610462 non-null  float64\n",
      " 30  feature_21             1610462 non-null  float64\n",
      " 31  feature_22             1610462 non-null  float64\n",
      " 32  feature_23             1610462 non-null  float64\n",
      " 33  feature_24             1610462 non-null  float64\n",
      " 34  feature_25             1610462 non-null  float64\n",
      " 35  feature_26             1610462 non-null  float64\n",
      " 36  feature_27             1610462 non-null  float64\n",
      " 37  feature_28             1610462 non-null  float64\n",
      " 38  feature_29             1610462 non-null  float64\n",
      " 39  feature_30             1610462 non-null  float64\n",
      " 40  feature_31             1610462 non-null  float64\n",
      " 41  feature_32             1610462 non-null  float64\n",
      " 42  feature_33             1610462 non-null  float64\n",
      " 43  feature_34             1610462 non-null  float64\n",
      " 44  feature_35             1610462 non-null  float64\n",
      " 45  feature_36             1610462 non-null  float64\n",
      " 46  feature_37             1610462 non-null  float64\n",
      " 47  feature_38             1610462 non-null  float64\n",
      " 48  feature_39             1610462 non-null  float64\n",
      " 49  feature_40             1610462 non-null  float64\n",
      " 50  Qualifications_B.Com   1610462 non-null  bool   \n",
      " 51  Qualifications_B.Tech  1610462 non-null  bool   \n",
      " 52  Qualifications_BA      1610462 non-null  bool   \n",
      " 53  Qualifications_BBA     1610462 non-null  bool   \n",
      " 54  Qualifications_BCA     1610462 non-null  bool   \n",
      " 55  Qualifications_M.Com   1610462 non-null  bool   \n",
      " 56  Qualifications_M.Tech  1610462 non-null  bool   \n",
      " 57  Qualifications_MBA     1610462 non-null  bool   \n",
      " 58  Qualifications_MCA     1610462 non-null  bool   \n",
      " 59  Qualifications_PhD     1610462 non-null  bool   \n",
      " 60  Work Type_Contract     1610462 non-null  bool   \n",
      " 61  Work Type_Full-Time    1610462 non-null  bool   \n",
      " 62  Work Type_Intern       1610462 non-null  bool   \n",
      " 63  Work Type_Part-Time    1610462 non-null  bool   \n",
      " 64  Work Type_Temporary    1610462 non-null  bool   \n",
      " 65  Preference_Both        1610462 non-null  bool   \n",
      " 66  Preference_Female      1610462 non-null  bool   \n",
      " 67  Preference_Male        1610462 non-null  bool   \n",
      "dtypes: bool(18), float64(42), int64(7), object(1)\n",
      "memory usage: 642.0+ MB\n"
     ]
    }
   ],
   "source": [
    "df.info()"
   ]
  },
  {
   "cell_type": "code",
   "execution_count": 36,
   "metadata": {},
   "outputs": [],
   "source": [
    "# Drop unnecessary columns\n",
    "df = df.drop(columns=['min_salary', 'max_salary', 'Company_size'])"
   ]
  },
  {
   "cell_type": "markdown",
   "metadata": {},
   "source": [
    "### Handling Categorical Variables"
   ]
  },
  {
   "cell_type": "code",
   "execution_count": 37,
   "metadata": {},
   "outputs": [],
   "source": [
    "# Job Title is the only categorical feature that needs one-hot encoding\n",
    "categorical_features = ['Job Title']\n",
    "numeric_features = df.columns[df.columns.str.startswith('feature_')].tolist() + [\n",
    "    'min_experience', 'max_experience', 'average_experience', 'Company Size', 'Level'\n",
    "]"
   ]
  },
  {
   "cell_type": "code",
   "execution_count": 38,
   "metadata": {},
   "outputs": [],
   "source": [
    "# Handling Numerical Variables and Creating Preprocessing Pipeline\n",
    "preprocessor = ColumnTransformer(\n",
    "    transformers=[\n",
    "        ('num', StandardScaler(), numeric_features),\n",
    "        ('cat', OneHotEncoder(), categorical_features)\n",
    "    ])"
   ]
  },
  {
   "cell_type": "markdown",
   "metadata": {},
   "source": [
    "### Splitting Data"
   ]
  },
  {
   "cell_type": "code",
   "execution_count": 39,
   "metadata": {},
   "outputs": [],
   "source": [
    "X = df.drop(columns=['average_salary'])\n",
    "y = df['average_salary']"
   ]
  },
  {
   "cell_type": "code",
   "execution_count": 40,
   "metadata": {},
   "outputs": [],
   "source": [
    "X_preprocessed = preprocessor.fit_transform(X)"
   ]
  },
  {
   "cell_type": "code",
   "execution_count": 41,
   "metadata": {},
   "outputs": [],
   "source": [
    "# Splitting Data\n",
    "X_train, X_test, y_train, y_test = train_test_split(X_preprocessed, y, test_size=0.2, random_state=42)"
   ]
  },
  {
   "cell_type": "markdown",
   "metadata": {},
   "source": [
    "### Model Building"
   ]
  },
  {
   "cell_type": "code",
   "execution_count": 42,
   "metadata": {},
   "outputs": [
    {
     "name": "stderr",
     "output_type": "stream",
     "text": [
      "c:\\Users\\RC543\\AppData\\Local\\Programs\\Python\\Python312\\Lib\\site-packages\\keras\\src\\layers\\core\\dense.py:87: UserWarning: Do not pass an `input_shape`/`input_dim` argument to a layer. When using Sequential models, prefer using an `Input(shape)` object as the first layer in the model instead.\n",
      "  super().__init__(activity_regularizer=activity_regularizer, **kwargs)\n"
     ]
    }
   ],
   "source": [
    "# Build the neural network model\n",
    "model = models.Sequential([\n",
    "    layers.Dense(256, activation='relu', input_shape=(X_train.shape[1],)),\n",
    "    layers.Dense(512, activation='relu'),\n",
    "    layers.Dense(1024, activation='relu'),\n",
    "    layers.Dense(1024, activation='relu'),\n",
    "    layers.Dense(1)  # Single output for regression\n",
    "])"
   ]
  },
  {
   "cell_type": "code",
   "execution_count": 43,
   "metadata": {},
   "outputs": [],
   "source": [
    "# Compile the model\n",
    "model.compile(optimizer='adam', loss='mse', metrics=['mae'])"
   ]
  },
  {
   "cell_type": "code",
   "execution_count": 44,
   "metadata": {},
   "outputs": [
    {
     "name": "stdout",
     "output_type": "stream",
     "text": [
      "Epoch 1/5\n",
      "\u001b[1m1007/1007\u001b[0m \u001b[32m━━━━━━━━━━━━━━━━━━━━\u001b[0m\u001b[37m\u001b[0m \u001b[1m84s\u001b[0m 82ms/step - loss: 977984576.0000 - mae: 18226.4551 - val_loss: 58041080.0000 - val_mae: 6530.4712\n",
      "Epoch 2/5\n",
      "\u001b[1m1007/1007\u001b[0m \u001b[32m━━━━━━━━━━━━━━━━━━━━\u001b[0m\u001b[37m\u001b[0m \u001b[1m88s\u001b[0m 88ms/step - loss: 57982876.0000 - mae: 6526.6133 - val_loss: 57768116.0000 - val_mae: 6518.2285\n",
      "Epoch 3/5\n",
      "\u001b[1m1007/1007\u001b[0m \u001b[32m━━━━━━━━━━━━━━━━━━━━\u001b[0m\u001b[37m\u001b[0m \u001b[1m96s\u001b[0m 95ms/step - loss: 57869552.0000 - mae: 6515.0156 - val_loss: 60295360.0000 - val_mae: 6619.5435\n",
      "Epoch 4/5\n",
      "\u001b[1m1007/1007\u001b[0m \u001b[32m━━━━━━━━━━━━━━━━━━━━\u001b[0m\u001b[37m\u001b[0m \u001b[1m97s\u001b[0m 97ms/step - loss: 57911552.0000 - mae: 6516.3174 - val_loss: 57918528.0000 - val_mae: 6526.0029\n",
      "Epoch 5/5\n",
      "\u001b[1m1007/1007\u001b[0m \u001b[32m━━━━━━━━━━━━━━━━━━━━\u001b[0m\u001b[37m\u001b[0m \u001b[1m96s\u001b[0m 95ms/step - loss: 58019920.0000 - mae: 6523.4565 - val_loss: 58122068.0000 - val_mae: 6535.0913\n"
     ]
    }
   ],
   "source": [
    "# Train the model\n",
    "history = model.fit(X_train, y_train, epochs=5, validation_split=0.2, batch_size=1024)"
   ]
  },
  {
   "cell_type": "code",
   "execution_count": 45,
   "metadata": {},
   "outputs": [
    {
     "name": "stdout",
     "output_type": "stream",
     "text": [
      "\u001b[1m10066/10066\u001b[0m \u001b[32m━━━━━━━━━━━━━━━━━━━━\u001b[0m\u001b[37m\u001b[0m \u001b[1m38s\u001b[0m 4ms/step - loss: 57902408.0000 - mae: 6520.3755\n",
      "Test MAE: 6518.67578125\n",
      "\u001b[1m10066/10066\u001b[0m \u001b[32m━━━━━━━━━━━━━━━━━━━━\u001b[0m\u001b[37m\u001b[0m \u001b[1m40s\u001b[0m 4ms/step\n",
      "Mean Squared Error (MSE): 57921278.435510315\n",
      "Root Mean Squared Error (RMSE): 7610.603027061017\n",
      "R-Squared (R²): -0.024338994539614633\n"
     ]
    }
   ],
   "source": [
    "# Evaluate the model\n",
    "test_loss, test_mae = model.evaluate(X_test, y_test)\n",
    "print(f\"Test MAE: {test_mae}\")\n",
    "\n",
    "# Predict on the test set\n",
    "y_pred = model.predict(X_test)\n",
    "\n",
    "# Calculate MSE\n",
    "mse = mean_squared_error(y_test, y_pred)\n",
    "print(f\"Mean Squared Error (MSE): {mse}\")\n",
    "\n",
    "# Calculate RMSE\n",
    "rmse = np.sqrt(mse)\n",
    "print(f\"Root Mean Squared Error (RMSE): {rmse}\")\n",
    "\n",
    "# Calculate R-Squared\n",
    "r2 = r2_score(y_test, y_pred)\n",
    "print(f\"R-Squared (R²): {r2}\")"
   ]
  },
  {
   "cell_type": "code",
   "execution_count": 47,
   "metadata": {},
   "outputs": [
    {
     "name": "stderr",
     "output_type": "stream",
     "text": [
      "c:\\Users\\RC543\\AppData\\Local\\Programs\\Python\\Python312\\Lib\\site-packages\\keras\\src\\layers\\core\\dense.py:87: UserWarning: Do not pass an `input_shape`/`input_dim` argument to a layer. When using Sequential models, prefer using an `Input(shape)` object as the first layer in the model instead.\n",
      "  super().__init__(activity_regularizer=activity_regularizer, **kwargs)\n"
     ]
    }
   ],
   "source": [
    "# Build the neural network model_2\n",
    "model = models.Sequential([\n",
    "    layers.Dense(256, activation='relu', input_shape=(X_train.shape[1],)),\n",
    "    layers.Dense(512, activation='relu'),\n",
    "    layers.Dense(512, activation='relu'),\n",
    "    layers.Dense(512, activation='relu'),\n",
    "    layers.Dense(1024, activation='relu'),\n",
    "    layers.Dense(1024, activation='relu'),\n",
    "    layers.Dense(1)\n",
    "])"
   ]
  },
  {
   "cell_type": "code",
   "execution_count": 46,
   "metadata": {},
   "outputs": [
    {
     "name": "stdout",
     "output_type": "stream",
     "text": [
      "Epoch 1/5\n",
      "\u001b[1m1007/1007\u001b[0m \u001b[32m━━━━━━━━━━━━━━━━━━━━\u001b[0m\u001b[37m\u001b[0m \u001b[1m94s\u001b[0m 93ms/step - loss: 58171020.0000 - mae: 6528.1011 - val_loss: 60102476.0000 - val_mae: 6612.6299\n",
      "Epoch 2/5\n",
      "\u001b[1m1007/1007\u001b[0m \u001b[32m━━━━━━━━━━━━━━━━━━━━\u001b[0m\u001b[37m\u001b[0m \u001b[1m114s\u001b[0m 113ms/step - loss: 58087672.0000 - mae: 6529.1738 - val_loss: 57684116.0000 - val_mae: 6515.7339\n",
      "Epoch 3/5\n",
      "\u001b[1m1007/1007\u001b[0m \u001b[32m━━━━━━━━━━━━━━━━━━━━\u001b[0m\u001b[37m\u001b[0m \u001b[1m113s\u001b[0m 113ms/step - loss: 57995584.0000 - mae: 6523.6289 - val_loss: 58215852.0000 - val_mae: 6535.2710\n",
      "Epoch 4/5\n",
      "\u001b[1m1007/1007\u001b[0m \u001b[32m━━━━━━━━━━━━━━━━━━━━\u001b[0m\u001b[37m\u001b[0m \u001b[1m95s\u001b[0m 94ms/step - loss: 57911000.0000 - mae: 6517.8945 - val_loss: 58086216.0000 - val_mae: 6533.4834\n",
      "Epoch 5/5\n",
      "\u001b[1m1007/1007\u001b[0m \u001b[32m━━━━━━━━━━━━━━━━━━━━\u001b[0m\u001b[37m\u001b[0m \u001b[1m100s\u001b[0m 100ms/step - loss: 57831652.0000 - mae: 6513.2549 - val_loss: 57819208.0000 - val_mae: 6521.5483\n"
     ]
    }
   ],
   "source": [
    "history = model.fit(X_train, y_train, epochs=5, validation_split=0.2, batch_size=1024)"
   ]
  },
  {
   "cell_type": "code",
   "execution_count": 49,
   "metadata": {},
   "outputs": [],
   "source": [
    "model.compile(optimizer='adam', loss='mse', metrics=['mae'])"
   ]
  },
  {
   "cell_type": "code",
   "execution_count": 50,
   "metadata": {},
   "outputs": [
    {
     "name": "stdout",
     "output_type": "stream",
     "text": [
      "\u001b[1m10066/10066\u001b[0m \u001b[32m━━━━━━━━━━━━━━━━━━━━\u001b[0m\u001b[37m\u001b[0m \u001b[1m67s\u001b[0m 7ms/step - loss: 6865763840.0000 - mae: 82517.7734\n",
      "Test MAE: 82496.875\n",
      "\u001b[1m10066/10066\u001b[0m \u001b[32m━━━━━━━━━━━━━━━━━━━━\u001b[0m\u001b[37m\u001b[0m \u001b[1m46s\u001b[0m 5ms/step\n",
      "Mean Squared Error (MSE): 6862288089.032071\n",
      "Root Mean Squared Error (RMSE): 82838.92858452523\n",
      "R-Squared (R²): -120.35970529702196\n"
     ]
    }
   ],
   "source": [
    "# Evaluate the model\n",
    "test_loss, test_mae = model.evaluate(X_test, y_test)\n",
    "print(f\"Test MAE: {test_mae}\")\n",
    "\n",
    "# Predict on the test set\n",
    "y_pred = model.predict(X_test)\n",
    "\n",
    "# Calculate MSE\n",
    "mse = mean_squared_error(y_test, y_pred)\n",
    "print(f\"Mean Squared Error (MSE): {mse}\")\n",
    "\n",
    "# Calculate RMSE\n",
    "rmse = np.sqrt(mse)\n",
    "print(f\"Root Mean Squared Error (RMSE): {rmse}\")\n",
    "\n",
    "# Calculate R-Squared\n",
    "r2 = r2_score(y_test, y_pred)\n",
    "print(f\"R-Squared (R²): {r2}\")"
   ]
  },
  {
   "cell_type": "code",
   "execution_count": 61,
   "metadata": {},
   "outputs": [
    {
     "name": "stderr",
     "output_type": "stream",
     "text": [
      "c:\\Users\\RC543\\AppData\\Local\\Programs\\Python\\Python312\\Lib\\site-packages\\keras\\src\\layers\\core\\dense.py:87: UserWarning: Do not pass an `input_shape`/`input_dim` argument to a layer. When using Sequential models, prefer using an `Input(shape)` object as the first layer in the model instead.\n",
      "  super().__init__(activity_regularizer=activity_regularizer, **kwargs)\n"
     ]
    }
   ],
   "source": [
    "# Build the neural network model_2\n",
    "model = models.Sequential([\n",
    "    layers.Dense(256, activation='relu', input_shape=(X_train.shape[1],)),\n",
    "    layers.Dense(512, activation='relu'),\n",
    "    layers.Dense(1)  \n",
    "])"
   ]
  },
  {
   "cell_type": "code",
   "execution_count": 63,
   "metadata": {},
   "outputs": [
    {
     "name": "stdout",
     "output_type": "stream",
     "text": [
      "Epoch 1/7\n",
      "\u001b[1m1007/1007\u001b[0m \u001b[32m━━━━━━━━━━━━━━━━━━━━\u001b[0m\u001b[37m\u001b[0m \u001b[1m40s\u001b[0m 38ms/step - loss: 4041977088.0000 - mae: 55141.4961 - val_loss: 79843984.0000 - val_mae: 7378.1045\n",
      "Epoch 2/7\n",
      "\u001b[1m1007/1007\u001b[0m \u001b[32m━━━━━━━━━━━━━━━━━━━━\u001b[0m\u001b[37m\u001b[0m \u001b[1m40s\u001b[0m 39ms/step - loss: 72604776.0000 - mae: 7096.4946 - val_loss: 61214812.0000 - val_mae: 6653.3408\n",
      "Epoch 3/7\n",
      "\u001b[1m1007/1007\u001b[0m \u001b[32m━━━━━━━━━━━━━━━━━━━━\u001b[0m\u001b[37m\u001b[0m \u001b[1m40s\u001b[0m 39ms/step - loss: 60110144.0000 - mae: 6607.8193 - val_loss: 58142384.0000 - val_mae: 6534.3335\n",
      "Epoch 4/7\n",
      "\u001b[1m1007/1007\u001b[0m \u001b[32m━━━━━━━━━━━━━━━━━━━━\u001b[0m\u001b[37m\u001b[0m \u001b[1m40s\u001b[0m 39ms/step - loss: 57774040.0000 - mae: 6513.9980 - val_loss: 57425600.0000 - val_mae: 6507.0176\n",
      "Epoch 5/7\n",
      "\u001b[1m1007/1007\u001b[0m \u001b[32m━━━━━━━━━━━━━━━━━━━━\u001b[0m\u001b[37m\u001b[0m \u001b[1m40s\u001b[0m 39ms/step - loss: 57198192.0000 - mae: 6490.5103 - val_loss: 57215880.0000 - val_mae: 6498.4062\n",
      "Epoch 6/7\n",
      "\u001b[1m1007/1007\u001b[0m \u001b[32m━━━━━━━━━━━━━━━━━━━━\u001b[0m\u001b[37m\u001b[0m \u001b[1m40s\u001b[0m 40ms/step - loss: 56998884.0000 - mae: 6480.1914 - val_loss: 57134148.0000 - val_mae: 6495.5210\n",
      "Epoch 7/7\n",
      "\u001b[1m1007/1007\u001b[0m \u001b[32m━━━━━━━━━━━━━━━━━━━━\u001b[0m\u001b[37m\u001b[0m \u001b[1m43s\u001b[0m 43ms/step - loss: 56878688.0000 - mae: 6475.2051 - val_loss: 57107764.0000 - val_mae: 6494.2412\n"
     ]
    }
   ],
   "source": [
    "history = model.fit(X_train, y_train, epochs=7, validation_split=0.2, batch_size=1024)"
   ]
  },
  {
   "cell_type": "code",
   "execution_count": 62,
   "metadata": {},
   "outputs": [],
   "source": [
    "model.compile(optimizer='adam', loss='mse', metrics=['mae'])"
   ]
  },
  {
   "cell_type": "code",
   "execution_count": 64,
   "metadata": {},
   "outputs": [
    {
     "name": "stdout",
     "output_type": "stream",
     "text": [
      "\u001b[1m10066/10066\u001b[0m \u001b[32m━━━━━━━━━━━━━━━━━━━━\u001b[0m\u001b[37m\u001b[0m \u001b[1m21s\u001b[0m 2ms/step - loss: 56936864.0000 - mae: 6479.9248\n",
      "Test MAE: 6477.03076171875\n",
      "\u001b[1m10066/10066\u001b[0m \u001b[32m━━━━━━━━━━━━━━━━━━━━\u001b[0m\u001b[37m\u001b[0m \u001b[1m24s\u001b[0m 2ms/step\n",
      "Mean Squared Error (MSE): 56905464.829637855\n",
      "Root Mean Squared Error (RMSE): 7543.571092634963\n",
      "R-Squared (R²): -0.0063743101302815575\n"
     ]
    }
   ],
   "source": [
    "# Evaluate the model\n",
    "test_loss, test_mae = model.evaluate(X_test, y_test)\n",
    "print(f\"Test MAE: {test_mae}\")\n",
    "\n",
    "# Predict on the test set\n",
    "y_pred = model.predict(X_test)\n",
    "\n",
    "# Calculate MSE\n",
    "mse = mean_squared_error(y_test, y_pred)\n",
    "print(f\"Mean Squared Error (MSE): {mse}\")\n",
    "\n",
    "# Calculate RMSE\n",
    "rmse = np.sqrt(mse)\n",
    "print(f\"Root Mean Squared Error (RMSE): {rmse}\")\n",
    "\n",
    "# Calculate R-Squared\n",
    "r2 = r2_score(y_test, y_pred)\n",
    "print(f\"R-Squared (R²): {r2}\")"
   ]
  },
  {
   "cell_type": "code",
   "execution_count": 65,
   "metadata": {},
   "outputs": [
    {
     "name": "stderr",
     "output_type": "stream",
     "text": [
      "c:\\Users\\RC543\\AppData\\Local\\Programs\\Python\\Python312\\Lib\\site-packages\\keras\\src\\layers\\core\\dense.py:87: UserWarning: Do not pass an `input_shape`/`input_dim` argument to a layer. When using Sequential models, prefer using an `Input(shape)` object as the first layer in the model instead.\n",
      "  super().__init__(activity_regularizer=activity_regularizer, **kwargs)\n"
     ]
    },
    {
     "data": {
      "text/html": [
       "<pre style=\"white-space:pre;overflow-x:auto;line-height:normal;font-family:Menlo,'DejaVu Sans Mono',consolas,'Courier New',monospace\"><span style=\"font-weight: bold\">Model: \"sequential_7\"</span>\n",
       "</pre>\n"
      ],
      "text/plain": [
       "\u001b[1mModel: \"sequential_7\"\u001b[0m\n"
      ]
     },
     "metadata": {},
     "output_type": "display_data"
    },
    {
     "data": {
      "text/html": [
       "<pre style=\"white-space:pre;overflow-x:auto;line-height:normal;font-family:Menlo,'DejaVu Sans Mono',consolas,'Courier New',monospace\">┏━━━━━━━━━━━━━━━━━━━━━━━━━━━━━━━━━┳━━━━━━━━━━━━━━━━━━━━━━━━┳━━━━━━━━━━━━━━━┓\n",
       "┃<span style=\"font-weight: bold\"> Layer (type)                    </span>┃<span style=\"font-weight: bold\"> Output Shape           </span>┃<span style=\"font-weight: bold\">       Param # </span>┃\n",
       "┡━━━━━━━━━━━━━━━━━━━━━━━━━━━━━━━━━╇━━━━━━━━━━━━━━━━━━━━━━━━╇━━━━━━━━━━━━━━━┩\n",
       "│ dense_29 (<span style=\"color: #0087ff; text-decoration-color: #0087ff\">Dense</span>)                │ (<span style=\"color: #00d7ff; text-decoration-color: #00d7ff\">None</span>, <span style=\"color: #00af00; text-decoration-color: #00af00\">256</span>)            │        <span style=\"color: #00af00; text-decoration-color: #00af00\">49,408</span> │\n",
       "├─────────────────────────────────┼────────────────────────┼───────────────┤\n",
       "│ dense_30 (<span style=\"color: #0087ff; text-decoration-color: #0087ff\">Dense</span>)                │ (<span style=\"color: #00d7ff; text-decoration-color: #00d7ff\">None</span>, <span style=\"color: #00af00; text-decoration-color: #00af00\">512</span>)            │       <span style=\"color: #00af00; text-decoration-color: #00af00\">131,584</span> │\n",
       "├─────────────────────────────────┼────────────────────────┼───────────────┤\n",
       "│ dense_31 (<span style=\"color: #0087ff; text-decoration-color: #0087ff\">Dense</span>)                │ (<span style=\"color: #00d7ff; text-decoration-color: #00d7ff\">None</span>, <span style=\"color: #00af00; text-decoration-color: #00af00\">1</span>)              │           <span style=\"color: #00af00; text-decoration-color: #00af00\">513</span> │\n",
       "└─────────────────────────────────┴────────────────────────┴───────────────┘\n",
       "</pre>\n"
      ],
      "text/plain": [
       "┏━━━━━━━━━━━━━━━━━━━━━━━━━━━━━━━━━┳━━━━━━━━━━━━━━━━━━━━━━━━┳━━━━━━━━━━━━━━━┓\n",
       "┃\u001b[1m \u001b[0m\u001b[1mLayer (type)                   \u001b[0m\u001b[1m \u001b[0m┃\u001b[1m \u001b[0m\u001b[1mOutput Shape          \u001b[0m\u001b[1m \u001b[0m┃\u001b[1m \u001b[0m\u001b[1m      Param #\u001b[0m\u001b[1m \u001b[0m┃\n",
       "┡━━━━━━━━━━━━━━━━━━━━━━━━━━━━━━━━━╇━━━━━━━━━━━━━━━━━━━━━━━━╇━━━━━━━━━━━━━━━┩\n",
       "│ dense_29 (\u001b[38;5;33mDense\u001b[0m)                │ (\u001b[38;5;45mNone\u001b[0m, \u001b[38;5;34m256\u001b[0m)            │        \u001b[38;5;34m49,408\u001b[0m │\n",
       "├─────────────────────────────────┼────────────────────────┼───────────────┤\n",
       "│ dense_30 (\u001b[38;5;33mDense\u001b[0m)                │ (\u001b[38;5;45mNone\u001b[0m, \u001b[38;5;34m512\u001b[0m)            │       \u001b[38;5;34m131,584\u001b[0m │\n",
       "├─────────────────────────────────┼────────────────────────┼───────────────┤\n",
       "│ dense_31 (\u001b[38;5;33mDense\u001b[0m)                │ (\u001b[38;5;45mNone\u001b[0m, \u001b[38;5;34m1\u001b[0m)              │           \u001b[38;5;34m513\u001b[0m │\n",
       "└─────────────────────────────────┴────────────────────────┴───────────────┘\n"
      ]
     },
     "metadata": {},
     "output_type": "display_data"
    },
    {
     "data": {
      "text/html": [
       "<pre style=\"white-space:pre;overflow-x:auto;line-height:normal;font-family:Menlo,'DejaVu Sans Mono',consolas,'Courier New',monospace\"><span style=\"font-weight: bold\"> Total params: </span><span style=\"color: #00af00; text-decoration-color: #00af00\">181,505</span> (709.00 KB)\n",
       "</pre>\n"
      ],
      "text/plain": [
       "\u001b[1m Total params: \u001b[0m\u001b[38;5;34m181,505\u001b[0m (709.00 KB)\n"
      ]
     },
     "metadata": {},
     "output_type": "display_data"
    },
    {
     "data": {
      "text/html": [
       "<pre style=\"white-space:pre;overflow-x:auto;line-height:normal;font-family:Menlo,'DejaVu Sans Mono',consolas,'Courier New',monospace\"><span style=\"font-weight: bold\"> Trainable params: </span><span style=\"color: #00af00; text-decoration-color: #00af00\">181,505</span> (709.00 KB)\n",
       "</pre>\n"
      ],
      "text/plain": [
       "\u001b[1m Trainable params: \u001b[0m\u001b[38;5;34m181,505\u001b[0m (709.00 KB)\n"
      ]
     },
     "metadata": {},
     "output_type": "display_data"
    },
    {
     "data": {
      "text/html": [
       "<pre style=\"white-space:pre;overflow-x:auto;line-height:normal;font-family:Menlo,'DejaVu Sans Mono',consolas,'Courier New',monospace\"><span style=\"font-weight: bold\"> Non-trainable params: </span><span style=\"color: #00af00; text-decoration-color: #00af00\">0</span> (0.00 B)\n",
       "</pre>\n"
      ],
      "text/plain": [
       "\u001b[1m Non-trainable params: \u001b[0m\u001b[38;5;34m0\u001b[0m (0.00 B)\n"
      ]
     },
     "metadata": {},
     "output_type": "display_data"
    }
   ],
   "source": [
    "import math \n",
    "\n",
    "# Custom quadratic activation function\n",
    "def quadratic_activation(x):\n",
    "    return tf.math.square(x)\n",
    "\n",
    "# Register the custom activation function so that it can be used with Keras models\n",
    "tf.keras.utils.get_custom_objects().update({'quadratic_activation': layers.Activation(quadratic_activation)})\n",
    "\n",
    "# Build the neural network model with a quadratic output layer\n",
    "model = models.Sequential([\n",
    "    layers.Dense(256, activation='relu', input_shape=(X_train.shape[1],)),\n",
    "    layers.Dense(512, activation='relu'),\n",
    "    layers.Dense(1, activation=quadratic_activation)  # Custom quadratic activation function\n",
    "])\n",
    "\n",
    "# Compile the model\n",
    "model.compile(optimizer='adam', loss='mse', metrics=['mae'])\n",
    "\n",
    "# Print the model summary\n",
    "model.summary()\n"
   ]
  },
  {
   "cell_type": "code",
   "execution_count": 66,
   "metadata": {},
   "outputs": [
    {
     "name": "stdout",
     "output_type": "stream",
     "text": [
      "Epoch 1/7\n",
      "\u001b[1m1007/1007\u001b[0m \u001b[32m━━━━━━━━━━━━━━━━━━━━\u001b[0m\u001b[37m\u001b[0m \u001b[1m39s\u001b[0m 38ms/step - loss: 1423126784.0000 - mae: 23841.0391 - val_loss: 58777284.0000 - val_mae: 6558.4883\n",
      "Epoch 2/7\n",
      "\u001b[1m1007/1007\u001b[0m \u001b[32m━━━━━━━━━━━━━━━━━━━━\u001b[0m\u001b[37m\u001b[0m \u001b[1m37s\u001b[0m 37ms/step - loss: 58368492.0000 - mae: 6536.9033 - val_loss: 58535816.0000 - val_mae: 6546.7798\n",
      "Epoch 3/7\n",
      "\u001b[1m1007/1007\u001b[0m \u001b[32m━━━━━━━━━━━━━━━━━━━━\u001b[0m\u001b[37m\u001b[0m \u001b[1m38s\u001b[0m 37ms/step - loss: 58288096.0000 - mae: 6532.2832 - val_loss: 59706804.0000 - val_mae: 6593.3276\n",
      "Epoch 4/7\n",
      "\u001b[1m1007/1007\u001b[0m \u001b[32m━━━━━━━━━━━━━━━━━━━━\u001b[0m\u001b[37m\u001b[0m \u001b[1m39s\u001b[0m 39ms/step - loss: 58506628.0000 - mae: 6541.1636 - val_loss: 58467860.0000 - val_mae: 6545.6772\n",
      "Epoch 5/7\n",
      "\u001b[1m1007/1007\u001b[0m \u001b[32m━━━━━━━━━━━━━━━━━━━━\u001b[0m\u001b[37m\u001b[0m \u001b[1m40s\u001b[0m 39ms/step - loss: 58434436.0000 - mae: 6535.5137 - val_loss: 58505912.0000 - val_mae: 6548.6470\n",
      "Epoch 6/7\n",
      "\u001b[1m1007/1007\u001b[0m \u001b[32m━━━━━━━━━━━━━━━━━━━━\u001b[0m\u001b[37m\u001b[0m \u001b[1m40s\u001b[0m 39ms/step - loss: 58570888.0000 - mae: 6545.8291 - val_loss: 58545308.0000 - val_mae: 6549.2495\n",
      "Epoch 7/7\n",
      "\u001b[1m1007/1007\u001b[0m \u001b[32m━━━━━━━━━━━━━━━━━━━━\u001b[0m\u001b[37m\u001b[0m \u001b[1m40s\u001b[0m 39ms/step - loss: 58408052.0000 - mae: 6536.3555 - val_loss: 58509680.0000 - val_mae: 6549.0913\n"
     ]
    }
   ],
   "source": [
    "history = model.fit(X_train, y_train, epochs=7, validation_split=0.2, batch_size=1024)"
   ]
  },
  {
   "cell_type": "code",
   "execution_count": 67,
   "metadata": {},
   "outputs": [
    {
     "name": "stdout",
     "output_type": "stream",
     "text": [
      "\u001b[1m10066/10066\u001b[0m \u001b[32m━━━━━━━━━━━━━━━━━━━━\u001b[0m\u001b[37m\u001b[0m \u001b[1m20s\u001b[0m 2ms/step - loss: 58373912.0000 - mae: 6538.5522\n",
      "Test MAE: 6535.275390625\n",
      "\u001b[1m10066/10066\u001b[0m \u001b[32m━━━━━━━━━━━━━━━━━━━━\u001b[0m\u001b[37m\u001b[0m \u001b[1m21s\u001b[0m 2ms/step\n",
      "Mean Squared Error (MSE): 58331051.22393701\n",
      "Root Mean Squared Error (RMSE): 7637.476757669186\n",
      "R-Squared (R²): -0.031585834689285\n"
     ]
    }
   ],
   "source": [
    "# Evaluate the model\n",
    "test_loss, test_mae = model.evaluate(X_test, y_test)\n",
    "print(f\"Test MAE: {test_mae}\")\n",
    "\n",
    "# Predict on the test set\n",
    "y_pred = model.predict(X_test)\n",
    "\n",
    "# Calculate MSE\n",
    "mse = mean_squared_error(y_test, y_pred)\n",
    "print(f\"Mean Squared Error (MSE): {mse}\")\n",
    "\n",
    "# Calculate RMSE\n",
    "rmse = np.sqrt(mse)\n",
    "print(f\"Root Mean Squared Error (RMSE): {rmse}\")\n",
    "\n",
    "# Calculate R-Squared\n",
    "r2 = r2_score(y_test, y_pred)\n",
    "print(f\"R-Squared (R²): {r2}\")"
   ]
  },
  {
   "cell_type": "code",
   "execution_count": 68,
   "metadata": {},
   "outputs": [
    {
     "name": "stderr",
     "output_type": "stream",
     "text": [
      "c:\\Users\\RC543\\AppData\\Local\\Programs\\Python\\Python312\\Lib\\site-packages\\keras\\src\\layers\\core\\dense.py:87: UserWarning: Do not pass an `input_shape`/`input_dim` argument to a layer. When using Sequential models, prefer using an `Input(shape)` object as the first layer in the model instead.\n",
      "  super().__init__(activity_regularizer=activity_regularizer, **kwargs)\n"
     ]
    },
    {
     "data": {
      "text/html": [
       "<pre style=\"white-space:pre;overflow-x:auto;line-height:normal;font-family:Menlo,'DejaVu Sans Mono',consolas,'Courier New',monospace\"><span style=\"font-weight: bold\">Model: \"sequential_8\"</span>\n",
       "</pre>\n"
      ],
      "text/plain": [
       "\u001b[1mModel: \"sequential_8\"\u001b[0m\n"
      ]
     },
     "metadata": {},
     "output_type": "display_data"
    },
    {
     "data": {
      "text/html": [
       "<pre style=\"white-space:pre;overflow-x:auto;line-height:normal;font-family:Menlo,'DejaVu Sans Mono',consolas,'Courier New',monospace\">┏━━━━━━━━━━━━━━━━━━━━━━━━━━━━━━━━━┳━━━━━━━━━━━━━━━━━━━━━━━━┳━━━━━━━━━━━━━━━┓\n",
       "┃<span style=\"font-weight: bold\"> Layer (type)                    </span>┃<span style=\"font-weight: bold\"> Output Shape           </span>┃<span style=\"font-weight: bold\">       Param # </span>┃\n",
       "┡━━━━━━━━━━━━━━━━━━━━━━━━━━━━━━━━━╇━━━━━━━━━━━━━━━━━━━━━━━━╇━━━━━━━━━━━━━━━┩\n",
       "│ dense_32 (<span style=\"color: #0087ff; text-decoration-color: #0087ff\">Dense</span>)                │ (<span style=\"color: #00d7ff; text-decoration-color: #00d7ff\">None</span>, <span style=\"color: #00af00; text-decoration-color: #00af00\">256</span>)            │        <span style=\"color: #00af00; text-decoration-color: #00af00\">49,408</span> │\n",
       "├─────────────────────────────────┼────────────────────────┼───────────────┤\n",
       "│ dense_33 (<span style=\"color: #0087ff; text-decoration-color: #0087ff\">Dense</span>)                │ (<span style=\"color: #00d7ff; text-decoration-color: #00d7ff\">None</span>, <span style=\"color: #00af00; text-decoration-color: #00af00\">1</span>)              │           <span style=\"color: #00af00; text-decoration-color: #00af00\">257</span> │\n",
       "└─────────────────────────────────┴────────────────────────┴───────────────┘\n",
       "</pre>\n"
      ],
      "text/plain": [
       "┏━━━━━━━━━━━━━━━━━━━━━━━━━━━━━━━━━┳━━━━━━━━━━━━━━━━━━━━━━━━┳━━━━━━━━━━━━━━━┓\n",
       "┃\u001b[1m \u001b[0m\u001b[1mLayer (type)                   \u001b[0m\u001b[1m \u001b[0m┃\u001b[1m \u001b[0m\u001b[1mOutput Shape          \u001b[0m\u001b[1m \u001b[0m┃\u001b[1m \u001b[0m\u001b[1m      Param #\u001b[0m\u001b[1m \u001b[0m┃\n",
       "┡━━━━━━━━━━━━━━━━━━━━━━━━━━━━━━━━━╇━━━━━━━━━━━━━━━━━━━━━━━━╇━━━━━━━━━━━━━━━┩\n",
       "│ dense_32 (\u001b[38;5;33mDense\u001b[0m)                │ (\u001b[38;5;45mNone\u001b[0m, \u001b[38;5;34m256\u001b[0m)            │        \u001b[38;5;34m49,408\u001b[0m │\n",
       "├─────────────────────────────────┼────────────────────────┼───────────────┤\n",
       "│ dense_33 (\u001b[38;5;33mDense\u001b[0m)                │ (\u001b[38;5;45mNone\u001b[0m, \u001b[38;5;34m1\u001b[0m)              │           \u001b[38;5;34m257\u001b[0m │\n",
       "└─────────────────────────────────┴────────────────────────┴───────────────┘\n"
      ]
     },
     "metadata": {},
     "output_type": "display_data"
    },
    {
     "data": {
      "text/html": [
       "<pre style=\"white-space:pre;overflow-x:auto;line-height:normal;font-family:Menlo,'DejaVu Sans Mono',consolas,'Courier New',monospace\"><span style=\"font-weight: bold\"> Total params: </span><span style=\"color: #00af00; text-decoration-color: #00af00\">49,665</span> (194.00 KB)\n",
       "</pre>\n"
      ],
      "text/plain": [
       "\u001b[1m Total params: \u001b[0m\u001b[38;5;34m49,665\u001b[0m (194.00 KB)\n"
      ]
     },
     "metadata": {},
     "output_type": "display_data"
    },
    {
     "data": {
      "text/html": [
       "<pre style=\"white-space:pre;overflow-x:auto;line-height:normal;font-family:Menlo,'DejaVu Sans Mono',consolas,'Courier New',monospace\"><span style=\"font-weight: bold\"> Trainable params: </span><span style=\"color: #00af00; text-decoration-color: #00af00\">49,665</span> (194.00 KB)\n",
       "</pre>\n"
      ],
      "text/plain": [
       "\u001b[1m Trainable params: \u001b[0m\u001b[38;5;34m49,665\u001b[0m (194.00 KB)\n"
      ]
     },
     "metadata": {},
     "output_type": "display_data"
    },
    {
     "data": {
      "text/html": [
       "<pre style=\"white-space:pre;overflow-x:auto;line-height:normal;font-family:Menlo,'DejaVu Sans Mono',consolas,'Courier New',monospace\"><span style=\"font-weight: bold\"> Non-trainable params: </span><span style=\"color: #00af00; text-decoration-color: #00af00\">0</span> (0.00 B)\n",
       "</pre>\n"
      ],
      "text/plain": [
       "\u001b[1m Non-trainable params: \u001b[0m\u001b[38;5;34m0\u001b[0m (0.00 B)\n"
      ]
     },
     "metadata": {},
     "output_type": "display_data"
    }
   ],
   "source": [
    "import math \n",
    "\n",
    "# Custom quadratic activation function\n",
    "def quadratic_activation(x):\n",
    "    return tf.math.square(x)\n",
    "\n",
    "# Register the custom activation function so that it can be used with Keras models\n",
    "tf.keras.utils.get_custom_objects().update({'quadratic_activation': layers.Activation(quadratic_activation)})\n",
    "\n",
    "# Build the neural network model with a quadratic output layer\n",
    "model = models.Sequential([\n",
    "    layers.Dense(256, activation='relu', input_shape=(X_train.shape[1],)),\n",
    "    layers.Dense(1, activation=quadratic_activation)  # Custom quadratic activation function\n",
    "])\n",
    "\n",
    "# Compile the model\n",
    "model.compile(optimizer='adam', loss='mse', metrics=['mae'])\n",
    "\n",
    "# Print the model summary\n",
    "model.summary()\n"
   ]
  },
  {
   "cell_type": "code",
   "execution_count": 69,
   "metadata": {},
   "outputs": [
    {
     "name": "stdout",
     "output_type": "stream",
     "text": [
      "Epoch 1/7\n",
      "\u001b[1m1007/1007\u001b[0m \u001b[32m━━━━━━━━━━━━━━━━━━━━\u001b[0m\u001b[37m\u001b[0m \u001b[1m33s\u001b[0m 32ms/step - loss: 4201751552.0000 - mae: 56224.8086 - val_loss: 73488416.0000 - val_mae: 7125.0347\n",
      "Epoch 2/7\n",
      "\u001b[1m1007/1007\u001b[0m \u001b[32m━━━━━━━━━━━━━━━━━━━━\u001b[0m\u001b[37m\u001b[0m \u001b[1m32s\u001b[0m 32ms/step - loss: 66532076.0000 - mae: 6859.6108 - val_loss: 58941100.0000 - val_mae: 6564.7524\n",
      "Epoch 3/7\n",
      "\u001b[1m1007/1007\u001b[0m \u001b[32m━━━━━━━━━━━━━━━━━━━━\u001b[0m\u001b[37m\u001b[0m \u001b[1m33s\u001b[0m 33ms/step - loss: 58318056.0000 - mae: 6535.7568 - val_loss: 57758460.0000 - val_mae: 6520.2939\n",
      "Epoch 4/7\n",
      "\u001b[1m1007/1007\u001b[0m \u001b[32m━━━━━━━━━━━━━━━━━━━━\u001b[0m\u001b[37m\u001b[0m \u001b[1m33s\u001b[0m 33ms/step - loss: 57493484.0000 - mae: 6503.6807 - val_loss: 57437472.0000 - val_mae: 6506.4478\n",
      "Epoch 5/7\n",
      "\u001b[1m1007/1007\u001b[0m \u001b[32m━━━━━━━━━━━━━━━━━━━━\u001b[0m\u001b[37m\u001b[0m \u001b[1m33s\u001b[0m 33ms/step - loss: 57333852.0000 - mae: 6498.0752 - val_loss: 57512580.0000 - val_mae: 6508.8330\n",
      "Epoch 6/7\n",
      "\u001b[1m1007/1007\u001b[0m \u001b[32m━━━━━━━━━━━━━━━━━━━━\u001b[0m\u001b[37m\u001b[0m \u001b[1m36s\u001b[0m 36ms/step - loss: 57287496.0000 - mae: 6496.0645 - val_loss: 57414452.0000 - val_mae: 6505.7778\n",
      "Epoch 7/7\n",
      "\u001b[1m1007/1007\u001b[0m \u001b[32m━━━━━━━━━━━━━━━━━━━━\u001b[0m\u001b[37m\u001b[0m \u001b[1m35s\u001b[0m 34ms/step - loss: 57182004.0000 - mae: 6491.8179 - val_loss: 57331308.0000 - val_mae: 6502.2744\n"
     ]
    }
   ],
   "source": [
    "history = model.fit(X_train, y_train, epochs=7, validation_split=0.2, batch_size=1024)"
   ]
  },
  {
   "cell_type": "code",
   "execution_count": 70,
   "metadata": {},
   "outputs": [
    {
     "name": "stdout",
     "output_type": "stream",
     "text": [
      "\u001b[1m10066/10066\u001b[0m \u001b[32m━━━━━━━━━━━━━━━━━━━━\u001b[0m\u001b[37m\u001b[0m \u001b[1m19s\u001b[0m 2ms/step - loss: 57136916.0000 - mae: 6490.4751\n",
      "Test MAE: 6486.2109375\n",
      "\u001b[1m10066/10066\u001b[0m \u001b[32m━━━━━━━━━━━━━━━━━━━━\u001b[0m\u001b[37m\u001b[0m \u001b[1m19s\u001b[0m 2ms/step\n",
      "Mean Squared Error (MSE): 57109248.87607326\n",
      "Root Mean Squared Error (RMSE): 7557.066155332588\n",
      "R-Squared (R²): -0.009978235162103388\n"
     ]
    }
   ],
   "source": [
    "# Evaluate the model\n",
    "test_loss, test_mae = model.evaluate(X_test, y_test)\n",
    "print(f\"Test MAE: {test_mae}\")\n",
    "\n",
    "# Predict on the test set\n",
    "y_pred = model.predict(X_test)\n",
    "\n",
    "# Calculate MSE\n",
    "mse = mean_squared_error(y_test, y_pred)\n",
    "print(f\"Mean Squared Error (MSE): {mse}\")\n",
    "\n",
    "# Calculate RMSE\n",
    "rmse = np.sqrt(mse)\n",
    "print(f\"Root Mean Squared Error (RMSE): {rmse}\")\n",
    "\n",
    "# Calculate R-Squared\n",
    "r2 = r2_score(y_test, y_pred)\n",
    "print(f\"R-Squared (R²): {r2}\")"
   ]
  },
  {
   "cell_type": "code",
   "execution_count": 74,
   "metadata": {},
   "outputs": [
    {
     "name": "stderr",
     "output_type": "stream",
     "text": [
      "c:\\Users\\RC543\\AppData\\Local\\Programs\\Python\\Python312\\Lib\\site-packages\\keras\\src\\layers\\core\\dense.py:87: UserWarning: Do not pass an `input_shape`/`input_dim` argument to a layer. When using Sequential models, prefer using an `Input(shape)` object as the first layer in the model instead.\n",
      "  super().__init__(activity_regularizer=activity_regularizer, **kwargs)\n"
     ]
    },
    {
     "data": {
      "text/html": [
       "<pre style=\"white-space:pre;overflow-x:auto;line-height:normal;font-family:Menlo,'DejaVu Sans Mono',consolas,'Courier New',monospace\"><span style=\"font-weight: bold\">Model: \"sequential_9\"</span>\n",
       "</pre>\n"
      ],
      "text/plain": [
       "\u001b[1mModel: \"sequential_9\"\u001b[0m\n"
      ]
     },
     "metadata": {},
     "output_type": "display_data"
    },
    {
     "data": {
      "text/html": [
       "<pre style=\"white-space:pre;overflow-x:auto;line-height:normal;font-family:Menlo,'DejaVu Sans Mono',consolas,'Courier New',monospace\">┏━━━━━━━━━━━━━━━━━━━━━━━━━━━━━━━━━┳━━━━━━━━━━━━━━━━━━━━━━━━┳━━━━━━━━━━━━━━━┓\n",
       "┃<span style=\"font-weight: bold\"> Layer (type)                    </span>┃<span style=\"font-weight: bold\"> Output Shape           </span>┃<span style=\"font-weight: bold\">       Param # </span>┃\n",
       "┡━━━━━━━━━━━━━━━━━━━━━━━━━━━━━━━━━╇━━━━━━━━━━━━━━━━━━━━━━━━╇━━━━━━━━━━━━━━━┩\n",
       "│ dense_34 (<span style=\"color: #0087ff; text-decoration-color: #0087ff\">Dense</span>)                │ (<span style=\"color: #00d7ff; text-decoration-color: #00d7ff\">None</span>, <span style=\"color: #00af00; text-decoration-color: #00af00\">256</span>)            │        <span style=\"color: #00af00; text-decoration-color: #00af00\">49,408</span> │\n",
       "├─────────────────────────────────┼────────────────────────┼───────────────┤\n",
       "│ dense_35 (<span style=\"color: #0087ff; text-decoration-color: #0087ff\">Dense</span>)                │ (<span style=\"color: #00d7ff; text-decoration-color: #00d7ff\">None</span>, <span style=\"color: #00af00; text-decoration-color: #00af00\">1</span>)              │           <span style=\"color: #00af00; text-decoration-color: #00af00\">257</span> │\n",
       "└─────────────────────────────────┴────────────────────────┴───────────────┘\n",
       "</pre>\n"
      ],
      "text/plain": [
       "┏━━━━━━━━━━━━━━━━━━━━━━━━━━━━━━━━━┳━━━━━━━━━━━━━━━━━━━━━━━━┳━━━━━━━━━━━━━━━┓\n",
       "┃\u001b[1m \u001b[0m\u001b[1mLayer (type)                   \u001b[0m\u001b[1m \u001b[0m┃\u001b[1m \u001b[0m\u001b[1mOutput Shape          \u001b[0m\u001b[1m \u001b[0m┃\u001b[1m \u001b[0m\u001b[1m      Param #\u001b[0m\u001b[1m \u001b[0m┃\n",
       "┡━━━━━━━━━━━━━━━━━━━━━━━━━━━━━━━━━╇━━━━━━━━━━━━━━━━━━━━━━━━╇━━━━━━━━━━━━━━━┩\n",
       "│ dense_34 (\u001b[38;5;33mDense\u001b[0m)                │ (\u001b[38;5;45mNone\u001b[0m, \u001b[38;5;34m256\u001b[0m)            │        \u001b[38;5;34m49,408\u001b[0m │\n",
       "├─────────────────────────────────┼────────────────────────┼───────────────┤\n",
       "│ dense_35 (\u001b[38;5;33mDense\u001b[0m)                │ (\u001b[38;5;45mNone\u001b[0m, \u001b[38;5;34m1\u001b[0m)              │           \u001b[38;5;34m257\u001b[0m │\n",
       "└─────────────────────────────────┴────────────────────────┴───────────────┘\n"
      ]
     },
     "metadata": {},
     "output_type": "display_data"
    },
    {
     "data": {
      "text/html": [
       "<pre style=\"white-space:pre;overflow-x:auto;line-height:normal;font-family:Menlo,'DejaVu Sans Mono',consolas,'Courier New',monospace\"><span style=\"font-weight: bold\"> Total params: </span><span style=\"color: #00af00; text-decoration-color: #00af00\">49,665</span> (194.00 KB)\n",
       "</pre>\n"
      ],
      "text/plain": [
       "\u001b[1m Total params: \u001b[0m\u001b[38;5;34m49,665\u001b[0m (194.00 KB)\n"
      ]
     },
     "metadata": {},
     "output_type": "display_data"
    },
    {
     "data": {
      "text/html": [
       "<pre style=\"white-space:pre;overflow-x:auto;line-height:normal;font-family:Menlo,'DejaVu Sans Mono',consolas,'Courier New',monospace\"><span style=\"font-weight: bold\"> Trainable params: </span><span style=\"color: #00af00; text-decoration-color: #00af00\">49,665</span> (194.00 KB)\n",
       "</pre>\n"
      ],
      "text/plain": [
       "\u001b[1m Trainable params: \u001b[0m\u001b[38;5;34m49,665\u001b[0m (194.00 KB)\n"
      ]
     },
     "metadata": {},
     "output_type": "display_data"
    },
    {
     "data": {
      "text/html": [
       "<pre style=\"white-space:pre;overflow-x:auto;line-height:normal;font-family:Menlo,'DejaVu Sans Mono',consolas,'Courier New',monospace\"><span style=\"font-weight: bold\"> Non-trainable params: </span><span style=\"color: #00af00; text-decoration-color: #00af00\">0</span> (0.00 B)\n",
       "</pre>\n"
      ],
      "text/plain": [
       "\u001b[1m Non-trainable params: \u001b[0m\u001b[38;5;34m0\u001b[0m (0.00 B)\n"
      ]
     },
     "metadata": {},
     "output_type": "display_data"
    }
   ],
   "source": [
    "\n",
    "from tensorflow.keras.optimizers import Adam\n",
    "\n",
    "# Custom quadratic activation function\n",
    "def quadratic_activation(x):\n",
    "    return tf.math.square(x)\n",
    "\n",
    "# Register the custom activation function so that it can be used with Keras models\n",
    "tf.keras.utils.get_custom_objects().update({'quadratic_activation': layers.Activation(quadratic_activation)})\n",
    "\n",
    "# Build the neural network model with a quadratic output layer\n",
    "model = models.Sequential([\n",
    "    layers.Dense(256, activation='relu', input_shape=(X_train.shape[1],)),\n",
    "    layers.Dense(1, activation=quadratic_activation)  # Custom quadratic activation function\n",
    "])\n",
    "\n",
    "# Compile the model\n",
    "\n",
    "\n",
    "# Example: Reduce learning rate\n",
    "model.compile(optimizer=Adam(learning_rate=0.0001), loss='mse', metrics=['mae'])\n",
    "\n",
    "\n",
    "# Print the model summary\n",
    "model.summary()\n"
   ]
  },
  {
   "cell_type": "code",
   "execution_count": 76,
   "metadata": {},
   "outputs": [
    {
     "name": "stdout",
     "output_type": "stream",
     "text": [
      "Epoch 1/5\n",
      "\u001b[1m16105/16105\u001b[0m \u001b[32m━━━━━━━━━━━━━━━━━━━━\u001b[0m\u001b[37m\u001b[0m \u001b[1m66s\u001b[0m 4ms/step - loss: 57010468.0000 - mae: 6486.1514 - val_loss: 57105804.0000 - val_mae: 6494.2256\n",
      "Epoch 2/5\n",
      "\u001b[1m16105/16105\u001b[0m \u001b[32m━━━━━━━━━━━━━━━━━━━━\u001b[0m\u001b[37m\u001b[0m \u001b[1m66s\u001b[0m 4ms/step - loss: 57020184.0000 - mae: 6486.4023 - val_loss: 57115528.0000 - val_mae: 6494.1899\n",
      "Epoch 3/5\n",
      "\u001b[1m16105/16105\u001b[0m \u001b[32m━━━━━━━━━━━━━━━━━━━━\u001b[0m\u001b[37m\u001b[0m \u001b[1m67s\u001b[0m 4ms/step - loss: 56949984.0000 - mae: 6482.0332 - val_loss: 57063708.0000 - val_mae: 6492.3311\n",
      "Epoch 4/5\n",
      "\u001b[1m16105/16105\u001b[0m \u001b[32m━━━━━━━━━━━━━━━━━━━━\u001b[0m\u001b[37m\u001b[0m \u001b[1m66s\u001b[0m 4ms/step - loss: 56915460.0000 - mae: 6478.6211 - val_loss: 57193096.0000 - val_mae: 6496.3184\n",
      "Epoch 5/5\n",
      "\u001b[1m16105/16105\u001b[0m \u001b[32m━━━━━━━━━━━━━━━━━━━━\u001b[0m\u001b[37m\u001b[0m \u001b[1m65s\u001b[0m 4ms/step - loss: 56917060.0000 - mae: 6481.3384 - val_loss: 57118172.0000 - val_mae: 6494.8052\n"
     ]
    }
   ],
   "source": [
    "# Train for more epochs\n",
    "history = model.fit(X_train, y_train, epochs=5, validation_split=0.2, batch_size=64)"
   ]
  },
  {
   "cell_type": "code",
   "execution_count": 77,
   "metadata": {},
   "outputs": [
    {
     "name": "stdout",
     "output_type": "stream",
     "text": [
      "\u001b[1m10066/10066\u001b[0m \u001b[32m━━━━━━━━━━━━━━━━━━━━\u001b[0m\u001b[37m\u001b[0m \u001b[1m18s\u001b[0m 2ms/step - loss: 56922140.0000 - mae: 6482.2427\n",
      "Test MAE: 6478.4423828125\n",
      "\u001b[1m10066/10066\u001b[0m \u001b[32m━━━━━━━━━━━━━━━━━━━━\u001b[0m\u001b[37m\u001b[0m \u001b[1m19s\u001b[0m 2ms/step\n",
      "Mean Squared Error (MSE): 56897710.77477686\n",
      "Root Mean Squared Error (RMSE): 7543.0571239237515\n",
      "R-Squared (R²): -0.006237179511371593\n"
     ]
    }
   ],
   "source": [
    "\n",
    "test_loss, test_mae = model.evaluate(X_test, y_test)\n",
    "print(f\"Test MAE: {test_mae}\")\n",
    "\n",
    "# Predict on the test set\n",
    "y_pred = model.predict(X_test)\n",
    "\n",
    "# Calculate MSE\n",
    "mse = mean_squared_error(y_test, y_pred)\n",
    "print(f\"Mean Squared Error (MSE): {mse}\")\n",
    "\n",
    "# Calculate RMSE\n",
    "rmse = np.sqrt(mse)\n",
    "print(f\"Root Mean Squared Error (RMSE): {rmse}\")\n",
    "\n",
    "# Calculate R-Squared\n",
    "r2 = r2_score(y_test, y_pred)\n",
    "print(f\"R-Squared (R²): {r2}\")"
   ]
  }
 ],
 "metadata": {
  "kernelspec": {
   "display_name": "Python 3",
   "language": "python",
   "name": "python3"
  },
  "language_info": {
   "codemirror_mode": {
    "name": "ipython",
    "version": 3
   },
   "file_extension": ".py",
   "mimetype": "text/x-python",
   "name": "python",
   "nbconvert_exporter": "python",
   "pygments_lexer": "ipython3",
   "version": "3.12.1"
  }
 },
 "nbformat": 4,
 "nbformat_minor": 2
}
